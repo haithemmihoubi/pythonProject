{
 "cells": [
  {
   "cell_type": "code",
   "execution_count": 10,
   "metadata": {
    "pycharm": {
     "name": "#%%\n"
    }
   },
   "outputs": [
    {
     "name": "stdout",
     "output_type": "stream",
     "text": [
      "('localhost', 27017) Port = 27017 Host = localhost <bound method MongoClient.__next__ of MongoClient(host=['localhost:27017'], document_class=dict, tz_aware=False, connect=True)>\n"
     ]
    }
   ],
   "source": [
    "#connecting to mongo client\n",
    "import json\n",
    "import pymongo\n",
    "from pymongo import MongoClient\n",
    "client = MongoClient('mongodb://localhost:27017/')\n",
    "print(client.address, \"Port =\", client.PORT, \"Host =\", client.HOST, client.next)\n",
    "#run this to have greetings"
   ]
  },
  {
   "cell_type": "code",
   "execution_count": 11,
   "metadata": {
    "pycharm": {
     "name": "#%%\n"
    }
   },
   "outputs": [],
   "source": [
    "#listing all the collections in the  mongo databse( )\n",
    "dbs = client.list_database_names()\n",
    "#[db for db in dbs]\n",
    "#% Now let's create a new database called cinema\n",
    "mydb = client[\"cinema\"]"
   ]
  },
  {
   "cell_type": "code",
   "execution_count": 12,
   "outputs": [
    {
     "name": "stdout",
     "output_type": "stream",
     "text": [
      "The database exists.\n"
     ]
    }
   ],
   "source": [
    "#let's check if the bd is added into the mongoDb cluster\n",
    "dblist = client.list_database_names()\n",
    "if \"cinema\" in dblist:\n",
    "    print(\"The database exists.\")"
   ],
   "metadata": {
    "collapsed": false,
    "pycharm": {
     "name": "#%%\n"
    }
   }
  },
  {
   "cell_type": "code",
   "execution_count": 13,
   "outputs": [],
   "source": [
    "mycol = mydb[\"movies\"]"
   ],
   "metadata": {
    "collapsed": false,
    "pycharm": {
     "name": "#%%  let's create  a new collection called movies into cinema database\n"
    }
   }
  },
  {
   "cell_type": "code",
   "execution_count": 14,
   "outputs": [
    {
     "name": "stdout",
     "output_type": "stream",
     "text": [
      "Hey don't  WORRY movies  Collection is added successfully\n"
     ]
    }
   ],
   "source": [
    "#checking the collection names\n",
    "addedCollection = mydb.list_collection_names()\n",
    "if \"movies\" in addedCollection:\n",
    "    print(\"Hey don't  WORRY movies  Collection is added successfully\")\n",
    "else:\n",
    "    print(\"It seems like your collection hasn't been added\")"
   ],
   "metadata": {
    "collapsed": false,
    "pycharm": {
     "name": "#%%\n"
    }
   }
  },
  {
   "cell_type": "code",
   "execution_count": 15,
   "outputs": [
    {
     "ename": "FileNotFoundError",
     "evalue": "[Errno 2] No such file or directory: 'datsets/movies.csv'",
     "output_type": "error",
     "traceback": [
      "\u001B[1;31m---------------------------------------------------------------------------\u001B[0m",
      "\u001B[1;31mFileNotFoundError\u001B[0m                         Traceback (most recent call last)",
      "\u001B[1;32mC:\\Users\\HAITHE~1\\AppData\\Local\\Temp/ipykernel_15384/273525087.py\u001B[0m in \u001B[0;36m<module>\u001B[1;34m\u001B[0m\n\u001B[0;32m      3\u001B[0m \u001B[1;32mimport\u001B[0m \u001B[0mjson\u001B[0m\u001B[1;33m\u001B[0m\u001B[1;33m\u001B[0m\u001B[0m\n\u001B[0;32m      4\u001B[0m \u001B[1;33m\u001B[0m\u001B[0m\n\u001B[1;32m----> 5\u001B[1;33m \u001B[0mdatafile\u001B[0m \u001B[1;33m=\u001B[0m \u001B[0mpd\u001B[0m\u001B[1;33m.\u001B[0m\u001B[0mread_csv\u001B[0m\u001B[1;33m(\u001B[0m\u001B[1;34m\"datsets/movies.csv\"\u001B[0m\u001B[1;33m)\u001B[0m\u001B[1;33m\u001B[0m\u001B[1;33m\u001B[0m\u001B[0m\n\u001B[0m\u001B[0;32m      6\u001B[0m \u001B[1;33m\u001B[0m\u001B[0m\n",
      "\u001B[1;32mc:\\users\\haithem mihoubi\\pycharmprojects\\pythonproject\\venv\\lib\\site-packages\\pandas\\util\\_decorators.py\u001B[0m in \u001B[0;36mwrapper\u001B[1;34m(*args, **kwargs)\u001B[0m\n\u001B[0;32m    309\u001B[0m                     \u001B[0mstacklevel\u001B[0m\u001B[1;33m=\u001B[0m\u001B[0mstacklevel\u001B[0m\u001B[1;33m,\u001B[0m\u001B[1;33m\u001B[0m\u001B[1;33m\u001B[0m\u001B[0m\n\u001B[0;32m    310\u001B[0m                 )\n\u001B[1;32m--> 311\u001B[1;33m             \u001B[1;32mreturn\u001B[0m \u001B[0mfunc\u001B[0m\u001B[1;33m(\u001B[0m\u001B[1;33m*\u001B[0m\u001B[0margs\u001B[0m\u001B[1;33m,\u001B[0m \u001B[1;33m**\u001B[0m\u001B[0mkwargs\u001B[0m\u001B[1;33m)\u001B[0m\u001B[1;33m\u001B[0m\u001B[1;33m\u001B[0m\u001B[0m\n\u001B[0m\u001B[0;32m    312\u001B[0m \u001B[1;33m\u001B[0m\u001B[0m\n\u001B[0;32m    313\u001B[0m         \u001B[1;32mreturn\u001B[0m \u001B[0mwrapper\u001B[0m\u001B[1;33m\u001B[0m\u001B[1;33m\u001B[0m\u001B[0m\n",
      "\u001B[1;32mc:\\users\\haithem mihoubi\\pycharmprojects\\pythonproject\\venv\\lib\\site-packages\\pandas\\io\\parsers\\readers.py\u001B[0m in \u001B[0;36mread_csv\u001B[1;34m(filepath_or_buffer, sep, delimiter, header, names, index_col, usecols, squeeze, prefix, mangle_dupe_cols, dtype, engine, converters, true_values, false_values, skipinitialspace, skiprows, skipfooter, nrows, na_values, keep_default_na, na_filter, verbose, skip_blank_lines, parse_dates, infer_datetime_format, keep_date_col, date_parser, dayfirst, cache_dates, iterator, chunksize, compression, thousands, decimal, lineterminator, quotechar, quoting, doublequote, escapechar, comment, encoding, encoding_errors, dialect, error_bad_lines, warn_bad_lines, on_bad_lines, delim_whitespace, low_memory, memory_map, float_precision, storage_options)\u001B[0m\n\u001B[0;32m    584\u001B[0m     \u001B[0mkwds\u001B[0m\u001B[1;33m.\u001B[0m\u001B[0mupdate\u001B[0m\u001B[1;33m(\u001B[0m\u001B[0mkwds_defaults\u001B[0m\u001B[1;33m)\u001B[0m\u001B[1;33m\u001B[0m\u001B[1;33m\u001B[0m\u001B[0m\n\u001B[0;32m    585\u001B[0m \u001B[1;33m\u001B[0m\u001B[0m\n\u001B[1;32m--> 586\u001B[1;33m     \u001B[1;32mreturn\u001B[0m \u001B[0m_read\u001B[0m\u001B[1;33m(\u001B[0m\u001B[0mfilepath_or_buffer\u001B[0m\u001B[1;33m,\u001B[0m \u001B[0mkwds\u001B[0m\u001B[1;33m)\u001B[0m\u001B[1;33m\u001B[0m\u001B[1;33m\u001B[0m\u001B[0m\n\u001B[0m\u001B[0;32m    587\u001B[0m \u001B[1;33m\u001B[0m\u001B[0m\n\u001B[0;32m    588\u001B[0m \u001B[1;33m\u001B[0m\u001B[0m\n",
      "\u001B[1;32mc:\\users\\haithem mihoubi\\pycharmprojects\\pythonproject\\venv\\lib\\site-packages\\pandas\\io\\parsers\\readers.py\u001B[0m in \u001B[0;36m_read\u001B[1;34m(filepath_or_buffer, kwds)\u001B[0m\n\u001B[0;32m    480\u001B[0m \u001B[1;33m\u001B[0m\u001B[0m\n\u001B[0;32m    481\u001B[0m     \u001B[1;31m# Create the parser.\u001B[0m\u001B[1;33m\u001B[0m\u001B[1;33m\u001B[0m\u001B[1;33m\u001B[0m\u001B[0m\n\u001B[1;32m--> 482\u001B[1;33m     \u001B[0mparser\u001B[0m \u001B[1;33m=\u001B[0m \u001B[0mTextFileReader\u001B[0m\u001B[1;33m(\u001B[0m\u001B[0mfilepath_or_buffer\u001B[0m\u001B[1;33m,\u001B[0m \u001B[1;33m**\u001B[0m\u001B[0mkwds\u001B[0m\u001B[1;33m)\u001B[0m\u001B[1;33m\u001B[0m\u001B[1;33m\u001B[0m\u001B[0m\n\u001B[0m\u001B[0;32m    483\u001B[0m \u001B[1;33m\u001B[0m\u001B[0m\n\u001B[0;32m    484\u001B[0m     \u001B[1;32mif\u001B[0m \u001B[0mchunksize\u001B[0m \u001B[1;32mor\u001B[0m \u001B[0miterator\u001B[0m\u001B[1;33m:\u001B[0m\u001B[1;33m\u001B[0m\u001B[1;33m\u001B[0m\u001B[0m\n",
      "\u001B[1;32mc:\\users\\haithem mihoubi\\pycharmprojects\\pythonproject\\venv\\lib\\site-packages\\pandas\\io\\parsers\\readers.py\u001B[0m in \u001B[0;36m__init__\u001B[1;34m(self, f, engine, **kwds)\u001B[0m\n\u001B[0;32m    809\u001B[0m             \u001B[0mself\u001B[0m\u001B[1;33m.\u001B[0m\u001B[0moptions\u001B[0m\u001B[1;33m[\u001B[0m\u001B[1;34m\"has_index_names\"\u001B[0m\u001B[1;33m]\u001B[0m \u001B[1;33m=\u001B[0m \u001B[0mkwds\u001B[0m\u001B[1;33m[\u001B[0m\u001B[1;34m\"has_index_names\"\u001B[0m\u001B[1;33m]\u001B[0m\u001B[1;33m\u001B[0m\u001B[1;33m\u001B[0m\u001B[0m\n\u001B[0;32m    810\u001B[0m \u001B[1;33m\u001B[0m\u001B[0m\n\u001B[1;32m--> 811\u001B[1;33m         \u001B[0mself\u001B[0m\u001B[1;33m.\u001B[0m\u001B[0m_engine\u001B[0m \u001B[1;33m=\u001B[0m \u001B[0mself\u001B[0m\u001B[1;33m.\u001B[0m\u001B[0m_make_engine\u001B[0m\u001B[1;33m(\u001B[0m\u001B[0mself\u001B[0m\u001B[1;33m.\u001B[0m\u001B[0mengine\u001B[0m\u001B[1;33m)\u001B[0m\u001B[1;33m\u001B[0m\u001B[1;33m\u001B[0m\u001B[0m\n\u001B[0m\u001B[0;32m    812\u001B[0m \u001B[1;33m\u001B[0m\u001B[0m\n\u001B[0;32m    813\u001B[0m     \u001B[1;32mdef\u001B[0m \u001B[0mclose\u001B[0m\u001B[1;33m(\u001B[0m\u001B[0mself\u001B[0m\u001B[1;33m)\u001B[0m\u001B[1;33m:\u001B[0m\u001B[1;33m\u001B[0m\u001B[1;33m\u001B[0m\u001B[0m\n",
      "\u001B[1;32mc:\\users\\haithem mihoubi\\pycharmprojects\\pythonproject\\venv\\lib\\site-packages\\pandas\\io\\parsers\\readers.py\u001B[0m in \u001B[0;36m_make_engine\u001B[1;34m(self, engine)\u001B[0m\n\u001B[0;32m   1038\u001B[0m             )\n\u001B[0;32m   1039\u001B[0m         \u001B[1;31m# error: Too many arguments for \"ParserBase\"\u001B[0m\u001B[1;33m\u001B[0m\u001B[1;33m\u001B[0m\u001B[1;33m\u001B[0m\u001B[0m\n\u001B[1;32m-> 1040\u001B[1;33m         \u001B[1;32mreturn\u001B[0m \u001B[0mmapping\u001B[0m\u001B[1;33m[\u001B[0m\u001B[0mengine\u001B[0m\u001B[1;33m]\u001B[0m\u001B[1;33m(\u001B[0m\u001B[0mself\u001B[0m\u001B[1;33m.\u001B[0m\u001B[0mf\u001B[0m\u001B[1;33m,\u001B[0m \u001B[1;33m**\u001B[0m\u001B[0mself\u001B[0m\u001B[1;33m.\u001B[0m\u001B[0moptions\u001B[0m\u001B[1;33m)\u001B[0m  \u001B[1;31m# type: ignore[call-arg]\u001B[0m\u001B[1;33m\u001B[0m\u001B[1;33m\u001B[0m\u001B[0m\n\u001B[0m\u001B[0;32m   1041\u001B[0m \u001B[1;33m\u001B[0m\u001B[0m\n\u001B[0;32m   1042\u001B[0m     \u001B[1;32mdef\u001B[0m \u001B[0m_failover_to_python\u001B[0m\u001B[1;33m(\u001B[0m\u001B[0mself\u001B[0m\u001B[1;33m)\u001B[0m\u001B[1;33m:\u001B[0m\u001B[1;33m\u001B[0m\u001B[1;33m\u001B[0m\u001B[0m\n",
      "\u001B[1;32mc:\\users\\haithem mihoubi\\pycharmprojects\\pythonproject\\venv\\lib\\site-packages\\pandas\\io\\parsers\\c_parser_wrapper.py\u001B[0m in \u001B[0;36m__init__\u001B[1;34m(self, src, **kwds)\u001B[0m\n\u001B[0;32m     49\u001B[0m \u001B[1;33m\u001B[0m\u001B[0m\n\u001B[0;32m     50\u001B[0m         \u001B[1;31m# open handles\u001B[0m\u001B[1;33m\u001B[0m\u001B[1;33m\u001B[0m\u001B[1;33m\u001B[0m\u001B[0m\n\u001B[1;32m---> 51\u001B[1;33m         \u001B[0mself\u001B[0m\u001B[1;33m.\u001B[0m\u001B[0m_open_handles\u001B[0m\u001B[1;33m(\u001B[0m\u001B[0msrc\u001B[0m\u001B[1;33m,\u001B[0m \u001B[0mkwds\u001B[0m\u001B[1;33m)\u001B[0m\u001B[1;33m\u001B[0m\u001B[1;33m\u001B[0m\u001B[0m\n\u001B[0m\u001B[0;32m     52\u001B[0m         \u001B[1;32massert\u001B[0m \u001B[0mself\u001B[0m\u001B[1;33m.\u001B[0m\u001B[0mhandles\u001B[0m \u001B[1;32mis\u001B[0m \u001B[1;32mnot\u001B[0m \u001B[1;32mNone\u001B[0m\u001B[1;33m\u001B[0m\u001B[1;33m\u001B[0m\u001B[0m\n\u001B[0;32m     53\u001B[0m \u001B[1;33m\u001B[0m\u001B[0m\n",
      "\u001B[1;32mc:\\users\\haithem mihoubi\\pycharmprojects\\pythonproject\\venv\\lib\\site-packages\\pandas\\io\\parsers\\base_parser.py\u001B[0m in \u001B[0;36m_open_handles\u001B[1;34m(self, src, kwds)\u001B[0m\n\u001B[0;32m    220\u001B[0m         \u001B[0mLet\u001B[0m \u001B[0mthe\u001B[0m \u001B[0mreaders\u001B[0m \u001B[0mopen\u001B[0m \u001B[0mIOHandles\u001B[0m \u001B[0mafter\u001B[0m \u001B[0mthey\u001B[0m \u001B[0mare\u001B[0m \u001B[0mdone\u001B[0m \u001B[1;32mwith\u001B[0m \u001B[0mtheir\u001B[0m \u001B[0mpotential\u001B[0m \u001B[0mraises\u001B[0m\u001B[1;33m.\u001B[0m\u001B[1;33m\u001B[0m\u001B[1;33m\u001B[0m\u001B[0m\n\u001B[0;32m    221\u001B[0m         \"\"\"\n\u001B[1;32m--> 222\u001B[1;33m         self.handles = get_handle(\n\u001B[0m\u001B[0;32m    223\u001B[0m             \u001B[0msrc\u001B[0m\u001B[1;33m,\u001B[0m\u001B[1;33m\u001B[0m\u001B[1;33m\u001B[0m\u001B[0m\n\u001B[0;32m    224\u001B[0m             \u001B[1;34m\"r\"\u001B[0m\u001B[1;33m,\u001B[0m\u001B[1;33m\u001B[0m\u001B[1;33m\u001B[0m\u001B[0m\n",
      "\u001B[1;32mc:\\users\\haithem mihoubi\\pycharmprojects\\pythonproject\\venv\\lib\\site-packages\\pandas\\io\\common.py\u001B[0m in \u001B[0;36mget_handle\u001B[1;34m(path_or_buf, mode, encoding, compression, memory_map, is_text, errors, storage_options)\u001B[0m\n\u001B[0;32m    700\u001B[0m         \u001B[1;32mif\u001B[0m \u001B[0mioargs\u001B[0m\u001B[1;33m.\u001B[0m\u001B[0mencoding\u001B[0m \u001B[1;32mand\u001B[0m \u001B[1;34m\"b\"\u001B[0m \u001B[1;32mnot\u001B[0m \u001B[1;32min\u001B[0m \u001B[0mioargs\u001B[0m\u001B[1;33m.\u001B[0m\u001B[0mmode\u001B[0m\u001B[1;33m:\u001B[0m\u001B[1;33m\u001B[0m\u001B[1;33m\u001B[0m\u001B[0m\n\u001B[0;32m    701\u001B[0m             \u001B[1;31m# Encoding\u001B[0m\u001B[1;33m\u001B[0m\u001B[1;33m\u001B[0m\u001B[1;33m\u001B[0m\u001B[0m\n\u001B[1;32m--> 702\u001B[1;33m             handle = open(\n\u001B[0m\u001B[0;32m    703\u001B[0m                 \u001B[0mhandle\u001B[0m\u001B[1;33m,\u001B[0m\u001B[1;33m\u001B[0m\u001B[1;33m\u001B[0m\u001B[0m\n\u001B[0;32m    704\u001B[0m                 \u001B[0mioargs\u001B[0m\u001B[1;33m.\u001B[0m\u001B[0mmode\u001B[0m\u001B[1;33m,\u001B[0m\u001B[1;33m\u001B[0m\u001B[1;33m\u001B[0m\u001B[0m\n",
      "\u001B[1;31mFileNotFoundError\u001B[0m: [Errno 2] No such file or directory: 'datsets/movies.csv'"
     ]
    }
   ],
   "source": [
    " #let's import a movies.csv file which  located in the datasets folder in this project\n",
    "import pandas as pd\n",
    "import json\n",
    "\n",
    "datafile = pd.read_csv(\"datsets/movies.csv\")"
   ],
   "metadata": {
    "collapsed": false,
    "pycharm": {
     "name": "#%%\n"
    }
   }
  },
  {
   "cell_type": "code",
   "execution_count": null,
   "outputs": [],
   "source": [
    "# Now lets check if the file has been  read or not\n",
    "datafile.head()"
   ],
   "metadata": {
    "collapsed": false,
    "pycharm": {
     "name": "#%%\n"
    }
   }
  },
  {
   "cell_type": "code",
   "execution_count": null,
   "outputs": [],
   "source": [
    "# let'llok at the shape of this file using dhape method\n",
    "datafile.tail()"
   ],
   "metadata": {
    "collapsed": false,
    "pycharm": {
     "name": "#%%\n"
    }
   }
  },
  {
   "cell_type": "code",
   "execution_count": null,
   "outputs": [],
   "source": [
    "# let's conevert the csv file to a json to be added to the mongo because it stores data as BSON but we see it as json\n",
    "data = datafile.to_dict(orient=\"records\")"
   ],
   "metadata": {
    "collapsed": false,
    "pycharm": {
     "name": "#%%\n"
    }
   }
  },
  {
   "cell_type": "code",
   "execution_count": null,
   "outputs": [],
   "source": [
    "# listing the json data file whiwh has been already converted\n",
    "data"
   ],
   "metadata": {
    "collapsed": false,
    "pycharm": {
     "name": "#%%\n"
    }
   }
  },
  {
   "cell_type": "code",
   "execution_count": null,
   "outputs": [],
   "source": [
    "# Inserting the json data to the movies collection\n",
    "mydb.movies.insert_many(data)"
   ],
   "metadata": {
    "collapsed": false,
    "pycharm": {
     "name": "#%%\n"
    }
   }
  },
  {
   "cell_type": "code",
   "execution_count": null,
   "outputs": [],
   "source": [
    " # checking the collection  existance to ensure  if it is added successfully\n",
    "print(mydb.collection_names())"
   ],
   "metadata": {
    "collapsed": false,
    "pycharm": {
     "name": "#%%\n"
    }
   }
  },
  {
   "cell_type": "code",
   "execution_count": null,
   "outputs": [],
   "source": [
    "# let's try to  add  only one omovies into the collection\n",
    "newmovie1 = {\n",
    "    \"awards.nominations\": 63,\n",
    "    \"awards.text\": \"Won 11 Oscars. Another 116 wins & 63 nominations.\",\n",
    "    \"awards.wins\": 127,\n",
    "    \"cast\": [\"Leonardo DiCaprio\", \"Kate Winslet\", \"Billy Zane\", \"Kathy Bates\"],\n",
    "    \"directors\": [\"James Cameron\"],\n",
    "    \"genres\": [\"Drama\", \"Romance\"],\n",
    "    \"languages\": [\"English\", \"French\", \"German\", \"Swedish\", \"Italian\", \"Russian\"],\n",
    "    \"lastupdated\": 2010,\n",
    "    \"rated\": \"PG-13\",\n",
    "    \"released\": \"1997-12-19T00:00:00.000Z\",\n",
    "    \"title\": \"Titanic\",\n",
    "    \"year\": \"1997\"\n",
    "}\n",
    "mydb.movies.insert_one(newmovie1)"
   ],
   "metadata": {
    "collapsed": false,
    "pycharm": {
     "name": "#%%\n"
    }
   }
  },
  {
   "cell_type": "code",
   "execution_count": null,
   "outputs": [],
   "source": [
    "#Trying to add multiple movies as json format into the movies collection\n",
    "moviesList = [{\n",
    "    \"awards.nominations\": 63,\n",
    "    \"awards.text\": \"Won 20 Oscars. Another 50 wins & 50 nominations.\",\n",
    "    \"awards.wins\": 200,\n",
    "    \"cast\": [\"Kathy Bates\"],\n",
    "    \"directors\": [\"James Cameron\"],\n",
    "    \"genres\": [\"Drama\", \"fight\"],\n",
    "    \"languages\": [\"French\", \"German\", ],\n",
    "    \"lastupdated\": 1998,\n",
    "    \"rated\": \"PG-20\",\n",
    "    \"released\": \"1997-12-19T00:00:00.000Z\",\n",
    "    \"title\": \"head shot\",\n",
    "    \"year\": \"1997\"\n",
    "}, {\n",
    "    \"awards.nominations\": 9,\n",
    "    \"awards.text\": \"Won 11 Oscars. Another 116 wins & 63 nominations.\",\n",
    "    \"awards.wins\": 3,\n",
    "    \"cast\": [\"Kate Winslet\", \"Billy Zane\", \"Kathy Bates\"],\n",
    "    \"directors\": [\"Billy Zane Cameron\"],\n",
    "    \"genres\": [\"Drama\", \"action\", \"adrenaline\"],\n",
    "    \"languages\": [\"English\", \"French\", ],\n",
    "    \"lastupdated\": 2019,\n",
    "    \"rated\": \"PG-13\",\n",
    "    \"released\": \"1997-12-19T00:00:00.000Z\",\n",
    "    \"title\": \"Now you see me\",\n",
    "    \"year\": \"2011\"\n",
    "}, {\n",
    "    \"awards.nominations\": 20,\n",
    "    \"awards.text\": \"Won 11 Oscars. Another 116 wins & 63 nominations.\",\n",
    "    \"awards.wins\": 50,\n",
    "    \"cast\": [\"Leonardo DiCaprio\", \"Kate Winslet\", \"Billy Zane\", \"Kathy Bates\"],\n",
    "    \"directors\": [\"James Cameron\"],\n",
    "    \"genres\": [\"Drama\", \"Romance\"],\n",
    "    \"languages\": [\"English\", \"French\", \"German\", \"Swedish\", \"Italian\", \"Russian\"],\n",
    "    \"lastupdated\": 2020,\n",
    "    \"rated\": \"PG-13\",\n",
    "    \"released\": \"1997-12-19T00:00:00.000Z\",\n",
    "    \"title\": \"catch me if you can\",\n",
    "    \"year\": \"1993\"\n",
    "}, {\n",
    "    \"awards.nominations\": 19,\n",
    "    \"awards.text\": \"Won 11 Oscars. Another 50 wins & 63 nominations.\",\n",
    "    \"awards.wins\": 20,\n",
    "    \"cast\": [\"Leonardo DiCaprio\", \"Kathy Bates\"],\n",
    "    \"directors\": [\"James Cameron\"],\n",
    "    \"genres\": [\"Drama\", \"Romance\"],\n",
    "    \"languages\": [\"German\", \"Swedish\", \"Italian\"],\n",
    "    \"lastupdated\": 2020,\n",
    "    \"rated\": \"PG-13\",\n",
    "    \"released\": \"1997-12-19T00:00:00.000Z\",\n",
    "    \"title\": \"can you hear me \",\n",
    "    \"year\": \"1999\"\n",
    "}, ]\n",
    "mydb.movies.insert_many(moviesList)"
   ],
   "metadata": {
    "collapsed": false,
    "pycharm": {
     "name": "#%%\n"
    }
   }
  },
  {
   "cell_type": "code",
   "execution_count": null,
   "outputs": [],
   "source": [
    "#find the movie one movie in the year 1999\n",
    "movie1 = mydb.movies.find_one({\"year\": \"1999\"})\n",
    "print(movie1)"
   ],
   "metadata": {
    "collapsed": false,
    "pycharm": {
     "name": "#%%\n"
    }
   }
  },
  {
   "cell_type": "code",
   "execution_count": null,
   "outputs": [],
   "source": [
    "#find all the movies which has done in  1997\n",
    "movies1997 = mydb.movies.find({\"year\": \"1997\"})\n",
    "#print all the the films that has been done in 1997\n",
    "[movie for movie in movies1997]"
   ],
   "metadata": {
    "collapsed": false,
    "pycharm": {
     "name": "#%%\n"
    }
   }
  },
  {
   "cell_type": "code",
   "execution_count": null,
   "outputs": [],
   "source": [
    " #count number of all the   movies in the database\n",
    "print(\"the number of the movies in the databse are \", mydb.movies.count())"
   ],
   "metadata": {
    "collapsed": false,
    "pycharm": {
     "name": "#%%\n"
    }
   }
  },
  {
   "cell_type": "code",
   "execution_count": null,
   "outputs": [],
   "source": [
    " #get the number of the movies which had last update =2020\n",
    "print(\"we have \", mydb.movies.find({\"lastupdated\": 2020}).count(), \"updated in 2020\")"
   ],
   "metadata": {
    "collapsed": false,
    "pycharm": {
     "name": "#%%\n"
    }
   }
  },
  {
   "cell_type": "code",
   "execution_count": null,
   "outputs": [],
   "source": [
    "#UPDATE the movies  where the year is  equal to 1999  BY incrementing  the awards.wins by 10 points to the current value\n",
    "result = mydb.movies.update_many({\"year\": \"1999\"}, {\"$inc\": {\"awards.wins\": 10}})\n",
    "print(\"The number of the updates collection is \\n \", result.matched_count)"
   ],
   "metadata": {
    "collapsed": false,
    "pycharm": {
     "name": "#%%\n"
    }
   }
  },
  {
   "cell_type": "code",
   "execution_count": null,
   "outputs": [],
   "source": [
    "#update one document in movies where the  \"title\":\"catch me if you can\"  by setting the value of the \"awards.nominations\" to 200\n",
    "result = mydb.movies.update_one({\"title\": \"catch me if you can\"}, {\"$set\": {\"awards.nominations\": \"200\"}})\n",
    "if result.acknowledged == \"true\":\n",
    "    print(\"update  is done  \\n \")\n",
    "else:\n",
    "    print(\"no document wih the following criteria\")"
   ],
   "metadata": {
    "collapsed": false,
    "pycharm": {
     "name": "#%%\n"
    }
   }
  },
  {
   "cell_type": "code",
   "execution_count": null,
   "outputs": [],
   "source": [
    "#  return all the moveis titles without redundancy\n",
    "# iterate throught the list using pyhton iter\n",
    "moviesTitles = mydb.movies.distinct(\"title\")\n",
    "print(\"all the movies titles\")\n",
    "list(iter([moviesTitles]))"
   ],
   "metadata": {
    "collapsed": false,
    "pycharm": {
     "name": "#%%\n"
    }
   }
  },
  {
   "cell_type": "code",
   "execution_count": null,
   "outputs": [],
   "source": [
    "# count the films that had  awards.wins  > 20\n",
    "print(\"the number of movies that has  awards.wins  > 20  is  : \\n\",\n",
    "      mydb.movies.find({\"awards.wins\": {'$gt': 20}}).count())"
   ],
   "metadata": {
    "collapsed": false,
    "pycharm": {
     "name": "#%%\n"
    }
   }
  },
  {
   "cell_type": "code",
   "execution_count": null,
   "outputs": [],
   "source": [
    "# find all the movies  updated  before 2022\n",
    "movies2022 = mydb.movies.find({\"lastupdated\": {\"$lte\": 2022}})\n",
    "print(\"movies found updated before 2022 \\n \")\n",
    "[movie for movie in movies2022]"
   ],
   "metadata": {
    "collapsed": false,
    "pycharm": {
     "name": "#%%\n"
    }
   }
  },
  {
   "cell_type": "code",
   "execution_count": null,
   "outputs": [],
   "source": [
    "# find all the movies that aren't updated in 2020\n",
    "print(\"movies  aren't updated in 2020\")\n",
    "movies2022 = mydb.movies.find({\"lastupdated\": {\"$ne\": 2020}})\n",
    "[movie for movie in movies2022]"
   ],
   "metadata": {
    "collapsed": false,
    "pycharm": {
     "name": "#%%\n"
    }
   }
  },
  {
   "cell_type": "code",
   "execution_count": null,
   "outputs": [],
   "source": [
    "# find all the movies updated in 2019 and 2020\n",
    "moviess = mydb.movies.find({\"lastupdated\": {\"$in\": [2019, 2020]}})\n",
    "print(\"movies updated in 2019 and 2020\")\n",
    "[movie for movie in moviess]"
   ],
   "metadata": {
    "collapsed": false,
    "pycharm": {
     "name": "#%%\n"
    }
   }
  },
  {
   "cell_type": "code",
   "execution_count": null,
   "outputs": [],
   "source": [
    "# find all the movies  updated date is in 2015 and 2011\n",
    "moviess = mydb.movies.find({\"lastupdated\": {\"$nin\": [2015, 2011]}})\n",
    "print(\"movies  updated date is in 2015 and 2011 :\\n\")\n",
    "[movie for movie in moviess]\n"
   ],
   "metadata": {
    "collapsed": false,
    "pycharm": {
     "name": "#%%\n"
    }
   }
  },
  {
   "cell_type": "code",
   "execution_count": null,
   "outputs": [],
   "source": [
    "# find all the films where the title is not equal to  \"can you hear me\"\n",
    "moviess = mydb.movies.find({\"title\": {\"$not\": {\"$eq\": \"can you hear me \"}}})\n",
    "print(\"Movies  where the title is not equal to  can you hear me\")\n",
    "it = iter(moviess)\n",
    "i = 0\n",
    "while it.__next__():\n",
    "    i = i + 1\n",
    "    print(\"Movie number :\", i, it.next())"
   ],
   "metadata": {
    "collapsed": false,
    "pycharm": {
     "name": "#%%\n"
    }
   }
  },
  {
   "cell_type": "code",
   "execution_count": null,
   "outputs": [],
   "source": [
    "# find the films that that their year matches 1999 or their last update is not in 2011,2015\n",
    "moviess = mydb.movies.find({\"$or\": [{\"year\": \"1999\"}, {\"lastupdated\": {\"$nin\": [2015, 2011]}}]})\n",
    "print(\"movies are \\n \")\n",
    "num = 0\n",
    "for i in moviess:\n",
    "    num = num + 1\n",
    "    print(\"Movie number \", num, i)\n"
   ],
   "metadata": {
    "collapsed": false,
    "pycharm": {
     "name": "#%%\n"
    }
   }
  },
  {
   "cell_type": "code",
   "execution_count": null,
   "outputs": [],
   "source": [
    "# find all the films that their year is not 2011 and last upadate ins not in 2005,2006 and their awards.nominations is not greater than 10\n",
    "\n",
    "moviess = mydb.movies.find(\n",
    "    {\"$nor\": [{\"year\": \"2011\"}, {\"lastupdated\": {\"$nin\": [2005, 2006]}}, {\"awards.nominations\": {\"$gte\": 10}}]})\n",
    "[movie for movie in moviess]"
   ],
   "metadata": {
    "collapsed": false,
    "pycharm": {
     "name": "#%%\n"
    }
   }
  },
  {
   "cell_type": "code",
   "execution_count": null,
   "outputs": [],
   "source": [
    "# RETURN ONLY ONE MOVIE  that matches these conditions:\n",
    "#the year must be less than 2022 or the \"awards.wins\" is less than 50\n",
    "# AND the rate must be PG-13\n",
    "# Or  the title is not equal  to \"can you hear me \"\n",
    "from bson.json_util import dumps\n",
    "from bson.json_util import loads\n",
    "\n",
    "moviess = mydb.movies.find({\n",
    "    \"$and\": [\n",
    "        {\"$or\": [{\"year\": {\"$lt\": 2022}}, {\"awards.wins\": {\"$lte\": 50}}]},\n",
    "        {\"$or\": [{\"rated\": \"PG-13\"}, {\"title\": {\"$not\": {\"$eq\": \"can you hear me \"}}}]},\n",
    "    ]\n",
    "}).limit(1)\n",
    "print(loads(dumps(moviess)))"
   ],
   "metadata": {
    "collapsed": false,
    "pycharm": {
     "name": "#%%\n"
    }
   }
  },
  {
   "cell_type": "code",
   "execution_count": null,
   "outputs": [],
   "source": [
    "# find all movies that :\n",
    "#their year is has string type\n",
    "# and their title exists\n",
    "# Skip  the first one and limit the result by 3 items(movies )\n",
    "results = mydb.movies.find({\"$and\": [{\"year\": {\"$type\": \"string\"}}, {\"title\": {\"$exists\": \"true\"}}]}).skip(1).limit(3)\n",
    "print(\" the result of the 3 movies is \\n\")\n",
    "[i for i in results]"
   ],
   "metadata": {
    "collapsed": false,
    "pycharm": {
     "name": "#%%\n"
    }
   }
  },
  {
   "cell_type": "code",
   "execution_count": null,
   "outputs": [],
   "source": [
    "# find all movis the next movie\n",
    "#that their year is has string type  and the title exists\n",
    "result = mydb.movies.find({\"$and\": [{\"year\": {\"$type\": \"string\"}}, {\"title\": {\"$exists\": \"true\"}}]}).next()\n",
    "print(result)"
   ],
   "metadata": {
    "collapsed": false,
    "pycharm": {
     "name": "#%%\n"
    }
   }
  },
  {
   "cell_type": "code",
   "execution_count": null,
   "outputs": [],
   "source": [
    "# Update the title of the film named as Titanic to the Titanic film\n",
    "try:\n",
    "    upatedfilm = mydb.movies.update_one({\"title\": \"Titanic\"}, {\"$set\": {\"title\": \"THE Titanic film\"}})\n",
    "    if upatedfilm.modified_count >= 1:\n",
    "        print(\"The Movie Name updated successully\")\n",
    "    else:\n",
    "        print(\"This movie name doesn't exist\")\n",
    "except SyntaxError as s:\n",
    "    print(\"None of the data found to be updated \", s)"
   ],
   "metadata": {
    "collapsed": false,
    "pycharm": {
     "name": "#%%\n"
    }
   }
  },
  {
   "cell_type": "code",
   "execution_count": null,
   "outputs": [],
   "source": [
    "# replace the film  with the  _id:\"61636ec15dae1c1507e1f172\"  with the new information\n",
    "\n",
    "# don't  forget to catch erros\n",
    "try:\n",
    "    res = mydb.movies.replace_one({\"_id\": \"61636ec15dae1c1507e1f172\"}, {\"awards.nominations\": 63,\n",
    "                                                                        \"awards.text\": \"Won 11 Oscars. Another 116 wins & 63 nominations.\",\n",
    "                                                                        \"awards.wins\": 127,\n",
    "                                                                        \"cast\": [\"Leonardo DiCaprio\", \"Kate Winslet\",\n",
    "                                                                                 \"Billy Zane\", \"Kathy Bates\"],\n",
    "                                                                        \"directors\": [\"James Cameron\"],\n",
    "                                                                        \"genres\": [\"Drama\", \"Romance\"],\n",
    "                                                                        \"languages\": [\"English\", \"French\", \"German\",\n",
    "                                                                                      \"Swedish\", \"Italian\", \"Russian\"],\n",
    "                                                                        \"lastupdated\": 1998,\n",
    "                                                                        \"rated\": \"PG-13\",\n",
    "                                                                        \"released\": \"1997-12-19T00:00:00.000Z\",\n",
    "                                                                        \"title\": \"THE Titanic\",\n",
    "                                                                        \"year\": 1997})\n",
    "    if res.modified_count >= 1:\n",
    "        print(\"The Movie with the id 61636ec15dae1c1507e1f172  has been replaced with a new info\")\n",
    "    else:\n",
    "        print(\"This movie with the id 61636ec15dae1c1507e1f172 doesn't  try another id \")\n",
    "except IndexError as i:\n",
    "    print(\"No data can be managed\", i)"
   ],
   "metadata": {
    "collapsed": false,
    "pycharm": {
     "name": "#%%\n"
    }
   }
  },
  {
   "cell_type": "code",
   "execution_count": null,
   "outputs": [],
   "source": [
    "# add a 10  award points  to   all the films\n",
    "\n",
    "try:\n",
    "    updateResult = mydb.movies.update_many({}, {\"$inc\": {\"awards.wins\": 10}})\n",
    "    if updateResult.raw_result:\n",
    "        print(\"Number of documents updated is :\\n\")\n",
    "        print(updateResult.matched_count)\n",
    "    else:\n",
    "        print(\" 0 movies  updated\")\n",
    "except Exception as e:\n",
    "    print(\"An exception occurred ::\", e)\n",
    "\n",
    "finally:\n",
    "    print(\"The  update  is Done ! \")"
   ],
   "metadata": {
    "collapsed": false,
    "pycharm": {
     "name": "#%%\n"
    }
   }
  },
  {
   "cell_type": "code",
   "execution_count": null,
   "outputs": [],
   "source": [
    "# update  movies   where the  year >= 1997 and add 20 points to the awards.wins  document\n",
    "\n",
    "try:\n",
    "    updateResult = mydb.movies.update_many({\"year\": {\"$gte\": 1997}},\n",
    "                                           {\"$inc\": {\"awards.wins\": 10}}, )\n",
    "    print(\"Number of documents updated on the MongoDB collection movies:\")\n",
    "    print(updateResult.matched_count)\n",
    "except Exception as e:\n",
    "    print(\"An exception occurred ::\", e)\n",
    "finally:\n",
    "    print(\"The  update  is Done ! \")"
   ],
   "metadata": {
    "collapsed": false,
    "pycharm": {
     "name": "#%%\n"
    }
   }
  },
  {
   "cell_type": "code",
   "execution_count": null,
   "outputs": [],
   "source": [
    " # update the films which has   more than 6 language and included in french language by adding arabic language in the rayy of languages\n",
    "try:\n",
    "    updateResult = mydb.movies.update_many({\"languages\": {\"$size\": 6, \"$all\": [\"French\"]}},\n",
    "                                           {\"$push\": {\"languages\": \"arabic\", }})\n",
    "    print(\"Number of documents updated on the MongoDB collection movies:\")\n",
    "    print(updateResult.matched_count)\n",
    "except Exception as e:\n",
    "    print(\"An exception occurred ::\", e)\n",
    "finally:\n",
    "    print(\" The  update  is Done ! \")"
   ],
   "metadata": {
    "collapsed": false,
    "pycharm": {
     "name": "#%%\n"
    }
   }
  },
  {
   "cell_type": "code",
   "execution_count": null,
   "outputs": [],
   "source": [
    "# add a action genre in the begining of the genres arrays that had one genre\n",
    "try:\n",
    "    updateResult = mydb.movies.update_many({\"genres\": {\"$size\": 1}, },\n",
    "                                           {\"$push\": {\"genres\": {\"$each\": ['ACtion'], \"$position\": 0}}})\n",
    "    print(\"Number of documents updated on the  movies collection: \")\n",
    "    print(updateResult.matched_count)\n",
    "except Exception as e:\n",
    "    print(\"An exception occurred ::\", e)\n",
    "finally:\n",
    "    print(\" The  update  is Done ! \")"
   ],
   "metadata": {
    "collapsed": false,
    "pycharm": {
     "name": "#%%\n"
    }
   }
  },
  {
   "cell_type": "code",
   "execution_count": null,
   "outputs": [],
   "source": [
    "#The MONGO AGGREGATION FRAMEWORK\n",
    "#Now we are going to connect  to the shared cluster of mongo db and create a new database called movie with a new big schema"
   ],
   "metadata": {
    "collapsed": false,
    "pycharm": {
     "name": "#%%\n"
    }
   }
  },
  {
   "cell_type": "code",
   "execution_count": null,
   "outputs": [],
   "source": [
    "from pymongo.errors import OperationFailure\n",
    "from pymongo import MongoClient\n",
    "\n",
    "try:\n",
    "    client = MongoClient('mongodb://localhost:27017/')\n",
    "except pymongo.errors.ConnectionFailure as e:\n",
    "    print(\"Could not connect to server:\", e)"
   ],
   "metadata": {
    "collapsed": false,
    "pycharm": {
     "name": "#%% let's try to connect on  more time with another method\n"
    }
   }
  },
  {
   "cell_type": "code",
   "execution_count": null,
   "outputs": [],
   "source": [
    " # finding all the databse names\n",
    "client.database_names()"
   ],
   "metadata": {
    "collapsed": false,
    "pycharm": {
     "name": "#%%\n"
    }
   }
  },
  {
   "cell_type": "code",
   "execution_count": null,
   "outputs": [],
   "source": [
    "# create a new collection called movie\n",
    "mydb = client[\"cinema\"]\n",
    "try:\n",
    "    with open('C:/Users/Haithem Mihoubi/m121/movie.json') as file:\n",
    "        file_data = json.load(file)\n",
    "        mydb.movie.insert_many(file_data)\n",
    "except EOFError as e:\n",
    "    print(\"Eroor has been occured \", e)\n",
    "finally:\n",
    "    print(\" Operation has been ended \")"
   ],
   "metadata": {
    "collapsed": false,
    "pycharm": {
     "name": "#%%\n"
    }
   }
  },
  {
   "cell_type": "code",
   "execution_count": null,
   "outputs": [],
   "source": [
    " # Some problems with mongo aggregation framework\n",
    "#Problem:\n",
    "#Help MongoDB pick a movie our next movie night! Based on employee polling, we've decided that potential movies must meet the following criteria.\n",
    "#imdb.rating is at least 7\n",
    "#genres does not contain \"Crime\" or \"Horror\"\n",
    "#rated is either \"PG\" or \"G\"\n",
    "#languages contains \"English\" and \"Japanese\"\n",
    "# show just the \"title\" and the rated  field\n",
    "# catch the errors and th exceptions and indicate that the operataion is done\n",
    "#  the data will be  represented as Movie number 1  with title = 5 and rated = 6\n",
    "try:\n",
    "    documentreturned = mydb.movie.aggregate([{\n",
    "        \"$match\": {\n",
    "            \"imdb.rating\": {\"$gte\": 7},\n",
    "            \"genres\": {\"$nin\": [\"Crime\", \"Horror\"]},\n",
    "            \"rated\": {\"$in\": [\"PG\", \"G\"]},\n",
    "            \"$and\": [\n",
    "                {\"languages\": \"English\"},\n",
    "                {\"languages\": \"Japanese\"}]\n",
    "        }}, {\n",
    "        \"$project\": {\n",
    "            \"_id\": 0,\n",
    "            \"title\": 1,\n",
    "            \"rated\": 1\n",
    "        }\n",
    "    }])\n",
    "    i = 0\n",
    "    for movie in documentreturned:\n",
    "        i = i + 1\n",
    "        jsonMovie = json.dumps(movie)\n",
    "        docMovie = json.loads(jsonMovie)\n",
    "        print(\"THE MOVIE NUMBER  \", i, \"TITLE = \", docMovie['title'], \" IS Rated \", docMovie['rated'])\n",
    "\n",
    "except BaseException as e:\n",
    "    print(\"exception\", e)\n",
    "finally:\n",
    "    print(\"THIS IS THE END OF THE OPERATION  \")\n",
    "\n",
    "\n",
    "\n"
   ],
   "metadata": {
    "collapsed": false,
    "pycharm": {
     "name": "#%%\n"
    }
   }
  },
  {
   "cell_type": "code",
   "execution_count": null,
   "outputs": [],
   "source": [
    "# find all  the films that meet  the following criteria\n",
    "##year is at least 1995\n",
    "# the genres is  \"Crime\"or \"Horror\"\n",
    "# project only the title and the rating in  a filed called  \"The imdb Rating  is \" with the value of the imdb rating\n",
    "try:\n",
    "    documentreturned = mydb.movie.aggregate([{\n",
    "        \"$match\": {\n",
    "            \"genres\": {\"$in\": [\"Crime\", \"Horror\"]},\n",
    "            \"year\": {\"$gte\": 1995},\n",
    "\n",
    "        }}, {\n",
    "        \"$project\": {\n",
    "            \"_id\": 0,\n",
    "            \"title\": 1,\n",
    "            \"The imdb Rating  is \": \"$imdb.rating\"\n",
    "        }\n",
    "    }])\n",
    "    if documentreturned.next:\n",
    "        i = 0\n",
    "        for movie in documentreturned:\n",
    "            i = i + 1\n",
    "            jsonMovie = json.dumps(movie)\n",
    "            docMovie = json.loads(jsonMovie)\n",
    "            print(\"THE MOVIE NUMBER  \", i, \"TITLE = \", docMovie['title'], \" The imdb Rating  is    \",\n",
    "                  docMovie[\"The imdb Rating  is \"])\n",
    "    else:\n",
    "        print(\" No movie found wiht the following criteria \")\n",
    "except BaseException as e:\n",
    "    print(\"exception\", e)\n",
    "finally:\n",
    "    print(\"THIS IS THE END OF THE OPERATION  \")\n"
   ],
   "metadata": {
    "collapsed": false,
    "pycharm": {
     "name": "#%%\n"
    }
   }
  },
  {
   "cell_type": "code",
   "execution_count": null,
   "outputs": [],
   "source": [
    "# find all  the movies that meet  the following criteria\n",
    "\n",
    "#the awards wins are a least 1\n",
    "# multiply the imdb rating + the tomatoes viewer number of reviewes  by 2 and\n",
    "# project a field called the average rating\n",
    "try:\n",
    "    docsfound = mydb.movie.aggregate([\n",
    "        {\n",
    "            \"$match\": {\n",
    "                \"awards.wins\": {\"$gte\": 1}\n",
    "            }\n",
    "        },\n",
    "        {\n",
    "            \"$project\": {\n",
    "                \"_id\": 0,\n",
    "                \"title\": 1,\n",
    "                \"the average rating\": {\n",
    "                    \"$multiply\": [\n",
    "                        {\"$sum\": [\"$imdb.rating\", \"$tomatoes.viewer.numReviews\"]\n",
    "                         }, 2]\n",
    "                }\n",
    "            }\n",
    "        }\n",
    "    ]\n",
    "    )\n",
    "    if docsfound.next:\n",
    "        i = 0\n",
    "        for movie in docsfound:\n",
    "            i = i + 1\n",
    "            jsonMovie = json.dumps(movie)\n",
    "            docMovie = json.loads(jsonMovie)\n",
    "            print(\" MOVIE NUMBER  \", i, \"TITLE = \", docMovie['title'], \" THE AVERAGE RATING   is =   \",\n",
    "                  docMovie[\"the average rating\"])\n",
    "    else:\n",
    "        print(\"Nod ata find try anothe querries\")\n",
    "except BaseException as e:\n",
    "    print(\"exception Occurred \", e)\n",
    "finally:\n",
    "    print(\"THIS IS THE END OF THE OPERATION  \")"
   ],
   "metadata": {
    "collapsed": false,
    "pycharm": {
     "name": "#%%\n"
    }
   }
  },
  {
   "cell_type": "code",
   "execution_count": null,
   "outputs": [],
   "source": [
    "#Using the Aggregation Framework, find a count of the number of movies\n",
    "# that have a title composed of one word.\n",
    "# To clarify, \"Cinderella\" and \"3-25\" should count, where as \"Cast Away\" would not.\n",
    "#Make sure you look into the $split String expression and the $size Array expression\n",
    "try:\n",
    "    counted = mydb.movie.aggregate([{\n",
    "        \"$project\": {\n",
    "            \"_id\": 0,\n",
    "            \"title\": 1,\n",
    "            \"title_size\": {\n",
    "                \"$size\": {\"$split\": [\"$title\", \" \"]}\n",
    "            }\n",
    "        }\n",
    "    }, {\n",
    "        \"$match\": {\n",
    "            \"title_size\": {\"$eq\": 1}\n",
    "        }\n",
    "    }])\n",
    "\n",
    "    s = 0\n",
    "    for val in counted:\n",
    "        s = s + 1\n",
    "\n",
    "    print(\"the number of movies  that have a title composed of one word are : \\n\", sum)\n",
    "\n",
    "except OperationFailure as a:\n",
    "    print(\"exception Occurred while operation \", a)\n",
    "finally:\n",
    "    print(\"end of operation \")"
   ],
   "metadata": {
    "collapsed": false,
    "pycharm": {
     "name": "#%%\n"
    }
   }
  },
  {
   "cell_type": "code",
   "execution_count": null,
   "outputs": [],
   "source": [
    " # LEt's solve it with another method  (previous Problem: Second Method)\n",
    "try:\n",
    "    movies = mydb.movie.aggregate([\n",
    "        {\n",
    "            \"$match\": {\n",
    "                \"title\": {\n",
    "                    \"$type\": \"string\"\n",
    "                }\n",
    "            }\n",
    "        },\n",
    "        {\n",
    "            \"$project\": {\n",
    "                \"title\": {\"$split\": [\"$title\", \" \"]},\n",
    "                \"_id\": 0\n",
    "            }\n",
    "        },\n",
    "        {\n",
    "            \"$match\": {\n",
    "                \"title\": {\"$size\": 1}\n",
    "            }\n",
    "        }\n",
    "    ])\n",
    "    counter = 0\n",
    "    for val in movies:\n",
    "        counter = counter + 1\n",
    "\n",
    "    print(\"the number of movies  that have a title composed of one word are : \\n\", counter)\n",
    "except OperationFailure as a:\n",
    "    print(\"exception Occurred while operation \", a)\n",
    "finally:\n",
    "    print(\"end of operation \")"
   ],
   "metadata": {
    "collapsed": false,
    "pycharm": {
     "name": "#%%\n"
    }
   }
  },
  {
   "cell_type": "code",
   "execution_count": null,
   "outputs": [],
   "source": [
    "# find how many movies in our movies collection are a “labor of love”, where the same person appears in cast, directors, and writers\n",
    "\n",
    "try:\n",
    "\n",
    "    movieslabor_of_love = mydb.movie.aggregate([\n",
    "        {\n",
    "            \"$match\": {\n",
    "                \"cast\": {\"$elemMatch\": {\"$exists\": \"true\"}},\n",
    "                \"directors\": {\"$elemMatch\": {\"$exists\": \"true\"}},\n",
    "                \"writers\": {\"$elemMatch\": {\"$exists\": \"true\"}}\n",
    "            }\n",
    "        },\n",
    "        {\n",
    "            \"$project\": {\n",
    "                \"_id\": 0,\n",
    "                \"cast\": 1,\n",
    "                \"directors\": 1,\n",
    "                \"writers\": {\n",
    "                    \"$map\": {\n",
    "                        \"input\": \"$writers\",\n",
    "                        \"as\": \"writer\",\n",
    "                        \"in\": {\n",
    "                            \"$arrayElemAt\": [\n",
    "                                {\n",
    "                                    \"$split\": [\"$$writer\", \" (\"]\n",
    "                                },\n",
    "                                0\n",
    "                            ]\n",
    "                        }\n",
    "                    }\n",
    "                }\n",
    "            }\n",
    "        },\n",
    "        {\n",
    "            \"$project\": {\n",
    "                \"labor_of_love\": {\n",
    "                    \"$gt\": [\n",
    "                        {\"$size\": {\"$setIntersection\": [\"$cast\", \"$directors\", \"$writers\"]}},\n",
    "                        0\n",
    "                    ]\n",
    "                }\n",
    "            }\n",
    "        },\n",
    "        {\n",
    "            \"$match\": {\"labor_of_love\": \"true\"}\n",
    "        },\n",
    "        {\n",
    "            \"$count\": \"labors of love\"\n",
    "        }\n",
    "    ])\n",
    "    count = 0\n",
    "    for val in movieslabor_of_love:\n",
    "        count = count + 1\n",
    "    print(\"labor of love movies\\n\", count)\n",
    "except OperationFailure as a:\n",
    "    print(\"exception Occurred while operation \", a)\n",
    "finally:\n",
    "    print(\"end of operation \")"
   ],
   "metadata": {
    "collapsed": false,
    "pycharm": {
     "name": "#%%\n"
    }
   }
  },
  {
   "cell_type": "code",
   "execution_count": null,
   "outputs": [],
   "source": [
    "# the following criteria\n",
    "#show the conatenation of countries  of the first 10 movies where and th title of each movie\n",
    "# the title is string\n",
    "#the countries contains USA\n",
    "# project only the title of the movie and the concatenated countries\n",
    "# Limit the result by 10 and skip the first 5\n",
    "# sort the results  by  ascending movie title\n",
    "# the output of each  film  be  Movie N  1  TITLE = titanic  usa  ksa\n",
    "\n",
    "try:\n",
    "\n",
    "    resultconcat = mydb.movie.aggregate([\n",
    "        {\n",
    "            \"$match\": {\n",
    "                \"title\": {\n",
    "                    \"$type\": \"string\"\n",
    "                },\n",
    "                \"countries\": {\"$all\": [\"USA\"]}\n",
    "            }\n",
    "        },\n",
    "        {\"$addFields\": {\n",
    "            \"countries\": {\n",
    "                \"$reduce\": {\n",
    "                    \"input\": \"$countries\",\n",
    "                    \"initialValue\": \"\",\n",
    "                    \"in\": {\n",
    "                        \"$cond\": {\n",
    "                            \"if\": {\"$eq\": [{\"$indexOfArray\": [\"$countries\", \"$$this\"]}, 0]},\n",
    "                            \"then\": {\"$concat\": [\"$$value\", \"$$this\"]},\n",
    "                            \"else\": {\"$concat\": [\"$$value\", \"_\", \"$$this\"]}\n",
    "                        }\n",
    "                    }\n",
    "                }\n",
    "            }\n",
    "        }},\n",
    "        {\n",
    "            \"$project\": {\n",
    "                \"_id\": 0, \"title\": 1, \"countries\": 1\n",
    "            }\n",
    "        },\n",
    "        {\n",
    "            \"$limit\": 10\n",
    "        }, {\n",
    "            \"$skip\": 5,\n",
    "        },\n",
    "        {\n",
    "            \"$sort\": {\"title\": 1}\n",
    "        }\n",
    "\n",
    "    ])\n",
    "    count = 0\n",
    "    for val in resultconcat:\n",
    "        count = count + 1\n",
    "        jsonMovie = json.dumps(val)\n",
    "        docMovie = json.loads(jsonMovie)\n",
    "        print(\"Movie N\", count, \"TITLE = \", docMovie['title'], docMovie[\"countries\"])\n",
    "\n",
    "except Exception as a:\n",
    "    print(\"exception Occurred while operation \", a)\n",
    "finally:\n",
    "    print(\"THIS The end of this operation \")"
   ],
   "metadata": {
    "collapsed": false,
    "pycharm": {
     "name": "#%%\n"
    }
   }
  },
  {
   "cell_type": "code",
   "execution_count": null,
   "outputs": [],
   "source": [
    "# TAKE in  RANDOM 50 document from the database and do the following :\n",
    "# the title is string\n",
    "# take 50 arbitrary  movies\n",
    "# Limit the result by 10 and skip the first 2\n",
    "# sort the results  by  ascending movie title\n",
    "# THE output mus be : Movie N 1 The length of  Berlin '36  is equal to 10\n",
    "try:\n",
    "    themovies = mydb.movie.aggregate([\n",
    "        {\n",
    "            \"$match\": {\n",
    "                \"title\": {\n",
    "                    \"$type\": \"string\"\n",
    "                },\n",
    "\n",
    "            }\n",
    "        },\n",
    "        {\n",
    "            \"$project\": {\n",
    "                \"_id\": 0,\n",
    "                \"title\": 1,\n",
    "                \"Titlelength\": {\"$strLenCP\": \"$title\"}\n",
    "            }\n",
    "        },\n",
    "        {\n",
    "            \"$sample\": {\n",
    "                \"size\": 20\n",
    "            }\n",
    "        }\n",
    "\n",
    "        ,\n",
    "        {\n",
    "            \"$limit\": 10\n",
    "        }, {\n",
    "            \"$skip\": 2,\n",
    "        },\n",
    "        {\n",
    "            \"$sort\": {\"title\": 1}\n",
    "        },\n",
    "\n",
    "    ])\n",
    "    count = 0\n",
    "    for val in themovies:\n",
    "        count = count + 1\n",
    "        jsonMovie = json.dumps(val)\n",
    "        docMovie = json.loads(jsonMovie)\n",
    "        print(\"Movie N\", count, \"The length of the title of \", docMovie['title'], \" is equal to\",\n",
    "              docMovie[\"Titlelength\"])\n",
    "\n",
    "except Exception as a:\n",
    "    print(\"exception Occurred while operation \", a)\n",
    "finally:\n",
    "    print(\"THIS The end of this operation \")\n"
   ],
   "metadata": {
    "collapsed": false,
    "pycharm": {
     "name": "#%%\n"
    }
   }
  },
  {
   "cell_type": "code",
   "execution_count": null,
   "outputs": [],
   "source": [
    "# Problem\n",
    "#We has another movie night scheduled. This time, we polled employees for their favorite actress or actor, and got these results\n",
    "#favorites = [\"Sandra Bullock\",\"Tom Hanks\",\"Julia Roberts\",\"Kevin Spacey\",\"George Clooney\"]\n",
    "#For movies released in the USA with a tomatoes.viewer.rating greater than or equal to 3, calculate a new field called num_favs that represets how many favorites appear in the cast field of the movie.\n",
    "#Sort your results by num_favs, tomatoes.viewer.rating, and title, all in descending order.\n",
    "#What is the title of the 25th film in the aggregation result?\n",
    "favorites = [\n",
    "    \"Sandra Bullock\",\n",
    "    \"Tom Hanks\",\n",
    "    \"Julia Roberts\",\n",
    "    \"Kevin Spacey\",\n",
    "    \"George Clooney\"]\n",
    "\n",
    "try:\n",
    "    likeStage = mydb.movie.aggregate([\n",
    "        {\n",
    "            \"$match\": {\n",
    "                \"tomatoes.viewer.rating\": {\"$gte\": 3},\n",
    "                \"countries\": \"USA\",\n",
    "                \"cast\": {\n",
    "                    \"$in\": favorites\n",
    "                }\n",
    "            }\n",
    "        },\n",
    "        {\n",
    "            \"$project\": {\n",
    "                \"_id\": 0,\n",
    "                \"title\": 1,\n",
    "                \"tomatoes.viewer.rating\": 1,\n",
    "                \"num_favs\": {\n",
    "                    \"$size\": {\n",
    "                        \"$setIntersection\": [\n",
    "                            \"$cast\",\n",
    "                            favorites\n",
    "                        ]\n",
    "                    }\n",
    "                }\n",
    "            }\n",
    "        },\n",
    "        {\n",
    "            \"$sort\": {\"num_favs\": -1,\n",
    "                      \"tomatoes.viewer.rating\": -1,\n",
    "                      \"title\": -1\n",
    "                      }\n",
    "        },\n",
    "        {\n",
    "            \"$skip\": 24\n",
    "        },\n",
    "        {\n",
    "            \"$limit\": 1\n",
    "        }\n",
    "    ])\n",
    "\n",
    "    for m in likeStage:\n",
    "        jsonMovie = json.dumps(m)\n",
    "        docMovie = json.loads(jsonMovie)\n",
    "        print(\"The movie number 25 is   \", docMovie['title'], \"\\n\")\n",
    "\n",
    "except Exception as a:\n",
    "    print(\"exception Occurred while operation \", a)\n",
    "finally:\n",
    "    print(\"THIS The end of this operation \")"
   ],
   "metadata": {
    "collapsed": false,
    "pycharm": {
     "name": "#%%\n"
    }
   }
  },
  {
   "cell_type": "code",
   "execution_count": null,
   "outputs": [],
   "source": [
    "# Problem:\n",
    "#Calculate an average rating for each movie in our collection where English is an available language,\n",
    "#the minimum imdb.rating is at least 1, the minimum imdb.votes is at least 1,\n",
    "# and it was released in 1990 or after.\n",
    "# You’ll be required to rescale (or normalize) imdb.votes.\n",
    "# The formula to rescale imdb.votes and calculate normalized_rating is included as a handout.\n",
    "#What film has the lowest normalized_rating?\n",
    "try:\n",
    "    fetched = mydb.movie.aggregate([\n",
    "        {\n",
    "            \"$match\": {\n",
    "                \"year\": {\"$gte\": 1990},\n",
    "                \"languages\": {\"$in\": [\"English\"]},\n",
    "                \"imdb.votes\": {\"$gte\": 1},\n",
    "                \"imdb.rating\": {\"$gte\": 1}\n",
    "            }\n",
    "        },\n",
    "        {\n",
    "            \"$project\": {\n",
    "                \"_id\": 0,\n",
    "                \"title\": 1,\n",
    "                \"imdb.rating\": 1,\n",
    "                \"imdb.votes\": 1,\n",
    "                \"normalized_rating\": {\n",
    "                    \"$avg\": [\n",
    "                        \"$imdb.rating\",\n",
    "                        {\n",
    "                            \"$add\": [\n",
    "                                1,\n",
    "                                {\n",
    "                                    \"$multiply\": [\n",
    "                                        9,\n",
    "                                        {\n",
    "                                            \"$divide\": [\n",
    "                                                {\"$subtract\": [\"$imdb.votes\", 5]},\n",
    "                                                {\"$subtract\": [1521105, 5]}\n",
    "                                            ]\n",
    "                                        }\n",
    "                                    ]\n",
    "                                }\n",
    "                            ]\n",
    "                        }\n",
    "                    ]\n",
    "                }\n",
    "            }\n",
    "        },\n",
    "        {\"$sort\": {\"normalized_rating\": 1}},\n",
    "        {\"$limit\": 1},\n",
    "    ])\n",
    "\n",
    "    for m in fetched:\n",
    "        jsonMovie = json.dumps(m)\n",
    "        docMovie = json.loads(jsonMovie)\n",
    "        print(\"The movie that has the lowest normalized_rating  is \", docMovie['title'], \"with ans imdb rating = \",\n",
    "              docMovie[\"imdb\"][\"rating\"], \"and a normalized rating  \", docMovie['normalized_rating'])\n",
    "\n",
    "except Exception as e:\n",
    "    print(\"exception Occurred while operation \", e)\n",
    "finally:\n",
    "    print(\"THIS The end of this operation \")"
   ],
   "metadata": {
    "collapsed": false,
    "pycharm": {
     "name": "#%%\n"
    }
   }
  },
  {
   "cell_type": "code",
   "execution_count": null,
   "outputs": [],
   "source": [
    "# Count the average awards  of movies each year\n",
    "#group all fields by year\n",
    "try:\n",
    "    numbeOfMovies = mydb.movie.aggregate([\n",
    "        {\n",
    "            \"$match\": {\"awards.wins\": {\"$gte\": 1}}\n",
    "        }, {\n",
    "            \"$group\": {\n",
    "                \"_id\": \"year\",\n",
    "                \"count\": {\"$sum\": 1},\n",
    "                \"avg_awards\": {\"$avg\": \"$awards.wins\"}\n",
    "            }\n",
    "        }\n",
    "    ])\n",
    "    for m in numbeOfMovies:\n",
    "        jsonMovie = json.dumps(m)\n",
    "        docMovie = json.loads(jsonMovie)\n",
    "        print(\"The movie that has the lowest normalized_rating  is \", docMovie[\"avg_awards\"])\n",
    "except Exception as e:\n",
    "    print(\"exception Occurred while operation \", e)\n",
    "finally:\n",
    "    print(\"Operation has been done !\")\n"
   ],
   "metadata": {
    "collapsed": false,
    "pycharm": {
     "name": "#%%\n"
    }
   }
  },
  {
   "cell_type": "code",
   "execution_count": null,
   "outputs": [],
   "source": [
    "# calculate the min ,max ,sum,standard deviation of the imdb  rating\n",
    "#of the films that have the following criteria\n",
    "# the year <=2022\n",
    "# the language msu be english\n",
    "# the imdb votes and ratings  must be greater or equals to 1\n",
    "# the title must be a string type\n",
    "# the county Is USA\n",
    "# The genres must be CRIMe or horror or both\n",
    "# the rating must be either  \"PG\", \"G\" or both\n",
    "# limit the result by 50 movie\n",
    "#skip the  first 49 and show the 50th one as the desired result\n",
    "# sort the result by ascending title and descending year\n",
    "# project on the  \"title\" , max_rating  as the maximum rating\n",
    "#  min_rating as the minimum rating\n",
    "#  rating_avg as the average rating\n",
    "#  ratings_std as the standard deviation average  rating\n",
    "# sum_ratings as the sum of the ratings\n",
    "\n",
    "try:\n",
    "    val = mydb.movie.aggregate([\n",
    "        {\n",
    "            \"$match\": {\n",
    "                \"year\": {\"$lte\": 2022},\n",
    "                \"languages\": {\"$in\": [\"English\"]},\n",
    "                \"imdb.votes\": {\"$gte\": 1},\n",
    "                \"imdb.rating\": {\"$gte\": 1},\n",
    "                \"title\": {\n",
    "                    \"$type\": \"string\"\n",
    "                },\n",
    "                \"countries\": {\"$all\": [\"USA\"]},\n",
    "                \"genres\": {\"$nin\": [\"Crime\", \"Horror\"]},\n",
    "                \"rated\": {\"$in\": [\"PG\", \"G\"]},\n",
    "\n",
    "            }\n",
    "        },\n",
    "        {\"$project\": {\n",
    "            \"_id\": 0,\n",
    "            \"title\": 1,\n",
    "            \"max_rating\": {\"$max\": \"$imdb.rating\"},\n",
    "            \"min_rating\": {\"$min\": \"$imdb.rating\"},\n",
    "            \"rating_avg\": {\"$avg\": \"$imdb.rating\"},\n",
    "            \"ratings_std\": {\"$stdDevPop\": \"$imdb.rating\"},\n",
    "            \"sum_ratings\": {\"$sum\": \"$imdb.rating\"}\n",
    "        }\n",
    "        },\n",
    "        {\n",
    "            \"$limit\": 50\n",
    "        },\n",
    "        {\n",
    "            \"$skip\": 49\n",
    "        }, {\n",
    "            \"$sort\": {\n",
    "                \"title\": 1,\n",
    "                \"year\": -1\n",
    "            }\n",
    "        }\n",
    "\n",
    "    ])\n",
    "    for m in val:\n",
    "        jsonMovie = json.dumps(m)\n",
    "        docMovie = json.loads(jsonMovie)\n",
    "        print(\"The Film Number 50 is  \", docMovie[\"title\"])\n",
    "        print(\"maximum rating\", docMovie[\"max_rating\"])\n",
    "        print(\"minimum rating\", docMovie[\"min_rating\"])\n",
    "        print(\"average rating\", docMovie[\"rating_avg\"])\n",
    "        print(\"Standard rating\", docMovie[\"ratings_std\"])\n",
    "        print(\"Sum of the ratings\", docMovie[\"sum_ratings\"])\n",
    "except Exception as e:\n",
    "    print(\"exception Occurred while operation \", e)\n",
    "finally:\n",
    "    print(\"Operation has been done !\")"
   ],
   "metadata": {
    "collapsed": false,
    "pycharm": {
     "name": "#%%\n"
    }
   }
  },
  {
   "cell_type": "code",
   "execution_count": null,
   "outputs": [],
   "source": [
    "#calculate the standard deviation, highest, lowest, and average imdb.rating.\n",
    "#Use the sample standard deviation expression.\n",
    "#HINT - All movies in the collection that won an Oscar begin with a string resembling one of the following in their awards field\n",
    "try:\n",
    "    resTask = mydb.movie.aggregate([\n",
    "        {\"$match\":\n",
    "             {\"awards\":\n",
    "                  {\"$regex\": \"/^Won.*.Oscar/\", \"$options\": \"si\"},\n",
    "              }\n",
    "         },\n",
    "        {\"$project\":\n",
    "             {\"_id\": 0,\n",
    "              \"title\": 1,\n",
    "              \"awards\": 1\n",
    "              }\n",
    "         }\n",
    "    ])\n",
    "    for m in resTask:\n",
    "        jsonMovie = json.dumps(m)\n",
    "        docMovie = json.loads(jsonMovie)\n",
    "        print(\"The Film Number   \", docMovie[\"title\"])\n",
    "\n",
    "except Exception as e:\n",
    "    print(\"exception Occurred while operation \", e)\n",
    "finally:\n",
    "    print(\"Operation has been done !\")"
   ],
   "metadata": {
    "collapsed": false,
    "pycharm": {
     "name": "#%%Task For all films that won at least 1 Oscar,\n"
    }
   }
  },
  {
   "cell_type": "code",
   "execution_count": null,
   "outputs": [],
   "source": [
    "# get all the movies with  the following criteria :\n",
    "# rating greater than 1\n",
    "# 2010<=year <=2015\n",
    "#runtime >=90\n",
    "try:\n",
    "    resAggregation = mydb.movie.aggregate([\n",
    "        {\"$match\": {\n",
    "            \"imdb.rating\": {\"$gt\": 0},\n",
    "            \"year\": {\"$gte\": 2010, \"$lte\": 2015},\n",
    "            \"runtime\": {\"$gte\": 90}\n",
    "        }\n",
    "        },\n",
    "        {\"$unwind\": \"$genres\"},\n",
    "        {\"$group\": {\n",
    "            \"_id\": {\n",
    "                \"year\": \"$year\",\n",
    "                \"genre\": \"$genres\"\n",
    "            },\n",
    "            \"average_rating\": {\"$avg\": \"$imdb.rating\"}\n",
    "        }\n",
    "        },\n",
    "        {\"$sort\": {\"_id.year\": -1, \"average_rating\": -1}\n",
    "         },\n",
    "        {\"$group\": {\n",
    "            \"_id\": \"$_id.year\",\n",
    "            \"genre\": {\"$first\": \"$_id.genre\"},\n",
    "            \"average_rating\": {\"$first\": \"$average_rating\"}\n",
    "        }\n",
    "        },\n",
    "        {\"$sort\": {\"_id\": -1}}\n",
    "    ])\n",
    "    for m in resAggregation:\n",
    "        jsonMovie = json.dumps(m)\n",
    "        docMovie = json.loads(jsonMovie)\n",
    "        print(\"The Film in    \", docMovie[\"_id\"], \"genre\", docMovie[\"genre\"], \"with  an average rating =\",\n",
    "              docMovie[\"average_rating\"])\n",
    "except Exception as e:\n",
    "    print(\"exception Occurred while operation \", e)\n",
    "finally:\n",
    "    print(\"Operation has been done !\")"
   ],
   "metadata": {
    "collapsed": false,
    "pycharm": {
     "name": "#%%\n"
    }
   }
  },
  {
   "cell_type": "code",
   "execution_count": null,
   "outputs": [],
   "source": [
    "# find the movies where\n",
    "# imdb rating is greater than 0\n",
    "#  year is greater or equal to 2010 ad less than or equals to 2015\n",
    "# the runtime must be at least 90\n",
    "#group the data by the year and the genres which will be expanded later  and group by the average rating\n",
    "#Sort the final result by descending year and descending average rating\n",
    "#show the results for each document and expands the array of genres example  is bellow\n",
    "# Let say we have this document {   \"title\": \"The Martian\",\"genres\": [\"Action\", \"Adventure\", \"Sci-Fi\"] }\n",
    "#  Becomes...\n",
    "#{ \"title\": \"The Martian\",\"genres\": \"Action\"}\n",
    "#{\"title\": \"The Martian\",\"genres\": \"Adventure\"}\n",
    "#{\"title\": \"The Martian\",\"genres\": \"Sci-Fi\"}\n",
    "try:\n",
    "    allmovies = mydb.movie.aggregate([\n",
    "        {\"$match\": {\n",
    "            \"imdb.rating\": {\"$gt\": 0},\n",
    "            \"year\": {\"$gte\": 2010, \"$lte\": 2015},\n",
    "            \"runtime\": {\"$gte\": 90}\n",
    "        }\n",
    "        },\n",
    "        {\"$unwind\": \"$genres\"},\n",
    "        {\"$group\": {\n",
    "            \"_id\": {\n",
    "                \"year\": \"$year\",\n",
    "                \"genre\": \"$genres\"\n",
    "            },\n",
    "            \"average_rating\": {\"$avg\": \"$imdb.rating\"}\n",
    "        }\n",
    "        },\n",
    "        {\"$sort\": {\"_id.year\": -1, \"average_rating\": -1}}\n",
    "    ])\n",
    "    for m in allmovies:\n",
    "        jsonMovie = json.dumps(m)\n",
    "        docMovie = json.loads(jsonMovie)\n",
    "        print(\"The Film in    \", docMovie[\"_id\"], \"with  an average rating =\", docMovie[\"average_rating\"])\n",
    "except Exception as e:\n",
    "    print(\"exception Occurred while operation \", e)\n",
    "finally:\n",
    "    print(\"Operation has been done !\")"
   ],
   "metadata": {
    "collapsed": false,
    "pycharm": {
     "name": "#%%\n"
    }
   }
  },
  {
   "cell_type": "code",
   "execution_count": null,
   "outputs": [],
   "source": [
    "# We'd like to calculate how many movies every cast member has been in and get an average imdb.rating for each cast member.\n",
    "#What is the name, number of movies, and average rating (truncated to one decimal) for the cast member that has been in the most number of movies with English as an available language?\n",
    "#Provide the input in the following order and format and limit the it by 5\n",
    "#{ \"_id\": \"First Last\", \"numFilms\": 1, \"average\": 1.1 }\n",
    "try:\n",
    "\n",
    "    cast_members = mydb.movie.aggregate([\n",
    "        {\"$match\": {\"languages\": \"English\"}},\n",
    "        {\"$project\":\n",
    "             {\"_id\": 0,\n",
    "              \"title\": 1,\n",
    "              \"cast\": 1,\n",
    "              \"imdb.rating\": 1,\n",
    "              \"tomatoes.viewer.rating\": 1\n",
    "              }\n",
    "         },\n",
    "        {\n",
    "            \"$unwind\": \"$cast\"\n",
    "        },\n",
    "        {\n",
    "            \"$group\": {\n",
    "                \"_id\": \"$cast\",\n",
    "                \"numFilms\": {\"$sum\": 1},\n",
    "                \"average\": {\"$avg\": \"$imdb.rating\"}\n",
    "            }\n",
    "        },\n",
    "        {\n",
    "            \"$sort\": {\"numFilms\": -1}\n",
    "        },\n",
    "        {\n",
    "            \"$limit\": 5\n",
    "        }\n",
    "\n",
    "    ])\n",
    "    for m in cast_members:\n",
    "        jsonMovie = json.dumps(m)\n",
    "        docMovie = json.loads(jsonMovie)\n",
    "        print(docMovie[\"_id\"], docMovie[\"numFilms\"], docMovie[\"average\"])\n",
    "\n",
    "except Exception as e:\n",
    "    print(\"exception Occurred while operation \", e)\n",
    "finally:\n",
    "    print(\"Operation has been done !\")"
   ],
   "metadata": {
    "collapsed": false,
    "pycharm": {
     "name": "#%%\n"
    }
   }
  },
  {
   "cell_type": "code",
   "execution_count": null,
   "outputs": [],
   "source": [
    "# get the films with details of the directors  use $graphLookup on directors array in the following databse\n",
    "#The $graphLookup stage must stay within the 100 megabyte memory limit\n",
    "# dont project the id because it causes an  error\n",
    "#project the directors as a result of the graph loookup and th etitle also\n",
    "# imdb rating is greater than 1\n",
    "#  year is greater or equal to 1999 ad less than or equals to 2020\n",
    "# the runtime must be at least 20\n",
    "#limit the result by 30 document and skip the first 10\n",
    "# sort it by the directors new filed\n",
    "try:\n",
    "    graphlookups = mydb.movie.aggregate([\n",
    "          {\"$match\": {\n",
    "            \"imdb.rating\": {\"$gte\": 1},\n",
    "            \"year\": {\"$gte\": 1999, \"$lte\": 2020},\n",
    "            \"runtime\": {\"$gte\": 20}\n",
    "         }},\n",
    "        {\n",
    "            \"$graphLookup\": {\n",
    "                \"from\": \"movie\",\n",
    "                \"startWith\": \"$directors\",\n",
    "                \"connectFromField\": \"directors\",\n",
    "                \"connectToField\": \"_id\",\n",
    "                \"as\": \"TheDirectors\"\n",
    "            }\n",
    "        },\n",
    "        {\n",
    "            \"$project\": {\n",
    "                \"_id\": 0,\n",
    "                \"title\": 1,\n",
    "                \"TheDirectors\": 1\n",
    "            }\n",
    "        },\n",
    "        {\n",
    "            \"$skip\":10,\n",
    "        },\n",
    "        {\n",
    "            \"$limit\":50\n",
    "        },\n",
    "\n",
    "        {\n",
    "            \"$sort\":{\n",
    "                \"directors\":1\n",
    "            }\n",
    "        }\n",
    "\n",
    "    ])\n",
    "    for m in graphlookups:\n",
    "        jsonMovie = json.dumps(m)\n",
    "        docMovie = json.loads(jsonMovie)\n",
    "        print(docMovie[\"title\"], docMovie[\"TheDirectors\"])\n",
    "\n",
    "except Exception as e:\n",
    "    print(\"exception Occurred while operation \", e)\n",
    "finally:\n",
    "    print(\"Operation has been done !\")"
   ],
   "metadata": {
    "collapsed": false,
    "pycharm": {
     "name": "#%%\n"
    }
   }
  },
  {
   "cell_type": "code",
   "execution_count": null,
   "outputs": [],
   "source": [
    "#And Now Core Aggregation - Multidimensional Grouping\n",
    "#using facets  match SortByCount\n",
    "#Facets: Introduction\n",
    "#Faceting applies multiple filtering along different dimensions to the analytics pipeline.\n",
    "#These can be accessed in order in multiple different ways.\n",
    "#Its useful for filtering down results sets, e.g. for a clothing website by brand, colour, gender, size."
   ],
   "metadata": {
    "collapsed": false,
    "pycharm": {
     "name": "#%%\n"
    }
   }
  },
  {
   "cell_type": "code",
   "execution_count": null,
   "outputs": [],
   "source": [
    "# How many movies are in both the top ten\n",
    "#highest rated movies according to the imdb.rating\n",
    "#and the metacritic fields?\n",
    "#We should get these results with exactly one access to the database.\n",
    "# Top ten movies by imdb.rating\n",
    "# This is goig to give us Top ten movies by imdb.rating\n",
    "#############################################################\n",
    "#Deviding the problems into the simple ways to the complex one\n",
    "####################################################\"########\n",
    "mydb.movie.aggregate([\n",
    "    {\"$match\": {\"$and\": [\n",
    "         { \"imdb.rating\": { \"$ne\": \"\" }},\n",
    "         { \"metacritic\": { \"$ne\": \"\" }},\n",
    "         { \"metacritic\": { \"$ne\": \"null\" }}\n",
    "    ]}},\n",
    "    {\"$sort\": { \"imdb.rating\": -1 }},\n",
    "    {\"$limit\": 10},\n",
    "    {\"$project\": { \"_id\":0, \"title\": 1, \"imdb.rating\": 1, \"metacritic\": 1 }}\n",
    "])\n",
    "############################################################################################\n",
    "####Now Lets get the\n",
    "# Top ten movies by metacritic\n",
    "######################################################################\n",
    "mydb.movies.aggregate([\n",
    "\n",
    "    {\"$match\": {\"$and\": [\n",
    "         { \"imdb.rating\": { \"$ne\": \"\" }},\n",
    "         { \"metacritic\": { \"$ne\": \"\" }},\n",
    "         { \"metacritic\": { \"$ne\":\" null\" }}\n",
    "    ]}},\n",
    "    {\"$sort\": { \"metacritic\": -1 }},\n",
    "    {\"$limit\": 10},\n",
    "    {\"$project\": { \"_id\":0, \"title\": 1, \"imdb.rating\": 1, \"metacritic\": 1 }}\n",
    "])\n",
    "\n",
    "##############################################################################\"\n",
    "#NOW LETS MAKE IT BY THE RIGHT WAY\n",
    "###############################################################\"\"\n",
    "try:\n",
    "    top10Movies=mydb.movie.aggregate([\n",
    "    {\n",
    "        \"$match\": {\n",
    "            \"$and\": [\n",
    "                 { \"imdb.rating\": { \"$ne\": \"\" }},\n",
    "               { \"metacritic\": { \"$ne\": \"\" }},\n",
    "                { \"metacritic\": { \"$ne\": \"null\" }}\n",
    "                ]\n",
    "                 }\n",
    "    },\n",
    "    {\n",
    "        \"$project\": {\n",
    "            \"_id\":0,\n",
    "            \"title\": 1,\n",
    "            \"imdb.rating\": 1,\n",
    "            \"metacritic\": 1 }\n",
    "    },\n",
    "    {\n",
    "        \"$facet\": {\n",
    "        \"imdbTop10\": [{\"$sort\": { \"imdb.rating\": -1 }},\n",
    "                      {\"$limit\": 10},\n",
    "                      {\"$project\": {\"_id\": 0, \"title\": 1 }}],\n",
    "        \"metacriticTop10\": [{\"$sort\": { \"metacritic\": -1 }},\n",
    "                            {\"$limit\": 10},\n",
    "                            {\"$project\": { \"_id\":0, \"title\": 1 }}]\n",
    "    }},\n",
    "    {\n",
    "        \"$project\": {\n",
    "            \"movies_in_both\" : {\"$setIntersection\": [ \"$metacriticTop10\", \"$imdbTop10\"] }\n",
    "        }\n",
    "    }\n",
    "])\n",
    "\n",
    "    for m in top10Movies:\n",
    "        jsonMovie = json.dumps(m)\n",
    "        docMovie = json.loads(jsonMovie)\n",
    "        print(docMovie[\"movies_in_both\"])\n",
    "\n",
    "except Exception as e:\n",
    "    print(\"exception Occurred while operation \", e)\n",
    "finally:\n",
    "    print(\"Operation has been done !\")\n"
   ],
   "metadata": {
    "collapsed": false,
    "pycharm": {
     "name": "#%%\n"
    }
   }
  },
  {
   "cell_type": "code",
   "execution_count": null,
   "outputs": [],
   "source": [
    "#Use $match and $sort stages early on in the pipeline as this will take advantage of indexes.\n",
    "#Following looks for movies starting with a vowel (case-insensitive),\n",
    "#splits the title and counts how many words there are, groups\n",
    "# by the $title_size counting how many there are of each then sorts by descending order.\n",
    "#Adding the {$explain: true} provides additional information, it reveals where indexes have been used.\n",
    "\n",
    "all=mydb.movie.aggregate([\n",
    "    {\"$match\": {\n",
    "        \"title\":{\"$getField\":{\"$regex\":'[aeiou]{3}'}}}\n",
    "    },\n",
    "    {\"$project\": {\n",
    "        \"title_size\": { \"$size\": {\"$split\": [\"$title\", \" \"]}},}\n",
    "    },\n",
    "    {\"$group\": {\n",
    "        \"_id\": \"$title_size\",\n",
    "        \"count\": {\"$sum\": 1}\n",
    "    },},\n",
    "    {\"$sort\": {\"$count\": -1},\n",
    "    }\n",
    "])\n",
    "print(all)"
   ],
   "metadata": {
    "collapsed": false,
    "pycharm": {
     "name": "#%%\n"
    }
   }
  },
  {
   "cell_type": "code",
   "execution_count": null,
   "outputs": [],
   "source": [
    "# get all the indexes in mongodb by the methog getIndexes()\n",
    "# it doesn'nt support pymongo so whe have to use index_information()\n",
    "indexes=mydb.movie.index_information()\n",
    "print('all the indexes oth th movie collection',indexes)"
   ],
   "metadata": {
    "collapsed": false,
    "pycharm": {
     "name": "#%%\n"
    }
   }
  },
  {
   "cell_type": "code",
   "execution_count": null,
   "outputs": [],
   "source": [
    "# Creating the  index n the title\n",
    "try:\n",
    "    mydb.movie.create_index('title')\n",
    "# Get indexes\n",
    "    mydb.movie.index_information()\n",
    "#check the execution status to  verify that  the index is giving a result in a high speed\n",
    "    print(mydb.movie.find({'title':{\"$type\":\"string\"}}).explain()['executionStats'])\n",
    "except Exception as e:\n",
    "    print(\"exception Occurred while operation \", e)\n",
    "finally:\n",
    "    print(\"Operation finished !\")"
   ],
   "metadata": {
    "collapsed": false,
    "pycharm": {
     "name": "#%% create in index for the hole collection called films\n"
    }
   }
  },
  {
   "cell_type": "code",
   "execution_count": null,
   "outputs": [],
   "source": [
    "# MongBD indexes get all the indexes in the movie database\n",
    " #create a new index called year_founded_index on the movie table\n",
    "# Create new index\n",
    "mydb.movoe.create_index('year', name=\"year_founded_index\")\n",
    "# Get indexes\n",
    "mydb.movie.index_information()\n"
   ],
   "metadata": {
    "collapsed": false,
    "pycharm": {
     "name": "#%%\n"
    }
   }
  },
  {
   "cell_type": "code",
   "execution_count": null,
   "outputs": [],
   "source": [
    "#drop the index called films_1 and film_1\n",
    "\n",
    "mydb.movie.drop_index('film_1')\n",
    "mydb.movie.drop_index('films_1')\n",
    "# Get indexes\n",
    "mydb.movie.index_information()\n"
   ],
   "metadata": {
    "collapsed": false,
    "pycharm": {
     "name": "#%%\n"
    }
   }
  },
  {
   "cell_type": "code",
   "execution_count": null,
   "outputs": [],
   "source": [
    "#create a unique index that expires after 3600 seconds\n",
    "mydb.movie.createIndex(\n",
    "  {\n",
    "      \"uniqueIndex\": 1\n",
    "  },\n",
    "  {\n",
    "      'unique': 'true',\n",
    "      'sparse': 'true',\n",
    "      'expireAfterSeconds': 3600\n",
    "  }\n",
    ")"
   ],
   "metadata": {
    "collapsed": false,
    "pycharm": {
     "name": "#%%\n"
    }
   }
  },
  {
   "cell_type": "code",
   "execution_count": null,
   "outputs": [],
   "source": [
    "# Now let's drop all the indexes in the movie collection\n",
    "mydb.movie.drop_indexes()"
   ],
   "metadata": {
    "collapsed": false,
    "pycharm": {
     "name": "#%%\n"
    }
   }
  },
  {
   "cell_type": "code",
   "execution_count": null,
   "outputs": [],
   "source": [
    "# Get indexes are removed\n",
    "mydb.movie.index_information()"
   ],
   "metadata": {
    "collapsed": false,
    "pycharm": {
     "name": "#%%\n"
    }
   }
  },
  {
   "cell_type": "code",
   "execution_count": null,
   "outputs": [],
   "source": [
    "# Now we can create a compound index using the type and plot fields:\n",
    "from IPython.lib.pretty import pprint\n",
    "# Create Compound index\n",
    "mydb.movie.create_index([('type',pymongo.ASCENDING),\n",
    "                            ('plot',pymongo.ASCENDING)],\n",
    "                            name='type_plot')\n",
    "# Get indexes\n",
    "pprint(mydb.movie.index_information())\n",
    "\n"
   ],
   "metadata": {
    "collapsed": false,
    "pycharm": {
     "name": "#%%\n"
    }
   }
  },
  {
   "cell_type": "code",
   "execution_count": 37,
   "outputs": [
    {
     "data": {
      "text/plain": "'$**_1'"
     },
     "execution_count": 37,
     "metadata": {},
     "output_type": "execute_result"
    }
   ],
   "source": [
    "# let's index all the fields in the movies and movie collections\n",
    "mydb.movies.create_index([('$**', 1)])\n",
    "mydb.movie.create_index([('$**', 1)])"
   ],
   "metadata": {
    "collapsed": false,
    "pycharm": {
     "name": "#%%\n"
    }
   }
  },
  {
   "cell_type": "code",
   "execution_count": 39,
   "outputs": [
    {
     "data": {
      "text/plain": "'awards.$**_1'"
     },
     "execution_count": 39,
     "metadata": {},
     "output_type": "execute_result"
    }
   ],
   "source": [
    "#crete index for every field in awards object\n",
    "mydb.movie.create_index([(\"awards.$**\", pymongo.ASCENDING)])"
   ],
   "metadata": {
    "collapsed": false,
    "pycharm": {
     "name": "#%%\n"
    }
   }
  },
  {
   "cell_type": "code",
   "execution_count": 40,
   "outputs": [
    {
     "data": {
      "text/plain": "<pymongo.cursor.Cursor at 0x223df610df0>"
     },
     "execution_count": 40,
     "metadata": {},
     "output_type": "execute_result"
    }
   ],
   "source": [
    "mydb.movie.find({\"awards.wins\":{\"$gt\":1}})"
   ],
   "metadata": {
    "collapsed": false,
    "pycharm": {
     "name": "#%%#ensure that the index is done\n"
    }
   }
  },
  {
   "cell_type": "code",
   "execution_count": null,
   "outputs": [],
   "source": [
    "# Drop previous indexes\n",
    "mydb.movie.drop_indexes()\n",
    "\n",
    "# Create text index\n",
    "mydb.movie.create_index([('plot', 'text')],\n",
    "                            name='plot_name')\n",
    "# List indexes\n",
    "print(mydb.movie.index_information())\n",
    "# Find one movie  with film word in their plot description\n",
    "try:\n",
    "    hep=mydb.movie.find(\n",
    "    {\n",
    "        \"$text\": {\"$search\": \"film\"}\n",
    "     },\n",
    "\n",
    ")\n",
    "    pprint(hep)\n",
    "\n",
    "except Exception as e:\n",
    "    print(\"exception Occurred while operation \", e)\n",
    "finally:\n",
    "    print(\"Operation has been done !\")\n",
    "\n"
   ],
   "metadata": {
    "collapsed": false,
    "pycharm": {
     "name": "#%%\n"
    }
   }
  },
  {
   "cell_type": "code",
   "execution_count": null,
   "outputs": [],
   "source": [
    "# Let's now play with the data using python data science libraries\n",
    "#import the movies.csv into movis .html\n",
    "import pandas as pd\n",
    "films= pd.read_csv(\"datasets/movies.csv\",index_col=0)\n",
    "films.to_html('movies.html')\n",
    "#Once you run this code,\n",
    "#a HTML file will be created named “movies.html” is located  the project directories\n",
    "# . You can directly copy the path of the file and paste it in your browser\n",
    "# which displays the data in a HTML format"
   ],
   "metadata": {
    "collapsed": false,
    "pycharm": {
     "name": "#%%\n"
    }
   }
  },
  {
   "cell_type": "code",
   "execution_count": null,
   "outputs": [],
   "source": [
    "# show a bar graph illustrates awards.nomination ,award.wins by year\n",
    "import pandas as pd\n",
    "import  pysd\n",
    "import matplotlib.pyplot as plt\n",
    "from matplotlib import style\n",
    "style.use('fivethirtyeight')\n",
    "films= pd.read_csv(\"datasets/movies.csv\",index_col=0)\n",
    "df= films.head()\n",
    "df= df.set_index([\"year\"])\n",
    "df.plot(kind=\"bar\")\n",
    "plt.legend()\n",
    "plt.xlabel('year')\n",
    "plt.ylabel('awards.wins')\n",
    "plt.title('Information')\n",
    "plt.legend()\n",
    "plt.grid(True,color='k')\n",
    "plt.show()"
   ],
   "metadata": {
    "collapsed": false,
    "pycharm": {
     "name": "#%%\n"
    }
   }
  },
  {
   "cell_type": "code",
   "execution_count": null,
   "outputs": [],
   "source": [
    "# using plotly show the yearly awards wins for each movie\n",
    "df = pd.read_csv(\"datasets/movies.csv\")\n",
    "pd.set_option('display.max_columns', None)\n",
    "pd.set_option('display.max_rows', None)\n",
    "print(df.head())\n",
    "plt.hist(df['title'])\n",
    "plt.xlabel('year')\n",
    "plt.ylabel('awards.wins')\n",
    "plt.autumn()\n",
    "plt.ion()\n",
    "plt.boxplot\n",
    "plt.cool()\n",
    "plt.title('Histogram of Overall yearly awards  for aech  film')\n",
    "plt.show()"
   ],
   "metadata": {
    "collapsed": false,
    "pycharm": {
     "name": "#%%\n"
    }
   }
  },
  {
   "cell_type": "code",
   "execution_count": null,
   "outputs": [],
   "source": [
    "# let's show the films by their year in scatter design\n",
    "plt.scatter(df['year'], df['title'])\n",
    "plt.title('movie-- year')\n",
    "plt.ylabel('Movie title')\n",
    "plt.xlabel('YEAR')\n",
    "plt.show()"
   ],
   "metadata": {
    "collapsed": false,
    "pycharm": {
     "name": "#%%\n"
    }
   }
  },
  {
   "cell_type": "code",
   "execution_count": null,
   "outputs": [],
   "source": [
    "# let's try seaborn now\n",
    " #let's show the films by their year with seaborn\n",
    "import seaborn as sns\n",
    "sns.set()\n",
    "sns.scatterplot(df['year'], df['title'])\n",
    "plt.title('MOVIES BY THEIR FOUNDATION YEAR')\n",
    "plt.ylabel('movie title')\n",
    "plt.xlabel('movie year')\n",
    "plt.show()"
   ],
   "metadata": {
    "collapsed": false,
    "pycharm": {
     "name": "#%%\n"
    }
   }
  },
  {
   "cell_type": "code",
   "execution_count": null,
   "outputs": [],
   "source": [
    "# Let's get in details with  the matplotlib\n",
    "raw_data=pd.read_csv('datasets/movies.csv')\n",
    "#let's run all the data\n",
    "raw_data\n",
    "#runs the first 5 rows\n",
    "raw_data.head()"
   ],
   "metadata": {
    "collapsed": false,
    "pycharm": {
     "name": "#%%\n"
    }
   }
  },
  {
   "cell_type": "code",
   "execution_count": null,
   "outputs": [],
   "source": [
    " # Line graphs with  xtickers\n",
    "plt.plot(raw_data[\"title\"],)\n",
    "plt.xticks(range(0, len(raw_data[\"title\"])),raw_data[\"year\"])\n",
    "plt.show()"
   ],
   "metadata": {
    "collapsed": false,
    "pycharm": {
     "name": "#%%\n"
    }
   }
  },
  {
   "cell_type": "code",
   "execution_count": null,
   "outputs": [],
   "source": [
    " # get only 10 films the latest 10 films\n",
    "# yearly films by the awards wins\n",
    "a=raw_data.tail(10)\n",
    "plt.plot(a[\"awards.wins\"],)\n",
    "plt.xticks(range(0, len(raw_data[\"title\"])),raw_data[\"year\"])\n",
    "plt.show()\n"
   ],
   "metadata": {
    "collapsed": false,
    "pycharm": {
     "name": "#%%\n"
    }
   }
  },
  {
   "cell_type": "code",
   "execution_count": null,
   "outputs": [],
   "source": [
    "a=raw_data.tail(10)\n",
    "plt.figure(figsize=(10,5))\n",
    "#project teh awarded wins with  a new linestyle\n",
    "plt.plot(a[\"awards.wins\"],a[\"year\"],linestyle=\"-.\")\n",
    "#title mustbe with  fontsize 20\n",
    "plt.title(\"films awarded by year\",fontsize=20)\n",
    "plt.legend(loc=\"upper center\")\n",
    "plt.xlabel(\"awards\",fontsize=20)\n",
    "plt.ylabel(\"years\",fontsize=20)\n",
    "plt.show()"
   ],
   "metadata": {
    "collapsed": false,
    "pycharm": {
     "name": "#%%\n"
    }
   }
  },
  {
   "cell_type": "code",
   "execution_count": null,
   "outputs": [],
   "source": [
    "# yearly films by the awards wins bar chart\n",
    "a=raw_data.tail(10)\n",
    "plt.figure(figsize=(10,5))\n",
    "#project teh awarded wins with  a new linestyle\n",
    "plt.bar(a[\"awards.wins\"],a[\"year\"],color=\"red\")\n",
    "#title mustbe with  fontsize 20\n",
    "plt.title(\"films awarded by year\",fontsize=20)\n",
    "plt.legend(loc=\"upper center\")\n",
    "plt.xlabel(\"awards\",fontsize=20)\n",
    "plt.ylabel(\"years\",fontsize=20)\n",
    "plt.show()"
   ],
   "metadata": {
    "collapsed": false,
    "pycharm": {
     "name": "#%%\n"
    }
   }
  },
  {
   "cell_type": "code",
   "execution_count": null,
   "outputs": [],
   "source": [
    "# LEt's make a full data analysis with pyhton\n",
    "# Let's import a new dataset from The famous  NETFLIX\n",
    "netflix_data=pd.read_csv('datasets/Netflix Dataset.csv')"
   ],
   "metadata": {
    "collapsed": false,
    "pycharm": {
     "name": "#%%\n"
    }
   }
  },
  {
   "cell_type": "code",
   "execution_count": null,
   "outputs": [],
   "source": [
    " # top 5 records of the datasets\n",
    "netflix_data.head()\n"
   ],
   "metadata": {
    "collapsed": false,
    "pycharm": {
     "name": "#%%\n"
    }
   }
  },
  {
   "cell_type": "code",
   "execution_count": null,
   "outputs": [],
   "source": [
    "# top 5 records of the from the bottom up\n",
    "netflix_data.tail()"
   ],
   "metadata": {
    "collapsed": false,
    "pycharm": {
     "name": "#%%\n"
    }
   }
  },
  {
   "cell_type": "code",
   "execution_count": null,
   "outputs": [],
   "source": [
    "# show the number of rows and columns in netflix dataset\n",
    "netflix_data.shape"
   ],
   "metadata": {
    "collapsed": false,
    "pycharm": {
     "name": "#%%\n"
    }
   }
  },
  {
   "cell_type": "code",
   "execution_count": null,
   "outputs": [],
   "source": [
    "# whow the total number of values elements in netflix dataset\n",
    "netflix_data.size"
   ],
   "metadata": {
    "collapsed": false,
    "pycharm": {
     "name": "#%%\n"
    }
   }
  },
  {
   "cell_type": "code",
   "execution_count": null,
   "outputs": [],
   "source": [
    "# show  column names of the netflix dataset\n",
    "netflix_data.columns"
   ],
   "metadata": {
    "collapsed": false,
    "pycharm": {
     "name": "#%%\n"
    }
   }
  },
  {
   "cell_type": "code",
   "execution_count": null,
   "outputs": [],
   "source": [
    "# show the data type of each columns\n",
    "netflix_data.dtypes\n"
   ],
   "metadata": {
    "collapsed": false,
    "pycharm": {
     "name": "#%%\n"
    }
   }
  },
  {
   "cell_type": "code",
   "execution_count": null,
   "outputs": [],
   "source": [
    "# whow all te information of the dataset at once\n",
    "netflix_data.info()\n"
   ],
   "metadata": {
    "collapsed": false,
    "pycharm": {
     "name": "#%%\n"
    }
   }
  },
  {
   "cell_type": "code",
   "execution_count": null,
   "outputs": [],
   "source": [
    " # find the duplicate records in this datset and remove them\n",
    "netflix_data.duplicated()\n",
    "#check fo  duplicated rows\n",
    "netflix_data[netflix_data.duplicated()]\n",
    "#drop the duplicate records\n",
    "netflix_data.drop_duplicates(inplace=True)\n",
    "#check that are removed\n",
    "netflix_data[netflix_data.duplicated()]"
   ],
   "metadata": {
    "collapsed": false,
    "pycharm": {
     "name": "#%%\n"
    }
   }
  },
  {
   "cell_type": "code",
   "execution_count": null,
   "outputs": [],
   "source": [
    "# If there are any bull values presents in the column show them n a heat-map\n",
    "#show null values\n",
    "netflix_data.isnull()\n",
    "#count all the null values\n",
    "netflix_data.isnull().sum()\n",
    "import  seaborn as sns\n",
    "sns.heatmap(netflix_data.isnull())\n"
   ],
   "metadata": {
    "collapsed": false,
    "pycharm": {
     "name": "#%%\n"
    }
   }
  },
  {
   "cell_type": "code",
   "execution_count": null,
   "outputs": [],
   "source": [
    " # For \"the Hose of cards \"  what is the show id an who is the director of  this show?\n",
    "# Method ONE\n",
    "show=netflix_data[netflix_data['Title'].isin([\"House of Cards\"])]\n",
    "print(\"the show id is,\",show[\"Show_Id\"],\"The director is\",show[\"Director\"])\n"
   ],
   "metadata": {
    "collapsed": false,
    "pycharm": {
     "name": "#%%\n"
    }
   }
  },
  {
   "cell_type": "code",
   "execution_count": null,
   "outputs": [],
   "source": [
    "# Second method\n",
    "show=netflix_data[netflix_data[\"Title\"].str.contains(\"House of Cards\")]\n",
    "print(\"the show id is,\",show[\"Show_Id\"],\"The director is\",show[\"Director\"])"
   ],
   "metadata": {
    "collapsed": false,
    "pycharm": {
     "name": "#%%\n"
    }
   }
  },
  {
   "cell_type": "code",
   "execution_count": null,
   "outputs": [],
   "source": [
    " # In Which year highest number of movies and TV show was released ?\n",
    "#show in a bar graph\n",
    "#convert the datetime\n",
    "netflix_data.dtypes\n",
    "#convert the object of date to datetime by creating new column\n",
    "netflix_data['Date_N']=pd.to_datetime(netflix_data[\"Release_Date\"])\n",
    "# check for the new column\n",
    "netflix_data.dtypes\n",
    "#get the value\n",
    "highestyear=netflix_data['Date_N'].dt.year.value_counts()\n",
    "print(highestyear)\n",
    "#show the results in bar chart\n",
    "highestyear=netflix_data['Date_N'].dt.year.value_counts().plot(kind='bar',color=\"red\")"
   ],
   "metadata": {
    "collapsed": false,
    "pycharm": {
     "name": "#%%\n"
    }
   }
  },
  {
   "cell_type": "code",
   "execution_count": null,
   "outputs": [],
   "source": [
    "# How many movies and tv shows are in the dataset s? show the result in  a bar graph\n",
    "#group all unique items of a column and show their count\n",
    "netflix_data.groupby(\"Category\").Category.count()\n",
    "#show with bargraph\n",
    "netflix_data.groupby(\"Category\").Category.count().plot(kind='bar',color=\"yellow\")\n"
   ],
   "metadata": {
    "collapsed": false,
    "pycharm": {
     "name": "#%%\n"
    }
   }
  },
  {
   "cell_type": "code",
   "execution_count": null,
   "outputs": [],
   "source": [
    " # Second method for the previous chart\n",
    "#OR we can user the countplot from seaborn library\n",
    "sns.countplot(netflix_data[\"Category\"])"
   ],
   "metadata": {
    "collapsed": false,
    "pycharm": {
     "name": "#%%\n"
    }
   }
  },
  {
   "cell_type": "code",
   "execution_count": null,
   "outputs": [],
   "source": [
    "# show  all the movies that were released in the year 2020\n",
    "netflix_data.head(1)\n",
    "#create a new year column because the date is copounded\n",
    "netflix_data[\"Year\"]=netflix_data[\"Date_N\"].dt.year\n",
    "netflix_data.head(1)\n",
    "#filter the movies\n",
    "netflix_data[(netflix_data[\"Category\"]==\"Movie\")&(netflix_data[\"Year\"]==2020 )]"
   ],
   "metadata": {
    "collapsed": false,
    "pycharm": {
     "name": "#%%\n"
    }
   }
  },
  {
   "cell_type": "code",
   "execution_count": null,
   "outputs": [],
   "source": [
    "# show the top 10 tv shows that were released in Mexico\n",
    "\n",
    "netflix_data.head(2)\n",
    "netflix_data[(netflix_data['Category']==\"TV Show\")&(netflix_data['Country']==\"Mexico\")][\"Title\"]"
   ],
   "metadata": {
    "collapsed": false,
    "pycharm": {
     "name": "#%%\n"
    }
   }
  },
  {
   "cell_type": "code",
   "execution_count": null,
   "outputs": [],
   "source": [
    "# show the top 10 directors whogave the highest number of TV Show a Movie to netflix ?\n",
    "netflix_data['Director'].value_counts().head(10)"
   ],
   "metadata": {
    "collapsed": false,
    "pycharm": {
     "name": "#%%\n"
    }
   }
  },
  {
   "cell_type": "code",
   "execution_count": null,
   "outputs": [],
   "source": [
    " # show all the records where the movie type is Cemedies or the country is United kingdom\n",
    "netflix_data.head(2)\n",
    "netflix_data[(netflix_data['Category']==\"Movie\")&(netflix_data[\"Type\"]==\"Comedies\")]\n",
    "netflix_data[(netflix_data['Category']==\"Movie\")&(netflix_data[\"Type\"]==\"Comedies\")|(netflix_data[\"Country\"]==\"United Kingdom\")]"
   ],
   "metadata": {
    "collapsed": false,
    "pycharm": {
     "name": "#%%\n"
    }
   }
  },
  {
   "cell_type": "code",
   "execution_count": null,
   "outputs": [],
   "source": [
    "# In how many movies and shows Tom Cruise was a cast ?\n",
    "netflix_data[netflix_data['Cast']==\"Tom Cruise\"]\n",
    "#remouve the null and missing values to\n",
    "data_new=netflix_data.dropna()\n",
    "data_new[data_new['Cast'].str.contains(\"Tom Cruise\")]\n"
   ],
   "metadata": {
    "collapsed": false,
    "pycharm": {
     "name": "#%%\n"
    }
   }
  },
  {
   "cell_type": "code",
   "execution_count": null,
   "outputs": [],
   "source": [
    " # What are the different ratings defined by netflix\n",
    "netflix_data.Rating.unique()"
   ],
   "metadata": {
    "collapsed": false,
    "pycharm": {
     "name": "#%%\n"
    }
   }
  },
  {
   "cell_type": "code",
   "execution_count": null,
   "outputs": [],
   "source": [
    " # how  many movies got the TV-14 rating in Canada?\n",
    "netflix_data[(netflix_data.Category==\"Movie\")&(netflix_data.Rating==\"TV-14\")&(netflix_data.Country==\"Canada\")]"
   ],
   "metadata": {
    "collapsed": false,
    "pycharm": {
     "name": "#%%\n"
    }
   }
  },
  {
   "cell_type": "code",
   "execution_count": null,
   "outputs": [],
   "source": [
    "# how  many TV Show got the R rating in after 2018 ?\n",
    "netflix_data.head(2)\n",
    "netflix_data[(netflix_data.Category==\"TV Show\")&(netflix_data.Year>2018)&(netflix_data.Rating==\"R\")]\n"
   ],
   "metadata": {
    "collapsed": false,
    "pycharm": {
     "name": "#%%\n"
    }
   }
  },
  {
   "cell_type": "code",
   "execution_count": null,
   "outputs": [],
   "source": [
    "# whatis the maximum duration of a movie or show in netflix ?\n",
    "netflix_data.Duration.unique()\n",
    "netflix_data[[\"Minutes\",'Unit']]=netflix_data.Duration.str.split(' ',expand=True)\n",
    "netflix_data.head(3)\n",
    "netflix_data.Minutes.max()"
   ],
   "metadata": {
    "collapsed": false,
    "pycharm": {
     "name": "#%%\n"
    }
   }
  },
  {
   "cell_type": "code",
   "execution_count": null,
   "outputs": [],
   "source": [
    "# whiwh individual country  has the highest number of tv shows ?\n",
    "data_tvShow=netflix_data[netflix_data['Category']==\"TV Show\"]\n",
    "data_tvShow.Country.value_counts().head(1)"
   ],
   "metadata": {
    "collapsed": false,
    "pycharm": {
     "name": "#%%\n"
    }
   }
  },
  {
   "cell_type": "code",
   "execution_count": null,
   "outputs": [],
   "source": [
    "# sort dataset by year\n",
    "netflix_data.sort_values(by=\"Year\",ascending=False).head(2)\n"
   ],
   "metadata": {
    "collapsed": false,
    "pycharm": {
     "name": "#%%\n"
    }
   }
  },
  {
   "cell_type": "code",
   "execution_count": null,
   "outputs": [],
   "source": [
    "# get 2   category movie is drama\n",
    "netflix_data[ (netflix_data.Category==\"Movie\")&(netflix_data.Type==\"Dramas\") ]"
   ],
   "metadata": {
    "collapsed": false,
    "pycharm": {
     "name": "#%%\n"
    }
   }
  },
  {
   "cell_type": "code",
   "execution_count": null,
   "outputs": [],
   "source": [
    "# get the movies where it is a tv show and type is KIDs\n",
    "netflix_data[ (netflix_data.Category==\"TV Show\")&(netflix_data.Type==\"Kids' TV\") ]"
   ],
   "metadata": {
    "collapsed": false,
    "pycharm": {
     "name": "#%%\n"
    }
   }
  },
  {
   "cell_type": "code",
   "execution_count": null,
   "outputs": [],
   "source": [
    "# SOME DATA SCRAPING WITH PYHTON AND BEATIFUL SOUP\n",
    "#Scraping Multiples pages of IMDB at a time to fetch top 1000 movies data."
   ],
   "metadata": {
    "collapsed": false,
    "pycharm": {
     "name": "#%%\n"
    }
   }
  },
  {
   "cell_type": "code",
   "execution_count": null,
   "outputs": [],
   "source": [
    "#importing the libraries needed\n",
    "import pandas as pd\n",
    "import numpy as np\n",
    "import requests\n",
    "from bs4 import BeautifulSoup\n",
    "from time import sleep\n",
    "from random import randint\n",
    "\n",
    "#Declaring the headers\n",
    "headers = {\"Accept-Language\": \"en-US,en;q=0.5\"}"
   ],
   "metadata": {
    "collapsed": false,
    "pycharm": {
     "name": "#%%\n"
    }
   }
  },
  {
   "cell_type": "code",
   "execution_count": null,
   "outputs": [],
   "source": [
    "#declaring the list of empty variables,\n",
    "# So that we can append the data overall into this variables\n",
    "movie_name = []\n",
    "year = []\n",
    "time=[]\n",
    "rating=[]\n",
    "metascore =[]\n",
    "votes = []\n",
    "gross = []\n",
    "description = []\n",
    "#creating an array of values and passing it in the url for dynamic webpages\n",
    "pages = np.arange(1,1000,100)"
   ],
   "metadata": {
    "collapsed": false,
    "pycharm": {
     "name": "#%%\n"
    }
   }
  },
  {
   "cell_type": "code",
   "execution_count": null,
   "outputs": [],
   "source": [
    "#the whole script for scrapind data form the imbd.com page\n",
    "for page in pages:\n",
    "    page = requests.get(\"https://www.imdb.com/search/title/?groups=top_1000&sort=user_rating,desc&count=100&start=\"+str(page)+\"&ref_=adv_nxt\")\n",
    "    soup = BeautifulSoup(page.text, 'html.parser')\n",
    "    movie_data = soup.findAll('div', attrs = {'class': 'lister-item mode-advanced'})\n",
    "    sleep(randint(2,8))\n",
    "    for store in movie_data:\n",
    "        name = store.h3.a.text\n",
    "        movie_name.append(name)\n",
    "\n",
    "        year_of_release = store.h3.find('span', class_ = \"lister-item-year text-muted unbold\").text\n",
    "        year.append(year_of_release)\n",
    "\n",
    "        runtime = store.p.find(\"span\", class_ = 'runtime').text\n",
    "        time.append(runtime)\n",
    "\n",
    "        rate = store.find('div', class_ = \"inline-block ratings-imdb-rating\").text.replace('\\n', '')\n",
    "        rating.append(rate)\n",
    "\n",
    "        meta = store.find('span', class_ = \"metascore\").text if store.find('span', class_ = \"metascore\") else \"****\"\n",
    "        metascore.append(meta)\n",
    "\n",
    "\n",
    "        value = store.find_all('span', attrs = {'name': \"nv\"})\n",
    "\n",
    "        vote = value[0].text\n",
    "        votes.append(vote)\n",
    "\n",
    "        grosses = value[1].text if len(value)>1 else '%^%^%^'\n",
    "        gross.append(grosses)\n",
    "\n",
    "        # Description of the Movies\n",
    "        describe = store.find_all('p', class_ = 'text-muted')\n",
    "        description_ = describe[1].text.replace('\\n', '') if len(describe) >1 else '*****'\n",
    "        description.append(description_)\n",
    "movie_list = pd.DataFrame({ \"Movie Name\": movie_name, \"Year of Release\" : year, \"Watch Time\": time,\"Movie Rating\": rating, \"Meatscore of movie\": metascore, \"Votes\" : votes, \"Gross\": gross, \"Description\": description  })\n",
    "movie_list.head(5)"
   ],
   "metadata": {
    "collapsed": false,
    "pycharm": {
     "name": "#%%\n"
    }
   }
  },
  {
   "cell_type": "code",
   "execution_count": null,
   "outputs": [],
   "source": [
    "# saving the data in excel format\n",
    "movie_list.to_excel(\"Top 1000 IMDb movies.xlsx\")\n",
    "#  save the data in csv format\n",
    "movie_list.to_csv(\"Top 1000 IMDb movies.csv\")"
   ],
   "metadata": {
    "collapsed": false,
    "pycharm": {
     "name": "#%%\n"
    }
   }
  },
  {
   "cell_type": "code",
   "execution_count": null,
   "outputs": [],
   "source": [
    "# No let's Scrap The TOP 100 Movies from the IMDB based on the user rating\n",
    "#assigning the URL with variable name url\n",
    "url = 'https://www.imdb.com/search/title/?count=100&groups=top_1000&sort=user_rating'\n",
    "#request allow you to send HTTP request\n",
    "response = requests.get(url)\n",
    "soup = BeautifulSoup(response.content, 'html.parser')\n",
    "#creating an empty list, so that we can append the values later to this one\n",
    "movie_name = []\n",
    "year = []\n",
    "time = []\n",
    "rating = []\n",
    "metascore = []\n",
    "votes = []\n",
    "gross = []\n",
    "description = []\n",
    "Director = []\n",
    "Stars = []\n",
    "\n",
    "#storing the meaningfull required data in the variable\n",
    "movie_data = soup.findAll('div', attrs= {'class': 'lister-item mode-advanced'})\n",
    "#calling one by one using for loop\n",
    "for store in movie_data:\n",
    "    name = store.h3.a.text\n",
    "    movie_name.append(name)\n",
    "\n",
    "    year_of_release = store.h3.find('span', class_ = 'lister-item-year text-muted unbold').text.replace('(', '').replace(')', '')\n",
    "    year.append(year_of_release)\n",
    "\n",
    "    runtime = store.p.find('span', class_ = 'runtime').text.replace(' min', '')\n",
    "    time.append(runtime)\n",
    "\n",
    "    rate = store.find('div', class_ = 'inline-block ratings-imdb-rating').text.replace('\\n', '')\n",
    "    rating.append(rate)\n",
    "\n",
    "    meta  = store.find('span', class_ = 'metascore').text.replace(' ', '') if store.find('span', class_ = 'metascore') else '^^^^^^'\n",
    "    metascore.append(meta)\n",
    "    #since, gross and votes have same attributes, that's why we had created a common variable and then used indexing\n",
    "    value = store.find_all('span', attrs = {'name': 'nv'})\n",
    "\n",
    "    vote = value[0].text\n",
    "    votes.append(vote)\n",
    "\n",
    "    grosses = value[1].text if len(value) >1 else '*****'\n",
    "    gross.append(grosses)\n",
    "\n",
    "    # Description of the Movies\n",
    "    describe = store.find_all('p', class_ = 'text-muted')\n",
    "    description_ = describe[1].text.replace('\\n', '') if len(describe) >1 else '*****'\n",
    "    description.append(description_)\n",
    "\n",
    "    #Cast Details -- Scraping Director name and Stars\n",
    "    cast = store.find(\"p\", class_ = '')\n",
    "    cast = cast.text.replace('\\n', '').split('|')\n",
    "    cast = [x.strip() for x in cast]\n",
    "    cast = [cast[i].replace(j, \"\") for i,j in enumerate([\"Director:\", \"Stars:\"])]\n",
    "    Director.append(cast[0])\n",
    "    Stars.append([x.strip() for x in cast[1].split(\",\")])\n",
    "\n",
    "#creating a dataframe using pandas library\n",
    "movie_DF = pd.DataFrame({'Name of movie': movie_name, 'Year of relase': year, 'Watchtime': time, 'Movie Rating': rating, 'Metascore': metascore, 'Votes': votes, 'Gross collection': gross, 'Description': description, \"Director\": Director, 'Star': Stars})\n"
   ],
   "metadata": {
    "collapsed": false,
    "pycharm": {
     "name": "#%%\n"
    }
   }
  },
  {
   "cell_type": "code",
   "execution_count": null,
   "outputs": [],
   "source": [
    "#Saving data in Excel file: files be generated in the project director\n",
    "movie_DF.to_excel(\"Top_100_IMDB_Movies_rated.xlsx\")\n",
    "movie_DF.to_csv(\"Top_100_IMDB_Movies_rated.csv\")\n",
    "movie_DF.head(7)"
   ],
   "metadata": {
    "collapsed": false,
    "pycharm": {
     "name": "#%%\n"
    }
   }
  },
  {
   "cell_type": "code",
   "execution_count": null,
   "outputs": [],
   "source": [
    " # NOw let's just  choowe a film or a series to scrap\n",
    "from requests import Response\n",
    "# SOOOO let's Scrap IMDB for Simpsons Reviews from te season one\n",
    "import  requests\n",
    "\n",
    "url = \"https://www.imdb.com/title/tt0096697/episodes?season=1\" ;\n",
    "response=requests.get(url)\n",
    "#let's check it the request give passed 200\n",
    "response\n",
    "if response.status_code==200:\n",
    "    print(\"request is done No you can scrap BABYYYY hhaha\")\n",
    "else :\n",
    "    print(\"try another link\")"
   ],
   "metadata": {
    "collapsed": false,
    "pycharm": {
     "name": "#%%\n"
    }
   }
  },
  {
   "cell_type": "code",
   "execution_count": null,
   "outputs": [],
   "source": [
    "# get the full page this is gonna be a html page\n",
    "season_page=BeautifulSoup(response.content)\n",
    "print(season_page)\n",
    "episode_tiles=season_page.find_all('div',attrs={'class':'info'})\n",
    "episode_tiles\n",
    "# isolate we want to get title, starts, rating, date ,votes\n",
    "# so let's define this"
   ],
   "metadata": {
    "collapsed": false,
    "pycharm": {
     "name": "#%%\n"
    }
   }
  },
  {
   "cell_type": "code",
   "execution_count": null,
   "outputs": [],
   "source": [
    "# get only the first episode\n",
    "first_episode=episode_tiles[0]\n",
    "print(first_episode)"
   ],
   "metadata": {
    "collapsed": false,
    "pycharm": {
     "name": "#%%#\n"
    }
   }
  },
  {
   "cell_type": "code",
   "execution_count": null,
   "outputs": [],
   "source": [
    "# get the disired info  one by one\n",
    "for episode in episode_tiles :\n",
    "    episode_name=episode.strong.a.text\n",
    "    print(f'episode name ={episode_name}')\n",
    "    episode_air_date=episode.find('div',attrs={'class':'airdate'}).text.strip().replace('.','')\n",
    "    print(f'episode_air_date  ={episode_air_date}')\n",
    "    episode_score=episode.find('div',attrs={'div','ipl-rating-widget'}).find(\n",
    "        'div',attrs={'class','ipl-rating-star small'}).find('span',attrs={'class','ipl-rating-star__rating'}).text\n",
    "    print(episode_score)\n",
    "    episode_votes=episode.find('div',attrs={'div','ipl-rating-widget'}).find(\n",
    "        'div',attrs={'class','ipl-rating-star small'}\n",
    "    ).find('span',attrs={'class','ipl-rating-star__total-votes'}).text.strip('()').replace(',','')\n",
    "    print(episode_votes)\n",
    "    print(\"\\n\")"
   ],
   "metadata": {
    "collapsed": false,
    "pycharm": {
     "name": "#%%\n"
    }
   }
  },
  {
   "cell_type": "code",
   "execution_count": null,
   "outputs": [],
   "source": [
    "# Now lets get all the seasons of simpsons data\n",
    "for season in range(3):\n",
    "    season_no=season+1\n",
    "    print(f'>>wait we are PARSING SEASON{season_no}')\n",
    "    url = f'https://www.imdb.com/title/tt0096697/episodes?season={season_no}'\n",
    "    response=requests.get(url)\n",
    "    season_page=BeautifulSoup(response.content)\n",
    "    episode_tiles=season_page.find_all('div',attrs={'class':'info'})\n",
    "    for episode in episode_tiles :\n",
    "        episode_name=episode.strong.a.text\n",
    "        print(f'episode name ={episode_name}')\n",
    "        episode_air_date=episode.find('div',attrs={'class':'airdate'}).text.strip().replace('.','')\n",
    "        print(f'episode_air_date  ={episode_air_date}')\n",
    "        episode_score=episode.find('div',attrs={'div','ipl-rating-widget'}).find(\n",
    "            'div',attrs={'class','ipl-rating-star small'}).find('span',attrs={'class','ipl-rating-star__rating'}).text\n",
    "        print(episode_score)\n",
    "        episode_votes=episode.find('div',attrs={'div','ipl-rating-widget'}).find(\n",
    "            'div',attrs={'class','ipl-rating-star small'}\n",
    "        ).find('span',attrs={'class','ipl-rating-star__total-votes'}).text.strip('()').replace(',','')\n",
    "        print(episode_votes)\n",
    "        simpdf=pd.DataFrame(\n",
    "            {\"season number\": season_no, \"episode number\": episode_name,\"episode_votes\":episode_votes,\"episode_score\" :episode_score }, index=[0])\n",
    "        print(simpdf)\n",
    "        print(\"\\n\")\n",
    "\n",
    "    print(\"\\n\")"
   ],
   "metadata": {
    "collapsed": false,
    "pycharm": {
     "name": "#%%\n"
    }
   }
  },
  {
   "cell_type": "code",
   "execution_count": null,
   "outputs": [],
   "source": [
    "# download all Images of a movie on IMDB just give an Id to the films\n",
    "# NOTE ALL THE IMAGES WILL BE STORED IN A DIRECTORY CALLED images/ in the project folder structure\n",
    "from flask import request\n",
    "import requests\n",
    "from bs4 import BeautifulSoup\n",
    "import re,os\n",
    "import uuid\n",
    "from threading import Thread\n",
    "\n",
    "def getImages(ImdbId) :\n",
    "  url = \"https://www.imdb.com/title/\"+ImdbId+\"/mediaindex\"\n",
    "  data= {}\n",
    "  data['ImdbId']=ImdbId\n",
    "  image_urls = []\n",
    "  r = requests.get(url=url)\n",
    "  soup = BeautifulSoup(r.text, 'html.parser')\n",
    "  img =soup.find(\"img\",{'class':'poster'})\n",
    "  src=\"\"\n",
    "  if img!=None :\n",
    "      src = img.get('src')\n",
    "  data[\"poster_url\"]= src\n",
    "  imagelist = soup.find('div',{\"class\" : \"media_index_thumb_list\"})\n",
    "  Image_anchors_list=[]\n",
    "  if imagelist!= None :\n",
    "      Image_anchors_list=imagelist.findAll('a')\n",
    "\n",
    "\n",
    "  for a in Image_anchors_list :\n",
    "    img = { }\n",
    "    img[\"image_title\"]=\"\"\n",
    "    if a.has_attr('title'):\n",
    "        img[\"image_title\"] = a['title']\n",
    "    img['url']=\"\"\n",
    "    #print(a['title'])\n",
    "    imageTagList = a.findAll('img')\n",
    "    if len(imageTagList) > 0 :\n",
    "      img['url'] = imageTagList[0]['src']\n",
    "    image_urls.append(img)\n",
    "\n",
    "  data['other_images'] = image_urls\n",
    "\n",
    "\n",
    "  return data\n",
    "\n",
    "def download(img_url) :\n",
    "    r = requests.get(img_url)\n",
    "    unique_filename = str(uuid.uuid4())\n",
    "    with open('images/'+unique_filename+'.JPG', 'wb') as f:\n",
    "        f.write(r.content)\n",
    "\n",
    "def start(ImdbId) :\n",
    "    img=getImages(ImdbId)\n",
    "    print(\"Creating folder\")\n",
    "    os.makedirs(\"images\", exist_ok=True)\n",
    "    for i in img['other_images'] :\n",
    "        img_url =i['url']\n",
    "        print(img_url)\n",
    "        img_url = img_url.split(\".\")\n",
    "        img_url = \"https://m.media-amazon.\" + img_url[2]+\".\"\n",
    "        print(img_url)\n",
    "#        threads = []\n",
    "        process = Thread(target=download, args=[img_url])\n",
    "        process.start()\n",
    "    #    threads.append(process)\n",
    "\n",
    "#    for process in threads:\n",
    "#        process.join()\n",
    "#try any id to download images\n",
    "start(\"tt0944947\")\n",
    "\n"
   ],
   "metadata": {
    "collapsed": false,
    "pycharm": {
     "name": "#%%\n"
    }
   }
  },
  {
   "cell_type": "code",
   "execution_count": null,
   "outputs": [],
   "source": [
    "#LEt's DO some more pyhton scrapping\n",
    "#scrape data from IMDb’s “Top 1000” movies. The information I gather from each movie are:\n",
    "#The title\n",
    "#The year it was released\n",
    "#How long the movie is\n",
    "#IMDb’s rating of the movie\n",
    "#The Metascore of the movie\n",
    "#How many votes the movie got\n",
    "#The U.S. gross earnings of the movie\n",
    "#Link of the IMDB website: https://www.imdb.com/search/title/?groups=top_1000&ref_=adv_prv\n",
    "#Loading the libraries¶\n",
    "import pandas as pd\n",
    "import numpy as np\n",
    "import requests\n",
    "from requests import get\n",
    "from bs4 import BeautifulSoup\n",
    "from time import sleep\n",
    "from random import randint\n",
    "# Creating the lists we want to write into\n",
    "titles = []\n",
    "years = []\n",
    "time = []\n",
    "imdb_ratings = []\n",
    "metascores = []\n",
    "votes = []\n",
    "us_gross = []\n",
    "# Getting English translated titles from the movies\n",
    "headers = {'Accept-Language': 'en-US, en;q=0.5'}"
   ],
   "metadata": {
    "collapsed": false,
    "pycharm": {
     "name": "#%%\n"
    }
   }
  },
  {
   "cell_type": "code",
   "execution_count": null,
   "outputs": [],
   "source": [
    "pages = np.arange(1, 1001, 50)\n",
    "pages\n",
    "#There are 1000 movies and each page has 50 movies listed.\n",
    "#So the first 50 movies' url: https://www.imdb.com/search/title/?groups=top_1000&ref_=adv_prv\n",
    "#Movies from 51 to 100: https://www.imdb.com/search/title/?groups=top_1000&start=51&ref_=adv_nxt\n",
    "#Movies from 101 to 150: https://www.imdb.com/search/title/?groups=top_1000&start=101&ref_=adv_nxt\n",
    "#...\n",
    "# Storing each of the urls of 50 movies\n",
    "for page in pages:\n",
    "    # Getting the contents from the each url\n",
    "    page = requests.get('https://www.imdb.com/search/title/?groups=top_1000&start=' + str(page) + '&ref_=adv_nxt', headers=headers)\n",
    "    soup = BeautifulSoup(page.text, 'html.parser')\n",
    "\n",
    "    # Aiming the part of the html we want to get the information from\n",
    "    movie_div = soup.find_all('div', class_='lister-item mode-advanced')\n",
    "\n",
    "    # Controling the loop’s rate by pausing the execution of the loop for a specified amount of time\n",
    "    # Waiting time between requests for a number between 2-10 seconds\n",
    "    sleep(randint(2,10))\n",
    "\n",
    "    for container in movie_div:\n",
    "        # Scraping the movie's name\n",
    "        name = container.h3.a.text\n",
    "        titles.append(name)\n",
    "\n",
    "        # Scraping the movie's year\n",
    "        year = container.h3.find('span', class_='lister-item-year').text\n",
    "        years.append(year)\n",
    "\n",
    "        # Scraping the movie's length\n",
    "        runtime = container.find('span', class_='runtime').text if container.p.find('span', class_='runtime') else '-'\n",
    "        time.append(runtime)\n",
    "\n",
    "        # Scraping the rating\n",
    "        imdb = float(container.strong.text)\n",
    "        imdb_ratings.append(imdb)\n",
    "\n",
    "        # Scraping the metascore\n",
    "        m_score = container.find('span', class_='metascore').text if container.find('span', class_='metascore') else '-'\n",
    "        metascores.append(m_score)\n",
    "\n",
    "        # Scraping votes and gross earnings\n",
    "        nv = container.find_all('span', attrs={'name':'nv'})\n",
    "        vote = nv[0].text\n",
    "        votes.append(vote)\n",
    "        grosses = nv[1].text if len(nv) > 1 else '-'\n",
    "        us_gross.append(grosses)"
   ],
   "metadata": {
    "collapsed": false,
    "pycharm": {
     "name": "#%%\n"
    }
   }
  },
  {
   "cell_type": "code",
   "execution_count": null,
   "outputs": [],
   "source": [
    "#Creating the Data Set¶\n",
    "movies = pd.DataFrame({'movie':titles,\n",
    "                       'year':years,\n",
    "                       'time_minute':time,\n",
    "                       'imdb_rating':imdb_ratings,\n",
    "                       'metascore':metascores,\n",
    "                       'vote':votes,\n",
    "                       'gross_earning':us_gross})\n",
    "\n",
    "movies.head()"
   ],
   "metadata": {
    "collapsed": false,
    "pycharm": {
     "name": "#%%\n"
    }
   }
  },
  {
   "cell_type": "code",
   "execution_count": null,
   "outputs": [],
   "source": [
    "movies.dtypes"
   ],
   "metadata": {
    "collapsed": false,
    "pycharm": {
     "name": "#%%\n"
    }
   }
  },
  {
   "cell_type": "code",
   "execution_count": null,
   "outputs": [],
   "source": [
    "# Cleaning 'year' column\n",
    "movies['year'] = movies['year']\n",
    "movies.head(3)"
   ],
   "metadata": {
    "collapsed": false,
    "pycharm": {
     "name": "#%%\n"
    }
   }
  },
  {
   "cell_type": "code",
   "execution_count": null,
   "outputs": [],
   "source": [
    "# Cleaning 'time_minute' column\n",
    "movies['time_minute'] = movies['time_minute'].str.extract('(\\d+)').astype(int)\n",
    "movies.head(3)"
   ],
   "metadata": {
    "collapsed": false,
    "pycharm": {
     "name": "#%%\n"
    }
   }
  },
  {
   "cell_type": "code",
   "execution_count": null,
   "outputs": [],
   "source": [
    "# Cleaning 'metascore' column\n",
    "movies['metascore'] = movies['metascore'].str.extract('(\\d+)')\n",
    "# convert it to float and if there are dashes turn it into NaN\n",
    "movies['metascore'] = pd.to_numeric(movies['metascore'], errors='coerce')"
   ],
   "metadata": {
    "collapsed": false,
    "pycharm": {
     "name": "#%%\n"
    }
   }
  },
  {
   "cell_type": "code",
   "execution_count": null,
   "outputs": [],
   "source": [
    "# Cleaning 'vote' column\n",
    "movies['vote'] = movies['vote']\n",
    "movies.head(3)"
   ],
   "metadata": {
    "collapsed": false,
    "pycharm": {
     "name": "#%%\n"
    }
   }
  },
  {
   "cell_type": "code",
   "execution_count": null,
   "outputs": [],
   "source": [
    "# Cleaning 'gross_earning' column\n",
    "# left strip $ and right strip M\n",
    "movies['gross_earning'] = movies['gross_earning'].map(lambda x: x.lstrip('$').rstrip('M'))\n",
    "# convert it to float and if there are dashes turn it into NaN\n",
    "movies['gross_earning'] = pd.to_numeric(movies['gross_earning'], errors='coerce')\n",
    "movies.head(3)\n"
   ],
   "metadata": {
    "collapsed": false,
    "pycharm": {
     "name": "#%%\n"
    }
   }
  },
  {
   "cell_type": "code",
   "execution_count": null,
   "outputs": [],
   "source": [
    "movies.dtypes"
   ],
   "metadata": {
    "collapsed": false,
    "pycharm": {
     "name": "#%%\n"
    }
   }
  },
  {
   "cell_type": "code",
   "execution_count": null,
   "outputs": [],
   "source": [
    "#Final Data Set¶\n",
    "movies"
   ],
   "metadata": {
    "collapsed": false,
    "pycharm": {
     "name": "#%%\n"
    }
   }
  },
  {
   "cell_type": "code",
   "execution_count": null,
   "outputs": [],
   "source": [
    "#Saving the data to a csv file¶\n",
    "movies.to_csv('movies.csv')"
   ],
   "metadata": {
    "collapsed": false,
    "pycharm": {
     "name": "#%%\n"
    }
   }
  },
  {
   "cell_type": "code",
   "execution_count": null,
   "outputs": [],
   "source": [
    "#visulase the data in 3D matplotli\n",
    "from mpl_toolkits import mplot3d\n",
    "%matplotlib inline\n",
    "import numpy as np\n",
    "import matplotlib.pyplot as plt\n",
    "fig = plt.figure()\n",
    "fig.set_size_inches(6, 6)\n",
    "\n",
    "ax = plt.axes(projection='3d')"
   ],
   "metadata": {
    "collapsed": false,
    "pycharm": {
     "name": "#%%\n"
    }
   }
  },
  {
   "cell_type": "code",
   "execution_count": null,
   "outputs": [],
   "source": [
    "ax = plt.axes(projection='3d')\n",
    "# Data for a three-dimensional line\n",
    "# project  the year  z line line\n",
    "zline =  movies.year\n",
    "# project the imdb  rating in x axis\n",
    "xline =movies.imdb_rating\n",
    "# project the time in minutes  in yaxis\n",
    "yline = movies.time_minute\n",
    "ax.plot3D(xline, yline, zline, 'red')\n",
    "ax.set_title(\"Age-wise body weight-height distribution\")\n",
    "\n",
    "ax.set_xlabel(\"imdb rating\")\n",
    "\n",
    "ax.set_ylabel(\"time in (minute)\")\n",
    "\n",
    "ax.set_zlabel(\"Movie (years)\")\n",
    "# Data for three-dimensional scattered points\n",
    "zdata = 15 * np.random.random(100)\n",
    "xdata = np.sin(zdata) + 0.1 * np.random.randn(100)\n",
    "ydata = np.cos(zdata) + 0.1 * np.random.randn(100)\n",
    "\n",
    "ax.scatter3D(xdata, ydata, zdata, c=zdata, cmap='Greens');\n"
   ],
   "metadata": {
    "collapsed": false,
    "pycharm": {
     "name": "#%%\n"
    }
   }
  }
 ],
 "metadata": {
  "kernelspec": {
   "display_name": "Python 3 (ipykernel)",
   "language": "python",
   "name": "python3"
  },
  "language_info": {
   "codemirror_mode": {
    "name": "ipython",
    "version": 3
   },
   "file_extension": ".py",
   "mimetype": "text/x-python",
   "name": "python",
   "nbconvert_exporter": "python",
   "pygments_lexer": "ipython3",
   "version": "3.9.6"
  }
 },
 "nbformat": 4,
 "nbformat_minor": 1
}