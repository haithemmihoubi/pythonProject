{
 "cells": [
  {
   "cell_type": "code",
   "execution_count": 1,
   "metadata": {
    "pycharm": {
     "name": "#%% connecting to mongo client\n"
    }
   },
   "outputs": [
    {
     "name": "stdout",
     "output_type": "stream",
     "text": [
      "('localhost', 27017) Port = 27017 Host = localhost <bound method MongoClient.__next__ of MongoClient(host=['localhost:27017'], document_class=dict, tz_aware=False, connect=True)>\n"
     ]
    }
   ],
   "source": [
    "import json\n",
    "import pymongo\n",
    "from pymongo import MongoClient\n",
    "\n",
    "client = MongoClient('mongodb://localhost:27017/')\n",
    "print(client.address, \"Port =\", client.PORT, \"Host =\", client.HOST, client.next)"
   ]
  },
  {
   "cell_type": "code",
   "execution_count": 2,
   "metadata": {
    "pycharm": {
     "name": "#%% listing all the collections in the  mongo databse( )\n"
    }
   },
   "outputs": [],
   "source": [
    "dbs = client.list_database_names()\n",
    "#[db for db in dbs]\n",
    "#% Now let's create a new database called cinema\n",
    "mydb = client[\"cinema\"]"
   ]
  },
  {
   "cell_type": "code",
   "execution_count": 3,
   "outputs": [
    {
     "name": "stdout",
     "output_type": "stream",
     "text": [
      "The database exists.\n"
     ]
    }
   ],
   "source": [
    "dblist = client.list_database_names()\n",
    "if \"cinema\" in dblist:\n",
    "    print(\"The database exists.\")"
   ],
   "metadata": {
    "collapsed": false,
    "pycharm": {
     "name": "#%% let's check if the bd is added into the mongoDb cluster\n"
    }
   }
  },
  {
   "cell_type": "code",
   "execution_count": 4,
   "outputs": [],
   "source": [
    "mycol = mydb[\"movies\"]"
   ],
   "metadata": {
    "collapsed": false,
    "pycharm": {
     "name": "#%%  let's create  a new collection called movies into cinema database\n"
    }
   }
  },
  {
   "cell_type": "code",
   "execution_count": 4,
   "outputs": [
    {
     "name": "stdout",
     "output_type": "stream",
     "text": [
      "Hey don't  WORRY movies  Collection is added successfully\n"
     ]
    }
   ],
   "source": [
    "addedCollection = mydb.list_collection_names()\n",
    "if \"movies\" in addedCollection:\n",
    "    print(\"Hey don't  WORRY movies  Collection is added successfully\")\n",
    "else:\n",
    "    print(\"It seems like your collection hasn't been added\")"
   ],
   "metadata": {
    "collapsed": false,
    "pycharm": {
     "name": "#%% checking the collection names\n"
    }
   }
  },
  {
   "cell_type": "code",
   "execution_count": 6,
   "outputs": [],
   "source": [
    "import pandas as pd\n",
    "import json\n",
    "\n",
    "datafile = pd.read_csv(\"datsets/movies.csv\")"
   ],
   "metadata": {
    "collapsed": false,
    "pycharm": {
     "name": "#%% let's import a movies.csv file which  located in the datasets folder in this project\n"
    }
   }
  },
  {
   "cell_type": "code",
   "execution_count": 7,
   "outputs": [
    {
     "data": {
      "text/plain": "                        _id  awards.nominations  \\\n0  61636ec15dae1c1507e1f172                  63   \n1  61636ec15dae1c1507e1f173                 106   \n2  61636ec15dae1c1507e1f174                  22   \n3  61636ec15dae1c1507e1f175                   6   \n\n                                         awards.text  awards.wins  \\\n0  Won 11 Oscars. Another 116 wins & 63 nominations.          127   \n1  Won 2 Oscars. Another 142 wins & 106 nominations.          144   \n2     Won 1 Oscar. Another 51 wins & 22 nominations.           52   \n3      Won 3 Oscars. Another 6 wins & 6 nominations.            9   \n\n                                                cast              directors  \\\n0  [\"Leonardo DiCaprio\",\"Kate Winslet\",\"Billy Zan...      [\"James Cameron\"]   \n1  [\"Christian Bale\",\"Heath Ledger\",\"Aaron Eckhar...  [\"Christopher Nolan\"]   \n2  [\"Rumi Hiiragi\",\"Miyu Irino\",\"Mari Natsuki\",\"T...     [\"Hayao Miyazaki\"]   \n3  [\"Humphrey Bogart\",\"Ingrid Bergman\",\"Paul Henr...     [\"Michael Curtiz\"]   \n\n                               genres  \\\n0                 [\"Drama\",\"Romance\"]   \n1          [\"Action\",\"Crime\",\"Drama\"]   \n2  [\"Animation\",\"Adventure\",\"Family\"]   \n3           [\"Drama\",\"Romance\",\"War\"]   \n\n                                           languages  \\\n0  [\"English\",\"French\",\"German\",\"Swedish\",\"Italia...   \n1                             [\"English\",\"Mandarin\"]   \n2                                       [\"Japanese\"]   \n3            [\"English\",\"French\",\"German\",\"Italian\"]   \n\n                     lastupdated  rated                  released  \\\n0                            NaN  PG-13  1997-12-19T00:00:00.000Z   \n1                            NaN  PG-13  2008-07-18T00:00:00.000Z   \n2                            NaN     PG  2003-03-28T00:00:00.000Z   \n3  2015-09-04 00:22:54.600000000     PG  1943-01-23T00:00:00.000Z   \n\n             title  year  \n0          Titanic  1997  \n1  The Dark Knight  2008  \n2    Spirited Away  2001  \n3       Casablanca  1942  ",
      "text/html": "<div>\n<style scoped>\n    .dataframe tbody tr th:only-of-type {\n        vertical-align: middle;\n    }\n\n    .dataframe tbody tr th {\n        vertical-align: top;\n    }\n\n    .dataframe thead th {\n        text-align: right;\n    }\n</style>\n<table border=\"1\" class=\"dataframe\">\n  <thead>\n    <tr style=\"text-align: right;\">\n      <th></th>\n      <th>_id</th>\n      <th>awards.nominations</th>\n      <th>awards.text</th>\n      <th>awards.wins</th>\n      <th>cast</th>\n      <th>directors</th>\n      <th>genres</th>\n      <th>languages</th>\n      <th>lastupdated</th>\n      <th>rated</th>\n      <th>released</th>\n      <th>title</th>\n      <th>year</th>\n    </tr>\n  </thead>\n  <tbody>\n    <tr>\n      <th>0</th>\n      <td>61636ec15dae1c1507e1f172</td>\n      <td>63</td>\n      <td>Won 11 Oscars. Another 116 wins &amp; 63 nominations.</td>\n      <td>127</td>\n      <td>[\"Leonardo DiCaprio\",\"Kate Winslet\",\"Billy Zan...</td>\n      <td>[\"James Cameron\"]</td>\n      <td>[\"Drama\",\"Romance\"]</td>\n      <td>[\"English\",\"French\",\"German\",\"Swedish\",\"Italia...</td>\n      <td>NaN</td>\n      <td>PG-13</td>\n      <td>1997-12-19T00:00:00.000Z</td>\n      <td>Titanic</td>\n      <td>1997</td>\n    </tr>\n    <tr>\n      <th>1</th>\n      <td>61636ec15dae1c1507e1f173</td>\n      <td>106</td>\n      <td>Won 2 Oscars. Another 142 wins &amp; 106 nominations.</td>\n      <td>144</td>\n      <td>[\"Christian Bale\",\"Heath Ledger\",\"Aaron Eckhar...</td>\n      <td>[\"Christopher Nolan\"]</td>\n      <td>[\"Action\",\"Crime\",\"Drama\"]</td>\n      <td>[\"English\",\"Mandarin\"]</td>\n      <td>NaN</td>\n      <td>PG-13</td>\n      <td>2008-07-18T00:00:00.000Z</td>\n      <td>The Dark Knight</td>\n      <td>2008</td>\n    </tr>\n    <tr>\n      <th>2</th>\n      <td>61636ec15dae1c1507e1f174</td>\n      <td>22</td>\n      <td>Won 1 Oscar. Another 51 wins &amp; 22 nominations.</td>\n      <td>52</td>\n      <td>[\"Rumi Hiiragi\",\"Miyu Irino\",\"Mari Natsuki\",\"T...</td>\n      <td>[\"Hayao Miyazaki\"]</td>\n      <td>[\"Animation\",\"Adventure\",\"Family\"]</td>\n      <td>[\"Japanese\"]</td>\n      <td>NaN</td>\n      <td>PG</td>\n      <td>2003-03-28T00:00:00.000Z</td>\n      <td>Spirited Away</td>\n      <td>2001</td>\n    </tr>\n    <tr>\n      <th>3</th>\n      <td>61636ec15dae1c1507e1f175</td>\n      <td>6</td>\n      <td>Won 3 Oscars. Another 6 wins &amp; 6 nominations.</td>\n      <td>9</td>\n      <td>[\"Humphrey Bogart\",\"Ingrid Bergman\",\"Paul Henr...</td>\n      <td>[\"Michael Curtiz\"]</td>\n      <td>[\"Drama\",\"Romance\",\"War\"]</td>\n      <td>[\"English\",\"French\",\"German\",\"Italian\"]</td>\n      <td>2015-09-04 00:22:54.600000000</td>\n      <td>PG</td>\n      <td>1943-01-23T00:00:00.000Z</td>\n      <td>Casablanca</td>\n      <td>1942</td>\n    </tr>\n  </tbody>\n</table>\n</div>"
     },
     "execution_count": 7,
     "metadata": {},
     "output_type": "execute_result"
    }
   ],
   "source": [
    "datafile.head()"
   ],
   "metadata": {
    "collapsed": false,
    "pycharm": {
     "name": "#%% Now lets check if the file has been  read or not\n"
    }
   }
  },
  {
   "cell_type": "code",
   "execution_count": 8,
   "outputs": [
    {
     "data": {
      "text/plain": "                        _id  awards.nominations  \\\n0  61636ec15dae1c1507e1f172                  63   \n1  61636ec15dae1c1507e1f173                 106   \n2  61636ec15dae1c1507e1f174                  22   \n3  61636ec15dae1c1507e1f175                   6   \n\n                                         awards.text  awards.wins  \\\n0  Won 11 Oscars. Another 116 wins & 63 nominations.          127   \n1  Won 2 Oscars. Another 142 wins & 106 nominations.          144   \n2     Won 1 Oscar. Another 51 wins & 22 nominations.           52   \n3      Won 3 Oscars. Another 6 wins & 6 nominations.            9   \n\n                                                cast              directors  \\\n0  [\"Leonardo DiCaprio\",\"Kate Winslet\",\"Billy Zan...      [\"James Cameron\"]   \n1  [\"Christian Bale\",\"Heath Ledger\",\"Aaron Eckhar...  [\"Christopher Nolan\"]   \n2  [\"Rumi Hiiragi\",\"Miyu Irino\",\"Mari Natsuki\",\"T...     [\"Hayao Miyazaki\"]   \n3  [\"Humphrey Bogart\",\"Ingrid Bergman\",\"Paul Henr...     [\"Michael Curtiz\"]   \n\n                               genres  \\\n0                 [\"Drama\",\"Romance\"]   \n1          [\"Action\",\"Crime\",\"Drama\"]   \n2  [\"Animation\",\"Adventure\",\"Family\"]   \n3           [\"Drama\",\"Romance\",\"War\"]   \n\n                                           languages  \\\n0  [\"English\",\"French\",\"German\",\"Swedish\",\"Italia...   \n1                             [\"English\",\"Mandarin\"]   \n2                                       [\"Japanese\"]   \n3            [\"English\",\"French\",\"German\",\"Italian\"]   \n\n                     lastupdated  rated                  released  \\\n0                            NaN  PG-13  1997-12-19T00:00:00.000Z   \n1                            NaN  PG-13  2008-07-18T00:00:00.000Z   \n2                            NaN     PG  2003-03-28T00:00:00.000Z   \n3  2015-09-04 00:22:54.600000000     PG  1943-01-23T00:00:00.000Z   \n\n             title  year  \n0          Titanic  1997  \n1  The Dark Knight  2008  \n2    Spirited Away  2001  \n3       Casablanca  1942  ",
      "text/html": "<div>\n<style scoped>\n    .dataframe tbody tr th:only-of-type {\n        vertical-align: middle;\n    }\n\n    .dataframe tbody tr th {\n        vertical-align: top;\n    }\n\n    .dataframe thead th {\n        text-align: right;\n    }\n</style>\n<table border=\"1\" class=\"dataframe\">\n  <thead>\n    <tr style=\"text-align: right;\">\n      <th></th>\n      <th>_id</th>\n      <th>awards.nominations</th>\n      <th>awards.text</th>\n      <th>awards.wins</th>\n      <th>cast</th>\n      <th>directors</th>\n      <th>genres</th>\n      <th>languages</th>\n      <th>lastupdated</th>\n      <th>rated</th>\n      <th>released</th>\n      <th>title</th>\n      <th>year</th>\n    </tr>\n  </thead>\n  <tbody>\n    <tr>\n      <th>0</th>\n      <td>61636ec15dae1c1507e1f172</td>\n      <td>63</td>\n      <td>Won 11 Oscars. Another 116 wins &amp; 63 nominations.</td>\n      <td>127</td>\n      <td>[\"Leonardo DiCaprio\",\"Kate Winslet\",\"Billy Zan...</td>\n      <td>[\"James Cameron\"]</td>\n      <td>[\"Drama\",\"Romance\"]</td>\n      <td>[\"English\",\"French\",\"German\",\"Swedish\",\"Italia...</td>\n      <td>NaN</td>\n      <td>PG-13</td>\n      <td>1997-12-19T00:00:00.000Z</td>\n      <td>Titanic</td>\n      <td>1997</td>\n    </tr>\n    <tr>\n      <th>1</th>\n      <td>61636ec15dae1c1507e1f173</td>\n      <td>106</td>\n      <td>Won 2 Oscars. Another 142 wins &amp; 106 nominations.</td>\n      <td>144</td>\n      <td>[\"Christian Bale\",\"Heath Ledger\",\"Aaron Eckhar...</td>\n      <td>[\"Christopher Nolan\"]</td>\n      <td>[\"Action\",\"Crime\",\"Drama\"]</td>\n      <td>[\"English\",\"Mandarin\"]</td>\n      <td>NaN</td>\n      <td>PG-13</td>\n      <td>2008-07-18T00:00:00.000Z</td>\n      <td>The Dark Knight</td>\n      <td>2008</td>\n    </tr>\n    <tr>\n      <th>2</th>\n      <td>61636ec15dae1c1507e1f174</td>\n      <td>22</td>\n      <td>Won 1 Oscar. Another 51 wins &amp; 22 nominations.</td>\n      <td>52</td>\n      <td>[\"Rumi Hiiragi\",\"Miyu Irino\",\"Mari Natsuki\",\"T...</td>\n      <td>[\"Hayao Miyazaki\"]</td>\n      <td>[\"Animation\",\"Adventure\",\"Family\"]</td>\n      <td>[\"Japanese\"]</td>\n      <td>NaN</td>\n      <td>PG</td>\n      <td>2003-03-28T00:00:00.000Z</td>\n      <td>Spirited Away</td>\n      <td>2001</td>\n    </tr>\n    <tr>\n      <th>3</th>\n      <td>61636ec15dae1c1507e1f175</td>\n      <td>6</td>\n      <td>Won 3 Oscars. Another 6 wins &amp; 6 nominations.</td>\n      <td>9</td>\n      <td>[\"Humphrey Bogart\",\"Ingrid Bergman\",\"Paul Henr...</td>\n      <td>[\"Michael Curtiz\"]</td>\n      <td>[\"Drama\",\"Romance\",\"War\"]</td>\n      <td>[\"English\",\"French\",\"German\",\"Italian\"]</td>\n      <td>2015-09-04 00:22:54.600000000</td>\n      <td>PG</td>\n      <td>1943-01-23T00:00:00.000Z</td>\n      <td>Casablanca</td>\n      <td>1942</td>\n    </tr>\n  </tbody>\n</table>\n</div>"
     },
     "execution_count": 8,
     "metadata": {},
     "output_type": "execute_result"
    }
   ],
   "source": [
    "datafile.tail()"
   ],
   "metadata": {
    "collapsed": false,
    "pycharm": {
     "name": "#%% let'llok at the shape of this file using dhape method\n"
    }
   }
  },
  {
   "cell_type": "code",
   "execution_count": 9,
   "outputs": [],
   "source": [
    "data = datafile.to_dict(orient=\"records\")"
   ],
   "metadata": {
    "collapsed": false,
    "pycharm": {
     "name": "#%% let's conevert the csv file to a json to be added to the mongo because it stores data as BSON but we see it as json\n"
    }
   }
  },
  {
   "cell_type": "code",
   "execution_count": 10,
   "outputs": [
    {
     "data": {
      "text/plain": "[{'_id': '61636ec15dae1c1507e1f172',\n  'awards.nominations': 63,\n  'awards.text': 'Won 11 Oscars. Another 116 wins & 63 nominations.',\n  'awards.wins': 127,\n  'cast': '[\"Leonardo DiCaprio\",\"Kate Winslet\",\"Billy Zane\",\"Kathy Bates\"]',\n  'directors': '[\"James Cameron\"]',\n  'genres': '[\"Drama\",\"Romance\"]',\n  'languages': '[\"English\",\"French\",\"German\",\"Swedish\",\"Italian\",\"Russian\"]',\n  'lastupdated': nan,\n  'rated': 'PG-13',\n  'released': '1997-12-19T00:00:00.000Z',\n  'title': 'Titanic',\n  'year': 1997},\n {'_id': '61636ec15dae1c1507e1f173',\n  'awards.nominations': 106,\n  'awards.text': 'Won 2 Oscars. Another 142 wins & 106 nominations.',\n  'awards.wins': 144,\n  'cast': '[\"Christian Bale\",\"Heath Ledger\",\"Aaron Eckhart\",\"Michael Caine\"]',\n  'directors': '[\"Christopher Nolan\"]',\n  'genres': '[\"Action\",\"Crime\",\"Drama\"]',\n  'languages': '[\"English\",\"Mandarin\"]',\n  'lastupdated': nan,\n  'rated': 'PG-13',\n  'released': '2008-07-18T00:00:00.000Z',\n  'title': 'The Dark Knight',\n  'year': 2008},\n {'_id': '61636ec15dae1c1507e1f174',\n  'awards.nominations': 22,\n  'awards.text': 'Won 1 Oscar. Another 51 wins & 22 nominations.',\n  'awards.wins': 52,\n  'cast': '[\"Rumi Hiiragi\",\"Miyu Irino\",\"Mari Natsuki\",\"Takashi Naitè\"]',\n  'directors': '[\"Hayao Miyazaki\"]',\n  'genres': '[\"Animation\",\"Adventure\",\"Family\"]',\n  'languages': '[\"Japanese\"]',\n  'lastupdated': nan,\n  'rated': 'PG',\n  'released': '2003-03-28T00:00:00.000Z',\n  'title': 'Spirited Away',\n  'year': 2001},\n {'_id': '61636ec15dae1c1507e1f175',\n  'awards.nominations': 6,\n  'awards.text': 'Won 3 Oscars. Another 6 wins & 6 nominations.',\n  'awards.wins': 9,\n  'cast': '[\"Humphrey Bogart\",\"Ingrid Bergman\",\"Paul Henreid\",\"Claude Rains\"]',\n  'directors': '[\"Michael Curtiz\"]',\n  'genres': '[\"Drama\",\"Romance\",\"War\"]',\n  'languages': '[\"English\",\"French\",\"German\",\"Italian\"]',\n  'lastupdated': '2015-09-04 00:22:54.600000000',\n  'rated': 'PG',\n  'released': '1943-01-23T00:00:00.000Z',\n  'title': 'Casablanca',\n  'year': 1942}]"
     },
     "execution_count": 10,
     "metadata": {},
     "output_type": "execute_result"
    }
   ],
   "source": [
    "data"
   ],
   "metadata": {
    "collapsed": false,
    "pycharm": {
     "name": "#%% listing the json data file whiwh has been already converted\n"
    }
   }
  },
  {
   "cell_type": "code",
   "execution_count": 11,
   "outputs": [
    {
     "ename": "BulkWriteError",
     "evalue": "batch op errors occurred, full error: {'writeErrors': [{'index': 0, 'code': 11000, 'keyPattern': {'_id': 1}, 'keyValue': {'_id': '61636ec15dae1c1507e1f172'}, 'errmsg': 'E11000 duplicate key error collection: cinema.movies index: _id_ dup key: { _id: \"61636ec15dae1c1507e1f172\" }', 'op': {'_id': '61636ec15dae1c1507e1f172', 'awards.nominations': 63, 'awards.text': 'Won 11 Oscars. Another 116 wins & 63 nominations.', 'awards.wins': 127, 'cast': '[\"Leonardo DiCaprio\",\"Kate Winslet\",\"Billy Zane\",\"Kathy Bates\"]', 'directors': '[\"James Cameron\"]', 'genres': '[\"Drama\",\"Romance\"]', 'languages': '[\"English\",\"French\",\"German\",\"Swedish\",\"Italian\",\"Russian\"]', 'lastupdated': nan, 'rated': 'PG-13', 'released': '1997-12-19T00:00:00.000Z', 'title': 'Titanic', 'year': 1997}}], 'writeConcernErrors': [], 'nInserted': 0, 'nUpserted': 0, 'nMatched': 0, 'nModified': 0, 'nRemoved': 0, 'upserted': []}",
     "output_type": "error",
     "traceback": [
      "\u001B[1;31m---------------------------------------------------------------------------\u001B[0m",
      "\u001B[1;31mBulkWriteError\u001B[0m                            Traceback (most recent call last)",
      "\u001B[1;32mC:\\Users\\HAITHE~1\\AppData\\Local\\Temp/ipykernel_3092/2251848112.py\u001B[0m in \u001B[0;36m<module>\u001B[1;34m\u001B[0m\n\u001B[1;32m----> 1\u001B[1;33m \u001B[0mmydb\u001B[0m\u001B[1;33m.\u001B[0m\u001B[0mmovies\u001B[0m\u001B[1;33m.\u001B[0m\u001B[0minsert_many\u001B[0m\u001B[1;33m(\u001B[0m\u001B[0mdata\u001B[0m\u001B[1;33m)\u001B[0m\u001B[1;33m\u001B[0m\u001B[1;33m\u001B[0m\u001B[0m\n\u001B[0m\u001B[0;32m      2\u001B[0m \u001B[1;33m\u001B[0m\u001B[0m\n",
      "\u001B[1;32mc:\\users\\haithem mihoubi\\pycharmprojects\\pythonproject\\venv\\lib\\site-packages\\pymongo\\collection.py\u001B[0m in \u001B[0;36minsert_many\u001B[1;34m(self, documents, ordered, bypass_document_validation, session)\u001B[0m\n\u001B[0;32m    768\u001B[0m         \u001B[0mblk\u001B[0m \u001B[1;33m=\u001B[0m \u001B[0m_Bulk\u001B[0m\u001B[1;33m(\u001B[0m\u001B[0mself\u001B[0m\u001B[1;33m,\u001B[0m \u001B[0mordered\u001B[0m\u001B[1;33m,\u001B[0m \u001B[0mbypass_document_validation\u001B[0m\u001B[1;33m)\u001B[0m\u001B[1;33m\u001B[0m\u001B[1;33m\u001B[0m\u001B[0m\n\u001B[0;32m    769\u001B[0m         \u001B[0mblk\u001B[0m\u001B[1;33m.\u001B[0m\u001B[0mops\u001B[0m \u001B[1;33m=\u001B[0m \u001B[1;33m[\u001B[0m\u001B[0mdoc\u001B[0m \u001B[1;32mfor\u001B[0m \u001B[0mdoc\u001B[0m \u001B[1;32min\u001B[0m \u001B[0mgen\u001B[0m\u001B[1;33m(\u001B[0m\u001B[1;33m)\u001B[0m\u001B[1;33m]\u001B[0m\u001B[1;33m\u001B[0m\u001B[1;33m\u001B[0m\u001B[0m\n\u001B[1;32m--> 770\u001B[1;33m         \u001B[0mblk\u001B[0m\u001B[1;33m.\u001B[0m\u001B[0mexecute\u001B[0m\u001B[1;33m(\u001B[0m\u001B[0mwrite_concern\u001B[0m\u001B[1;33m,\u001B[0m \u001B[0msession\u001B[0m\u001B[1;33m=\u001B[0m\u001B[0msession\u001B[0m\u001B[1;33m)\u001B[0m\u001B[1;33m\u001B[0m\u001B[1;33m\u001B[0m\u001B[0m\n\u001B[0m\u001B[0;32m    771\u001B[0m         \u001B[1;32mreturn\u001B[0m \u001B[0mInsertManyResult\u001B[0m\u001B[1;33m(\u001B[0m\u001B[0minserted_ids\u001B[0m\u001B[1;33m,\u001B[0m \u001B[0mwrite_concern\u001B[0m\u001B[1;33m.\u001B[0m\u001B[0macknowledged\u001B[0m\u001B[1;33m)\u001B[0m\u001B[1;33m\u001B[0m\u001B[1;33m\u001B[0m\u001B[0m\n\u001B[0;32m    772\u001B[0m \u001B[1;33m\u001B[0m\u001B[0m\n",
      "\u001B[1;32mc:\\users\\haithem mihoubi\\pycharmprojects\\pythonproject\\venv\\lib\\site-packages\\pymongo\\bulk.py\u001B[0m in \u001B[0;36mexecute\u001B[1;34m(self, write_concern, session)\u001B[0m\n\u001B[0;32m    531\u001B[0m                 \u001B[0mself\u001B[0m\u001B[1;33m.\u001B[0m\u001B[0mexecute_no_results\u001B[0m\u001B[1;33m(\u001B[0m\u001B[0msock_info\u001B[0m\u001B[1;33m,\u001B[0m \u001B[0mgenerator\u001B[0m\u001B[1;33m)\u001B[0m\u001B[1;33m\u001B[0m\u001B[1;33m\u001B[0m\u001B[0m\n\u001B[0;32m    532\u001B[0m         \u001B[1;32melse\u001B[0m\u001B[1;33m:\u001B[0m\u001B[1;33m\u001B[0m\u001B[1;33m\u001B[0m\u001B[0m\n\u001B[1;32m--> 533\u001B[1;33m             \u001B[1;32mreturn\u001B[0m \u001B[0mself\u001B[0m\u001B[1;33m.\u001B[0m\u001B[0mexecute_command\u001B[0m\u001B[1;33m(\u001B[0m\u001B[0mgenerator\u001B[0m\u001B[1;33m,\u001B[0m \u001B[0mwrite_concern\u001B[0m\u001B[1;33m,\u001B[0m \u001B[0msession\u001B[0m\u001B[1;33m)\u001B[0m\u001B[1;33m\u001B[0m\u001B[1;33m\u001B[0m\u001B[0m\n\u001B[0m\u001B[0;32m    534\u001B[0m \u001B[1;33m\u001B[0m\u001B[0m\n\u001B[0;32m    535\u001B[0m \u001B[1;33m\u001B[0m\u001B[0m\n",
      "\u001B[1;32mc:\\users\\haithem mihoubi\\pycharmprojects\\pythonproject\\venv\\lib\\site-packages\\pymongo\\bulk.py\u001B[0m in \u001B[0;36mexecute_command\u001B[1;34m(self, generator, write_concern, session)\u001B[0m\n\u001B[0;32m    364\u001B[0m \u001B[1;33m\u001B[0m\u001B[0m\n\u001B[0;32m    365\u001B[0m         \u001B[1;32mif\u001B[0m \u001B[0mfull_result\u001B[0m\u001B[1;33m[\u001B[0m\u001B[1;34m\"writeErrors\"\u001B[0m\u001B[1;33m]\u001B[0m \u001B[1;32mor\u001B[0m \u001B[0mfull_result\u001B[0m\u001B[1;33m[\u001B[0m\u001B[1;34m\"writeConcernErrors\"\u001B[0m\u001B[1;33m]\u001B[0m\u001B[1;33m:\u001B[0m\u001B[1;33m\u001B[0m\u001B[1;33m\u001B[0m\u001B[0m\n\u001B[1;32m--> 366\u001B[1;33m             \u001B[0m_raise_bulk_write_error\u001B[0m\u001B[1;33m(\u001B[0m\u001B[0mfull_result\u001B[0m\u001B[1;33m)\u001B[0m\u001B[1;33m\u001B[0m\u001B[1;33m\u001B[0m\u001B[0m\n\u001B[0m\u001B[0;32m    367\u001B[0m         \u001B[1;32mreturn\u001B[0m \u001B[0mfull_result\u001B[0m\u001B[1;33m\u001B[0m\u001B[1;33m\u001B[0m\u001B[0m\n\u001B[0;32m    368\u001B[0m \u001B[1;33m\u001B[0m\u001B[0m\n",
      "\u001B[1;32mc:\\users\\haithem mihoubi\\pycharmprojects\\pythonproject\\venv\\lib\\site-packages\\pymongo\\bulk.py\u001B[0m in \u001B[0;36m_raise_bulk_write_error\u001B[1;34m(full_result)\u001B[0m\n\u001B[0;32m    138\u001B[0m         full_result[\"writeErrors\"].sort(\n\u001B[0;32m    139\u001B[0m             key=lambda error: error[\"index\"])\n\u001B[1;32m--> 140\u001B[1;33m     \u001B[1;32mraise\u001B[0m \u001B[0mBulkWriteError\u001B[0m\u001B[1;33m(\u001B[0m\u001B[0mfull_result\u001B[0m\u001B[1;33m)\u001B[0m\u001B[1;33m\u001B[0m\u001B[1;33m\u001B[0m\u001B[0m\n\u001B[0m\u001B[0;32m    141\u001B[0m \u001B[1;33m\u001B[0m\u001B[0m\n\u001B[0;32m    142\u001B[0m \u001B[1;33m\u001B[0m\u001B[0m\n",
      "\u001B[1;31mBulkWriteError\u001B[0m: batch op errors occurred, full error: {'writeErrors': [{'index': 0, 'code': 11000, 'keyPattern': {'_id': 1}, 'keyValue': {'_id': '61636ec15dae1c1507e1f172'}, 'errmsg': 'E11000 duplicate key error collection: cinema.movies index: _id_ dup key: { _id: \"61636ec15dae1c1507e1f172\" }', 'op': {'_id': '61636ec15dae1c1507e1f172', 'awards.nominations': 63, 'awards.text': 'Won 11 Oscars. Another 116 wins & 63 nominations.', 'awards.wins': 127, 'cast': '[\"Leonardo DiCaprio\",\"Kate Winslet\",\"Billy Zane\",\"Kathy Bates\"]', 'directors': '[\"James Cameron\"]', 'genres': '[\"Drama\",\"Romance\"]', 'languages': '[\"English\",\"French\",\"German\",\"Swedish\",\"Italian\",\"Russian\"]', 'lastupdated': nan, 'rated': 'PG-13', 'released': '1997-12-19T00:00:00.000Z', 'title': 'Titanic', 'year': 1997}}], 'writeConcernErrors': [], 'nInserted': 0, 'nUpserted': 0, 'nMatched': 0, 'nModified': 0, 'nRemoved': 0, 'upserted': []}"
     ]
    }
   ],
   "source": [
    "mydb.movies.insert_many(data)"
   ],
   "metadata": {
    "collapsed": false,
    "pycharm": {
     "name": "#%% Inserting the json data to the movies collection\n"
    }
   }
  },
  {
   "cell_type": "code",
   "execution_count": null,
   "outputs": [],
   "source": [
    "print(mydb.collection_names())"
   ],
   "metadata": {
    "collapsed": false,
    "pycharm": {
     "name": "#%% checking the collection  existance to ensure  if it is added successfully\n"
    }
   }
  },
  {
   "cell_type": "code",
   "execution_count": null,
   "outputs": [],
   "source": [
    "newmovie1 = {\n",
    "    \"awards.nominations\": 63,\n",
    "    \"awards.text\": \"Won 11 Oscars. Another 116 wins & 63 nominations.\",\n",
    "    \"awards.wins\": 127,\n",
    "    \"cast\": [\"Leonardo DiCaprio\", \"Kate Winslet\", \"Billy Zane\", \"Kathy Bates\"],\n",
    "    \"directors\": [\"James Cameron\"],\n",
    "    \"genres\": [\"Drama\", \"Romance\"],\n",
    "    \"languages\": [\"English\", \"French\", \"German\", \"Swedish\", \"Italian\", \"Russian\"],\n",
    "    \"lastupdated\": 2010,\n",
    "    \"rated\": \"PG-13\",\n",
    "    \"released\": \"1997-12-19T00:00:00.000Z\",\n",
    "    \"title\": \"Titanic\",\n",
    "    \"year\": \"1997\"\n",
    "}\n",
    "mydb.movies.insert_one(newmovie1)"
   ],
   "metadata": {
    "collapsed": false,
    "pycharm": {
     "name": "#%%  let's try to  add  only one omovies into the collection\n"
    }
   }
  },
  {
   "cell_type": "code",
   "execution_count": null,
   "outputs": [],
   "source": [
    "moviesList = [{\n",
    "    \"awards.nominations\": 63,\n",
    "    \"awards.text\": \"Won 20 Oscars. Another 50 wins & 50 nominations.\",\n",
    "    \"awards.wins\": 200,\n",
    "    \"cast\": [\"Kathy Bates\"],\n",
    "    \"directors\": [\"James Cameron\"],\n",
    "    \"genres\": [\"Drama\", \"fight\"],\n",
    "    \"languages\": [\"French\", \"German\", ],\n",
    "    \"lastupdated\": 1998,\n",
    "    \"rated\": \"PG-20\",\n",
    "    \"released\": \"1997-12-19T00:00:00.000Z\",\n",
    "    \"title\": \"head shot\",\n",
    "    \"year\": \"1997\"\n",
    "}, {\n",
    "    \"awards.nominations\": 9,\n",
    "    \"awards.text\": \"Won 11 Oscars. Another 116 wins & 63 nominations.\",\n",
    "    \"awards.wins\": 3,\n",
    "    \"cast\": [\"Kate Winslet\", \"Billy Zane\", \"Kathy Bates\"],\n",
    "    \"directors\": [\"Billy Zane Cameron\"],\n",
    "    \"genres\": [\"Drama\", \"action\", \"adrenaline\"],\n",
    "    \"languages\": [\"English\", \"French\", ],\n",
    "    \"lastupdated\": 2019,\n",
    "    \"rated\": \"PG-13\",\n",
    "    \"released\": \"1997-12-19T00:00:00.000Z\",\n",
    "    \"title\": \"Now you see me\",\n",
    "    \"year\": \"2011\"\n",
    "}, {\n",
    "    \"awards.nominations\": 20,\n",
    "    \"awards.text\": \"Won 11 Oscars. Another 116 wins & 63 nominations.\",\n",
    "    \"awards.wins\": 50,\n",
    "    \"cast\": [\"Leonardo DiCaprio\", \"Kate Winslet\", \"Billy Zane\", \"Kathy Bates\"],\n",
    "    \"directors\": [\"James Cameron\"],\n",
    "    \"genres\": [\"Drama\", \"Romance\"],\n",
    "    \"languages\": [\"English\", \"French\", \"German\", \"Swedish\", \"Italian\", \"Russian\"],\n",
    "    \"lastupdated\": 2020,\n",
    "    \"rated\": \"PG-13\",\n",
    "    \"released\": \"1997-12-19T00:00:00.000Z\",\n",
    "    \"title\": \"catch me if you can\",\n",
    "    \"year\": \"1993\"\n",
    "}, {\n",
    "    \"awards.nominations\": 19,\n",
    "    \"awards.text\": \"Won 11 Oscars. Another 50 wins & 63 nominations.\",\n",
    "    \"awards.wins\": 20,\n",
    "    \"cast\": [\"Leonardo DiCaprio\", \"Kathy Bates\"],\n",
    "    \"directors\": [\"James Cameron\"],\n",
    "    \"genres\": [\"Drama\", \"Romance\"],\n",
    "    \"languages\": [\"German\", \"Swedish\", \"Italian\"],\n",
    "    \"lastupdated\": 2020,\n",
    "    \"rated\": \"PG-13\",\n",
    "    \"released\": \"1997-12-19T00:00:00.000Z\",\n",
    "    \"title\": \"can you hear me \",\n",
    "    \"year\": \"1999\"\n",
    "}, ]\n",
    "mydb.movies.insert_many(moviesList)"
   ],
   "metadata": {
    "collapsed": false,
    "pycharm": {
     "name": "#%% Trying to add multiple movies as json format into the movies collection\n"
    }
   }
  },
  {
   "cell_type": "code",
   "execution_count": null,
   "outputs": [],
   "source": [
    "movie1 = mydb.movies.find_one({\"year\": \"1999\"})\n",
    "print(movie1)"
   ],
   "metadata": {
    "collapsed": false,
    "pycharm": {
     "name": "#%% find the movie one movie in the year 1999\n"
    }
   }
  },
  {
   "cell_type": "code",
   "execution_count": null,
   "outputs": [],
   "source": [
    "movies1997 = mydb.movies.find({\"year\": \"1997\"})\n",
    "#print all the the films that has been done in 1997\n",
    "[movie for movie in movies1997]"
   ],
   "metadata": {
    "collapsed": false,
    "pycharm": {
     "name": "#%% find all the movies which has done in  1997\n"
    }
   }
  },
  {
   "cell_type": "code",
   "execution_count": null,
   "outputs": [],
   "source": [
    "print(\"the number of the movies in the databse are \", mydb.movies.count())"
   ],
   "metadata": {
    "collapsed": false,
    "pycharm": {
     "name": "#%% count number of all the   movies in the database\n"
    }
   }
  },
  {
   "cell_type": "code",
   "execution_count": null,
   "outputs": [],
   "source": [
    "print(\"we have \", mydb.movies.find({\"lastupdated\": 2020}).count(), \"updated in 2020\")"
   ],
   "metadata": {
    "collapsed": false,
    "pycharm": {
     "name": "#%% get the number of the movies which had last update =2020\n"
    }
   }
  },
  {
   "cell_type": "code",
   "execution_count": null,
   "outputs": [],
   "source": [
    "result = mydb.movies.update_many({\"year\": \"1999\"}, {\"$inc\": {\"awards.wins\": 10}})\n",
    "print(\"The number of the updates collection is \\n \", result.matched_count)"
   ],
   "metadata": {
    "collapsed": false,
    "pycharm": {
     "name": "#%% UPDATE the movies  where the year is  equal to 1999  BY incrementing  the awards.wins by 10 points to the current value\n"
    }
   }
  },
  {
   "cell_type": "code",
   "execution_count": null,
   "outputs": [],
   "source": [
    "result = mydb.movies.update_one({\"title\": \"catch me if you can\"}, {\"$set\": {\"awards.nominations\": \"200\"}})\n",
    "if result.acknowledged == \"true\":\n",
    "    print(\"update  is done  \\n \")\n",
    "else:\n",
    "    print(\"no document wih the following criteria\")"
   ],
   "metadata": {
    "collapsed": false,
    "pycharm": {
     "name": "#%% update one document in movies where the  \"title\":\"catch me if you can\"  by setting the value of the \"awards.nominations\" to 200\n"
    }
   }
  },
  {
   "cell_type": "code",
   "execution_count": 5,
   "outputs": [
    {
     "name": "stdout",
     "output_type": "stream",
     "text": [
      "all the movies titles\n"
     ]
    },
    {
     "data": {
      "text/plain": "[['Casablanca',\n  'Now you see me',\n  'Spirited Away',\n  'THE Titanic',\n  'THE Titanic film',\n  'The Dark Knight',\n  'can you hear me ',\n  'catch me if you can',\n  'head shot']]"
     },
     "execution_count": 5,
     "metadata": {},
     "output_type": "execute_result"
    }
   ],
   "source": [
    "# iterate throught the list using pyhton iter\n",
    "moviesTitles = mydb.movies.distinct(\"title\")\n",
    "print(\"all the movies titles\")\n",
    "list(iter([moviesTitles]))"
   ],
   "metadata": {
    "collapsed": false,
    "pycharm": {
     "name": "#%%   return all the moveis titles without redundancy\n"
    }
   }
  },
  {
   "cell_type": "code",
   "execution_count": null,
   "outputs": [],
   "source": [
    "print(\"the number of movies that has  awards.wins  > 20  is  : \\n\",\n",
    "      mydb.movies.find({\"awards.wins\": {'$gt': 20}}).count())"
   ],
   "metadata": {
    "collapsed": false,
    "pycharm": {
     "name": "#%% count the films that had  awards.wins  > 20\n"
    }
   }
  },
  {
   "cell_type": "code",
   "execution_count": null,
   "outputs": [],
   "source": [
    "movies2022 = mydb.movies.find({\"lastupdated\": {\"$lte\": 2022}})\n",
    "print(\"movies found updated before 2022 \\n \")\n",
    "[movie for movie in movies2022]"
   ],
   "metadata": {
    "collapsed": false,
    "pycharm": {
     "name": "#%% find all the movies  updated  before 2022\n"
    }
   }
  },
  {
   "cell_type": "code",
   "execution_count": null,
   "outputs": [],
   "source": [
    "print(\"movies  aren't updated in 2020\")\n",
    "movies2022 = mydb.movies.find({\"lastupdated\": {\"$ne\": 2020}})\n",
    "[movie for movie in movies2022]"
   ],
   "metadata": {
    "collapsed": false,
    "pycharm": {
     "name": "#%% find all the movies that aren't updated in 2020\n"
    }
   }
  },
  {
   "cell_type": "code",
   "execution_count": null,
   "outputs": [],
   "source": [
    "moviess = mydb.movies.find({\"lastupdated\": {\"$in\": [2019, 2020]}})\n",
    "print(\"movies updated in 2019 and 2020\")\n",
    "[movie for movie in moviess]\n"
   ],
   "metadata": {
    "collapsed": false,
    "pycharm": {
     "name": "#%% find all the movies updated in 2019 and 2020\n"
    }
   }
  },
  {
   "cell_type": "code",
   "execution_count": null,
   "outputs": [],
   "source": [
    "moviess = mydb.movies.find({\"lastupdated\": {\"$nin\": [2015, 2011]}})\n",
    "print(\"movies  updated date is in 2015 and 2011 :\\n\")\n",
    "[movie for movie in moviess]\n"
   ],
   "metadata": {
    "collapsed": false,
    "pycharm": {
     "name": "#%% find all the movies  updated date is in 2015 and 2011\n"
    }
   }
  },
  {
   "cell_type": "code",
   "execution_count": null,
   "outputs": [],
   "source": [
    "moviess = mydb.movies.find({\"title\": {\"$not\": {\"$eq\": \"can you hear me \"}}})\n",
    "print(\"Movies  where the title is not equal to  can you hear me\")\n",
    "it = iter(moviess)\n",
    "i = 0\n",
    "while it.__next__():\n",
    "    i = i + 1\n",
    "    print(\"Movie number :\", i, it.next())"
   ],
   "metadata": {
    "collapsed": false,
    "pycharm": {
     "name": "#%% find all the films where the title is not equal to  \"can you hear me\"\n"
    }
   }
  },
  {
   "cell_type": "code",
   "execution_count": null,
   "outputs": [],
   "source": [
    "moviess = mydb.movies.find({\"$or\": [{\"year\": \"1999\"}, {\"lastupdated\": {\"$nin\": [2015, 2011]}}]})\n",
    "print(\"movies are \\n \")\n",
    "num = 0\n",
    "for i in moviess:\n",
    "    num = num + 1\n",
    "    print(\"Movie number \", num, i)\n"
   ],
   "metadata": {
    "collapsed": false,
    "pycharm": {
     "name": "#%% find the films that that their year matches 1999 or their last update is not in 2011,2015\n"
    }
   }
  },
  {
   "cell_type": "code",
   "execution_count": null,
   "outputs": [],
   "source": [
    "moviess = mydb.movies.find(\n",
    "    {\"$nor\": [{\"year\": \"2011\"}, {\"lastupdated\": {\"$nin\": [2005, 2006]}}, {\"awards.nominations\": {\"$gte\": 10}}]})\n",
    "[movie for movie in moviess]"
   ],
   "metadata": {
    "collapsed": false,
    "pycharm": {
     "name": "#%% find all the films that their year is not 2011 and last upadate ins not in 2005,2006 and their awards.nominations is not greater than 10\n"
    }
   }
  },
  {
   "cell_type": "code",
   "execution_count": null,
   "outputs": [],
   "source": [
    "#the year must be less than 2022 or the \"awards.wins\" is less than 50\n",
    "# AND the rate must be PG-13\n",
    "# Or  the title is not equal  to \"can you hear me \"\n",
    "from bson.json_util import dumps\n",
    "from bson.json_util import loads\n",
    "\n",
    "moviess = mydb.movies.find({\n",
    "    \"$and\": [\n",
    "        {\"$or\": [{\"year\": {\"$lt\": 2022}}, {\"awards.wins\": {\"$lte\": 50}}]},\n",
    "        {\"$or\": [{\"rated\": \"PG-13\"}, {\"title\": {\"$not\": {\"$eq\": \"can you hear me \"}}}]},\n",
    "    ]\n",
    "}).limit(1)\n",
    "print(loads(dumps(moviess)))"
   ],
   "metadata": {
    "collapsed": false,
    "pycharm": {
     "name": "#%% RETURN ONLY ONE MOVIE  that matches these conditions:\n"
    }
   }
  },
  {
   "cell_type": "code",
   "execution_count": null,
   "outputs": [],
   "source": [
    "#their year is has string type\n",
    "# and their title exists\n",
    "# Skip  the first one and limit the result by 3 items(movies )\n",
    "results = mydb.movies.find({\"$and\": [{\"year\": {\"$type\": \"string\"}}, {\"title\": {\"$exists\": \"true\"}}]}).skip(1).limit(3)\n",
    "print(\" the result of the 3 movies is \\n\")\n",
    "[i for i in results]"
   ],
   "metadata": {
    "collapsed": false,
    "pycharm": {
     "name": "#%% find all movies that :\n"
    }
   }
  },
  {
   "cell_type": "code",
   "execution_count": null,
   "outputs": [],
   "source": [
    "#that their year is has string type  and the title exists\n",
    "result = mydb.movies.find({\"$and\": [{\"year\": {\"$type\": \"string\"}}, {\"title\": {\"$exists\": \"true\"}}]}).next()\n",
    "print(result)"
   ],
   "metadata": {
    "collapsed": false,
    "pycharm": {
     "name": "#%% find all movis the next movie\n"
    }
   }
  },
  {
   "cell_type": "code",
   "execution_count": null,
   "outputs": [],
   "source": [
    "try:\n",
    "    upatedfilm = mydb.movies.update_one({\"title\": \"Titanic\"}, {\"$set\": {\"title\": \"THE Titanic film\"}})\n",
    "    if upatedfilm.modified_count >= 1:\n",
    "        print(\"The Movie Name updated successully\")\n",
    "    else:\n",
    "        print(\"This movie name doesn't exist\")\n",
    "except SyntaxError as s:\n",
    "    print(\"None of the data found to be updated \", s)"
   ],
   "metadata": {
    "collapsed": false,
    "pycharm": {
     "name": "#%% Update the title of the film named as Titanic to the Titanic film\n"
    }
   }
  },
  {
   "cell_type": "code",
   "execution_count": null,
   "outputs": [],
   "source": [
    "# don't  forget to catch erros\n",
    "try:\n",
    "    res = mydb.movies.replace_one({\"_id\": \"61636ec15dae1c1507e1f172\"}, {\"awards.nominations\": 63,\n",
    "                                                                        \"awards.text\": \"Won 11 Oscars. Another 116 wins & 63 nominations.\",\n",
    "                                                                        \"awards.wins\": 127,\n",
    "                                                                        \"cast\": [\"Leonardo DiCaprio\", \"Kate Winslet\",\n",
    "                                                                                 \"Billy Zane\", \"Kathy Bates\"],\n",
    "                                                                        \"directors\": [\"James Cameron\"],\n",
    "                                                                        \"genres\": [\"Drama\", \"Romance\"],\n",
    "                                                                        \"languages\": [\"English\", \"French\", \"German\",\n",
    "                                                                                      \"Swedish\", \"Italian\", \"Russian\"],\n",
    "                                                                        \"lastupdated\": 1998,\n",
    "                                                                        \"rated\": \"PG-13\",\n",
    "                                                                        \"released\": \"1997-12-19T00:00:00.000Z\",\n",
    "                                                                        \"title\": \"THE Titanic\",\n",
    "                                                                        \"year\": 1997})\n",
    "    if res.modified_count >= 1:\n",
    "        print(\"The Movie with the id 61636ec15dae1c1507e1f172  has been replaced with a new info\")\n",
    "    else:\n",
    "        print(\"This movie with the id 61636ec15dae1c1507e1f172 doesn't  try another id \")\n",
    "except IndexError as i:\n",
    "    print(\"No data can be managed\", i)"
   ],
   "metadata": {
    "collapsed": false,
    "pycharm": {
     "name": "#%% replace the film  with the  _id:\"61636ec15dae1c1507e1f172\"  with the new information\n"
    }
   }
  },
  {
   "cell_type": "code",
   "execution_count": null,
   "outputs": [],
   "source": [
    "try:\n",
    "    updateResult = mydb.movies.update_many({}, {\"$inc\": {\"awards.wins\": 10}})\n",
    "    if updateResult.raw_result:\n",
    "        print(\"Number of documents updated is :\\n\")\n",
    "        print(updateResult.matched_count)\n",
    "    else:\n",
    "        print(\" 0 movies  updated\")\n",
    "except Exception as e:\n",
    "    print(\"An exception occurred ::\", e)\n",
    "\n",
    "finally:\n",
    "    print(\"The  update  is Done ! \")"
   ],
   "metadata": {
    "collapsed": false,
    "pycharm": {
     "name": "#%% add a 10  award points  to   all the films\n"
    }
   }
  },
  {
   "cell_type": "code",
   "execution_count": null,
   "outputs": [],
   "source": [
    "try:\n",
    "    updateResult = mydb.movies.update_many({\"year\": {\"$gte\": 1997}},\n",
    "                                           {\"$inc\": {\"awards.wins\": 10}}, )\n",
    "    print(\"Number of documents updated on the MongoDB collection movies:\")\n",
    "    print(updateResult.matched_count)\n",
    "except Exception as e:\n",
    "    print(\"An exception occurred ::\", e)\n",
    "finally:\n",
    "    print(\"The  update  is Done ! \")"
   ],
   "metadata": {
    "collapsed": false,
    "pycharm": {
     "name": "#%% update  movies   where the  year >= 1997 and add 20 points to the awards.wins  document\n"
    }
   }
  },
  {
   "cell_type": "code",
   "execution_count": null,
   "outputs": [],
   "source": [
    "try:\n",
    "    updateResult = mydb.movies.update_many({\"languages\": {\"$size\": 6, \"$all\": [\"French\"]}},\n",
    "                                           {\"$push\": {\"languages\": \"arabic\", }})\n",
    "    print(\"Number of documents updated on the MongoDB collection movies:\")\n",
    "    print(updateResult.matched_count)\n",
    "except Exception as e:\n",
    "    print(\"An exception occurred ::\", e)\n",
    "finally:\n",
    "    print(\" The  update  is Done ! \")"
   ],
   "metadata": {
    "collapsed": false,
    "pycharm": {
     "name": "#%% update the films which has   more than 6 language and included in french language by adding arabic language in the rayy of languages\n"
    }
   }
  },
  {
   "cell_type": "code",
   "execution_count": null,
   "outputs": [],
   "source": [
    "try:\n",
    "    updateResult = mydb.movies.update_many({\"genres\": {\"$size\": 1}, },\n",
    "                                           {\"$push\": {\"genres\": {\"$each\": ['ACtion'], \"$position\": 0}}})\n",
    "    print(\"Number of documents updated on the  movies collection: \")\n",
    "    print(updateResult.matched_count)\n",
    "except Exception as e:\n",
    "    print(\"An exception occurred ::\", e)\n",
    "finally:\n",
    "    print(\" The  update  is Done ! \")"
   ],
   "metadata": {
    "collapsed": false,
    "pycharm": {
     "name": "#%% add a action genre in the begining of the genres arrays that had one genre\n"
    }
   }
  },
  {
   "cell_type": "code",
   "execution_count": null,
   "outputs": [],
   "source": [
    "#The MONGO AGGREGATION FRAMEWORK\n",
    "#Now we are going to connect  to the shared cluster of mongo db and create a new database called movie with a new big schema"
   ],
   "metadata": {
    "collapsed": false,
    "pycharm": {
     "name": "#%%\n"
    }
   }
  },
  {
   "cell_type": "code",
   "execution_count": 8,
   "outputs": [],
   "source": [
    "from pymongo.errors import OperationFailure\n",
    "from pymongo import MongoClient\n",
    "\n",
    "try:\n",
    "    client = MongoClient('mongodb://localhost:27017/')\n",
    "except pymongo.errors.ConnectionFailure as e:\n",
    "    print(\"Could not connect to server:\", e)"
   ],
   "metadata": {
    "collapsed": false,
    "pycharm": {
     "name": "#%% let's try to connect on  more time with another method\n"
    }
   }
  },
  {
   "cell_type": "code",
   "execution_count": 9,
   "outputs": [
    {
     "name": "stderr",
     "output_type": "stream",
     "text": [
      "C:\\Users\\HAITHE~1\\AppData\\Local\\Temp/ipykernel_18292/4168174577.py:1: DeprecationWarning: database_names is deprecated. Use list_database_names instead.\n",
      "  client.database_names()\n"
     ]
    },
    {
     "data": {
      "text/plain": "['admin',\n 'blog',\n 'cinema',\n 'config',\n 'demodb',\n 'local',\n 'mongodbVSCodePlaygroundDB',\n 'myfirstdb']"
     },
     "execution_count": 9,
     "metadata": {},
     "output_type": "execute_result"
    }
   ],
   "source": [
    "client.database_names()"
   ],
   "metadata": {
    "collapsed": false,
    "pycharm": {
     "name": "#%% finding all the databse names\n"
    }
   }
  },
  {
   "cell_type": "code",
   "execution_count": 10,
   "outputs": [
    {
     "name": "stdout",
     "output_type": "stream",
     "text": [
      " Operation has been ended \n"
     ]
    },
    {
     "ename": "NameError",
     "evalue": "name 'json' is not defined",
     "output_type": "error",
     "traceback": [
      "\u001B[1;31m---------------------------------------------------------------------------\u001B[0m",
      "\u001B[1;31mNameError\u001B[0m                                 Traceback (most recent call last)",
      "\u001B[1;32mC:\\Users\\HAITHE~1\\AppData\\Local\\Temp/ipykernel_18292/1596931802.py\u001B[0m in \u001B[0;36m<module>\u001B[1;34m\u001B[0m\n\u001B[0;32m      2\u001B[0m \u001B[1;32mtry\u001B[0m\u001B[1;33m:\u001B[0m\u001B[1;33m\u001B[0m\u001B[1;33m\u001B[0m\u001B[0m\n\u001B[0;32m      3\u001B[0m     \u001B[1;32mwith\u001B[0m \u001B[0mopen\u001B[0m\u001B[1;33m(\u001B[0m\u001B[1;34m'C:/Users/Haithem Mihoubi/m121/movie.json'\u001B[0m\u001B[1;33m)\u001B[0m \u001B[1;32mas\u001B[0m \u001B[0mfile\u001B[0m\u001B[1;33m:\u001B[0m\u001B[1;33m\u001B[0m\u001B[1;33m\u001B[0m\u001B[0m\n\u001B[1;32m----> 4\u001B[1;33m         \u001B[0mfile_data\u001B[0m \u001B[1;33m=\u001B[0m \u001B[0mjson\u001B[0m\u001B[1;33m.\u001B[0m\u001B[0mload\u001B[0m\u001B[1;33m(\u001B[0m\u001B[0mfile\u001B[0m\u001B[1;33m)\u001B[0m\u001B[1;33m\u001B[0m\u001B[1;33m\u001B[0m\u001B[0m\n\u001B[0m\u001B[0;32m      5\u001B[0m         \u001B[0mmydb\u001B[0m\u001B[1;33m.\u001B[0m\u001B[0mmovie\u001B[0m\u001B[1;33m.\u001B[0m\u001B[0minsert_many\u001B[0m\u001B[1;33m(\u001B[0m\u001B[0mfile_data\u001B[0m\u001B[1;33m)\u001B[0m\u001B[1;33m\u001B[0m\u001B[1;33m\u001B[0m\u001B[0m\n\u001B[0;32m      6\u001B[0m \u001B[1;32mexcept\u001B[0m \u001B[0mEOFError\u001B[0m \u001B[1;32mas\u001B[0m \u001B[0me\u001B[0m\u001B[1;33m:\u001B[0m\u001B[1;33m\u001B[0m\u001B[1;33m\u001B[0m\u001B[0m\n",
      "\u001B[1;31mNameError\u001B[0m: name 'json' is not defined"
     ]
    }
   ],
   "source": [
    "mydb = client[\"cinema\"]\n",
    "try:\n",
    "    with open('C:/Users/Haithem Mihoubi/m121/movie.json') as file:\n",
    "        file_data = json.load(file)\n",
    "        mydb.movie.insert_many(file_data)\n",
    "except EOFError as e:\n",
    "    print(\"Eroor has been occured \", e)\n",
    "finally:\n",
    "    print(\" Operation has been ended \")"
   ],
   "metadata": {
    "collapsed": false,
    "pycharm": {
     "name": "#%% create a new collection called movie\n"
    }
   }
  },
  {
   "cell_type": "code",
   "execution_count": 12,
   "outputs": [
    {
     "name": "stdout",
     "output_type": "stream",
     "text": [
      "THE MOVIE NUMBER   1 TITLE =  Those Magnificent Men in Their Flying Machines or How I Flew from London to Paris in 25 hours 11 minutes  IS Rated  G\n",
      "THE MOVIE NUMBER   2 TITLE =  Tora! Tora! Tora!  IS Rated  G\n",
      "THE MOVIE NUMBER   3 TITLE =  The Goodbye Girl  IS Rated  PG\n",
      "THE MOVIE NUMBER   4 TITLE =  Local Hero  IS Rated  PG\n",
      "THE MOVIE NUMBER   5 TITLE =  The Karate Kid  IS Rated  PG\n",
      "THE MOVIE NUMBER   6 TITLE =  The Transformers: The Movie  IS Rated  PG\n",
      "THE MOVIE NUMBER   7 TITLE =  Empire of the Sun  IS Rated  PG\n",
      "THE MOVIE NUMBER   8 TITLE =  Dreams  IS Rated  PG\n",
      "THE MOVIE NUMBER   9 TITLE =  Defending Your Life  IS Rated  PG\n",
      "THE MOVIE NUMBER   10 TITLE =  Millennium Actress  IS Rated  PG\n",
      "THE MOVIE NUMBER   11 TITLE =  Cars  IS Rated  G\n",
      "THE MOVIE NUMBER   12 TITLE =  The Cat Returns  IS Rated  G\n",
      "THE MOVIE NUMBER   13 TITLE =  Life of Pi  IS Rated  PG\n",
      "THE MOVIE NUMBER   14 TITLE =  In the Shadow of the Moon  IS Rated  PG\n",
      "THE MOVIE NUMBER   15 TITLE =  Babies  IS Rated  PG\n",
      "THE MOVIE NUMBER   16 TITLE =  Summer Wars  IS Rated  PG\n",
      "THE MOVIE NUMBER   17 TITLE =  The Secret World of Arrietty  IS Rated  G\n",
      "THE MOVIE NUMBER   18 TITLE =  The Secret World of Arrietty  IS Rated  G\n",
      "THIS IS THE END OF THE OPERATION  \n"
     ]
    }
   ],
   "source": [
    "#Problem:\n",
    "#Help MongoDB pick a movie our next movie night! Based on employee polling, we've decided that potential movies must meet the following criteria.\n",
    "#imdb.rating is at least 7\n",
    "#genres does not contain \"Crime\" or \"Horror\"\n",
    "#rated is either \"PG\" or \"G\"\n",
    "#languages contains \"English\" and \"Japanese\"\n",
    "# show just the \"title\" and the rated  field\n",
    "# catch the errors and th exceptions and indicate that the operataion is done\n",
    "#  the data will be  represented as Movie number 1  with title = 5 and rated = 6\n",
    "try:\n",
    "    documentreturned = mydb.movie.aggregate([{\n",
    "        \"$match\": {\n",
    "            \"imdb.rating\": {\"$gte\": 7},\n",
    "            \"genres\": {\"$nin\": [\"Crime\", \"Horror\"]},\n",
    "            \"rated\": {\"$in\": [\"PG\", \"G\"]},\n",
    "            \"$and\": [\n",
    "                {\"languages\": \"English\"},\n",
    "                {\"languages\": \"Japanese\"}]\n",
    "        }}, {\n",
    "        \"$project\": {\n",
    "            \"_id\": 0,\n",
    "            \"title\": 1,\n",
    "            \"rated\": 1\n",
    "        }\n",
    "    }])\n",
    "    i = 0\n",
    "    for movie in documentreturned:\n",
    "        i = i + 1\n",
    "        jsonMovie = json.dumps(movie)\n",
    "        docMovie = json.loads(jsonMovie)\n",
    "        print(\"THE MOVIE NUMBER  \", i, \"TITLE = \", docMovie['title'], \" IS Rated \", docMovie['rated'])\n",
    "\n",
    "except BaseException as e:\n",
    "    print(\"exception\", e)\n",
    "finally:\n",
    "    print(\"THIS IS THE END OF THE OPERATION  \")\n",
    "\n",
    "\n",
    "\n"
   ],
   "metadata": {
    "collapsed": false,
    "pycharm": {
     "name": "#%%   Some problems with mongo aggregation framework\n"
    }
   }
  },
  {
   "cell_type": "code",
   "execution_count": null,
   "outputs": [],
   "source": [
    "##year is at least 1995\n",
    "# the genres is  \"Crime\"or \"Horror\"\n",
    "# project only the title and the rating in  a filed called  \"The imdb Rating  is \" with the value of the imdb rating\n",
    "try:\n",
    "    documentreturned = mydb.movie.aggregate([{\n",
    "        \"$match\": {\n",
    "            \"genres\": {\"$in\": [\"Crime\", \"Horror\"]},\n",
    "            \"year\": {\"$gte\": 1995},\n",
    "\n",
    "        }}, {\n",
    "        \"$project\": {\n",
    "            \"_id\": 0,\n",
    "            \"title\": 1,\n",
    "            \"The imdb Rating  is \": \"$imdb.rating\"\n",
    "        }\n",
    "    }])\n",
    "    if documentreturned.next:\n",
    "        i = 0\n",
    "        for movie in documentreturned:\n",
    "            i = i + 1\n",
    "            jsonMovie = json.dumps(movie)\n",
    "            docMovie = json.loads(jsonMovie)\n",
    "            print(\"THE MOVIE NUMBER  \", i, \"TITLE = \", docMovie['title'], \" The imdb Rating  is    \",\n",
    "                  docMovie[\"The imdb Rating  is \"])\n",
    "    else:\n",
    "        print(\" No movie found wiht the following criteria \")\n",
    "except BaseException as e:\n",
    "    print(\"exception\", e)\n",
    "finally:\n",
    "    print(\"THIS IS THE END OF THE OPERATION  \")\n"
   ],
   "metadata": {
    "collapsed": false,
    "pycharm": {
     "name": "#%%find all  the films that meet  the following criteria\n"
    }
   }
  },
  {
   "cell_type": "code",
   "execution_count": null,
   "outputs": [],
   "source": [
    "#the awards wins are a least 1\n",
    "# multiply the imdb rating + the tomatoes viewer number of reviewes  by 2 and\n",
    "# project a field called the average rating\n",
    "try:\n",
    "    docsfound = mydb.movie.aggregate([\n",
    "        {\n",
    "            \"$match\": {\n",
    "                \"awards.wins\": {\"$gte\": 1}\n",
    "            }\n",
    "        },\n",
    "        {\n",
    "            \"$project\": {\n",
    "                \"_id\": 0,\n",
    "                \"title\": 1,\n",
    "                \"the average rating\": {\n",
    "                    \"$multiply\": [\n",
    "                        {\"$sum\": [\"$imdb.rating\", \"$tomatoes.viewer.numReviews\"]\n",
    "                         }, 2]\n",
    "                }\n",
    "            }\n",
    "        }\n",
    "    ]\n",
    "    )\n",
    "    if docsfound.next:\n",
    "        i = 0\n",
    "        for movie in docsfound:\n",
    "            i = i + 1\n",
    "            jsonMovie = json.dumps(movie)\n",
    "            docMovie = json.loads(jsonMovie)\n",
    "            print(\" MOVIE NUMBER  \", i, \"TITLE = \", docMovie['title'], \" THE AVERAGE RATING   is =   \",\n",
    "                  docMovie[\"the average rating\"])\n",
    "    else:\n",
    "        print(\"Nod ata find try anothe querries\")\n",
    "except BaseException as e:\n",
    "    print(\"exception Occurred \", e)\n",
    "finally:\n",
    "    print(\"THIS IS THE END OF THE OPERATION  \")"
   ],
   "metadata": {
    "collapsed": false,
    "pycharm": {
     "name": "#%%find all  the movies that meet  the following criteria\n"
    }
   }
  },
  {
   "cell_type": "code",
   "execution_count": null,
   "outputs": [],
   "source": [
    "#Using the Aggregation Framework, find a count of the number of movies\n",
    "# that have a title composed of one word.\n",
    "# To clarify, \"Cinderella\" and \"3-25\" should count, where as \"Cast Away\" would not.\n",
    "#Make sure you look into the $split String expression and the $size Array expression\n",
    "try:\n",
    "    counted = mydb.movie.aggregate([{\n",
    "        \"$project\": {\n",
    "            \"_id\": 0,\n",
    "            \"title\": 1,\n",
    "            \"title_size\": {\n",
    "                \"$size\": {\"$split\": [\"$title\", \" \"]}\n",
    "            }\n",
    "        }\n",
    "    }, {\n",
    "        \"$match\": {\n",
    "            \"title_size\": {\"$eq\": 1}\n",
    "        }\n",
    "    }])\n",
    "\n",
    "    s = 0\n",
    "    for val in counted:\n",
    "        s = s + 1\n",
    "\n",
    "    print(\"the number of movies  that have a title composed of one word are : \\n\", sum)\n",
    "\n",
    "except OperationFailure as a:\n",
    "    print(\"exception Occurred while operation \", a)\n",
    "finally:\n",
    "    print(\"end of operation \")"
   ],
   "metadata": {
    "collapsed": false,
    "pycharm": {
     "name": "#%%\n"
    }
   }
  },
  {
   "cell_type": "code",
   "execution_count": null,
   "outputs": [],
   "source": [
    "try:\n",
    "    movies = mydb.movie.aggregate([\n",
    "        {\n",
    "            \"$match\": {\n",
    "                \"title\": {\n",
    "                    \"$type\": \"string\"\n",
    "                }\n",
    "            }\n",
    "        },\n",
    "        {\n",
    "            \"$project\": {\n",
    "                \"title\": {\"$split\": [\"$title\", \" \"]},\n",
    "                \"_id\": 0\n",
    "            }\n",
    "        },\n",
    "        {\n",
    "            \"$match\": {\n",
    "                \"title\": {\"$size\": 1}\n",
    "            }\n",
    "        }\n",
    "    ])\n",
    "    counter = 0\n",
    "    for val in movies:\n",
    "        counter = counter + 1\n",
    "\n",
    "    print(\"the number of movies  that have a title composed of one word are : \\n\", counter)\n",
    "except OperationFailure as a:\n",
    "    print(\"exception Occurred while operation \", a)\n",
    "finally:\n",
    "    print(\"end of operation \")"
   ],
   "metadata": {
    "collapsed": false,
    "pycharm": {
     "name": "#%%  LEt's solve it with another method  (previous Problem: Second Method)\n"
    }
   }
  },
  {
   "cell_type": "code",
   "execution_count": null,
   "outputs": [],
   "source": [
    "try:\n",
    "\n",
    "    movieslabor_of_love = mydb.movie.aggregate([\n",
    "        {\n",
    "            \"$match\": {\n",
    "                \"cast\": {\"$elemMatch\": {\"$exists\": \"true\"}},\n",
    "                \"directors\": {\"$elemMatch\": {\"$exists\": \"true\"}},\n",
    "                \"writers\": {\"$elemMatch\": {\"$exists\": \"true\"}}\n",
    "            }\n",
    "        },\n",
    "        {\n",
    "            \"$project\": {\n",
    "                \"_id\": 0,\n",
    "                \"cast\": 1,\n",
    "                \"directors\": 1,\n",
    "                \"writers\": {\n",
    "                    \"$map\": {\n",
    "                        \"input\": \"$writers\",\n",
    "                        \"as\": \"writer\",\n",
    "                        \"in\": {\n",
    "                            \"$arrayElemAt\": [\n",
    "                                {\n",
    "                                    \"$split\": [\"$$writer\", \" (\"]\n",
    "                                },\n",
    "                                0\n",
    "                            ]\n",
    "                        }\n",
    "                    }\n",
    "                }\n",
    "            }\n",
    "        },\n",
    "        {\n",
    "            \"$project\": {\n",
    "                \"labor_of_love\": {\n",
    "                    \"$gt\": [\n",
    "                        {\"$size\": {\"$setIntersection\": [\"$cast\", \"$directors\", \"$writers\"]}},\n",
    "                        0\n",
    "                    ]\n",
    "                }\n",
    "            }\n",
    "        },\n",
    "        {\n",
    "            \"$match\": {\"labor_of_love\": \"true\"}\n",
    "        },\n",
    "        {\n",
    "            \"$count\": \"labors of love\"\n",
    "        }\n",
    "    ])\n",
    "    count = 0\n",
    "    for val in movieslabor_of_love:\n",
    "        count = count + 1\n",
    "    print(\"labor of love movies\\n\", count)\n",
    "except OperationFailure as a:\n",
    "    print(\"exception Occurred while operation \", a)\n",
    "finally:\n",
    "    print(\"end of operation \")"
   ],
   "metadata": {
    "collapsed": false,
    "pycharm": {
     "name": "#%% find how many movies in our movies collection are a “labor of love”, where the same person appears in cast, directors, and writers\n"
    }
   }
  },
  {
   "cell_type": "code",
   "execution_count": 6,
   "outputs": [
    {
     "name": "stdout",
     "output_type": "stream",
     "text": [
      "Movie N 1 TITLE =  Gertie the Dinosaur USA\n",
      "Movie N 2 TITLE =  In the Land of the Head Hunters USA\n",
      "Movie N 3 TITLE =  The Birth of a Nation USA\n",
      "Movie N 4 TITLE =  The Perils of Pauline USA\n",
      "Movie N 5 TITLE =  Traffic in Souls USA\n",
      "THIS The end of this operation \n"
     ]
    }
   ],
   "source": [
    "#show the conatenation of countries  of the first 10 movies where and th title of each movie\n",
    "# the title is string\n",
    "#the countries contains USA\n",
    "# project only the title of the movie and the concatenated countries\n",
    "# Limit the result by 10 and skip the first 5\n",
    "# sort the results  by  ascending movie title\n",
    "# the output of each  film  be  Movie N  1  TITLE = titanic  usa  ksa\n",
    "\n",
    "try:\n",
    "\n",
    "    resultconcat = mydb.movie.aggregate([\n",
    "        {\n",
    "            \"$match\": {\n",
    "                \"title\": {\n",
    "                    \"$type\": \"string\"\n",
    "                },\n",
    "                \"countries\": {\"$all\": [\"USA\"]}\n",
    "            }\n",
    "        },\n",
    "        {\"$addFields\": {\n",
    "            \"countries\": {\n",
    "                \"$reduce\": {\n",
    "                    \"input\": \"$countries\",\n",
    "                    \"initialValue\": \"\",\n",
    "                    \"in\": {\n",
    "                        \"$cond\": {\n",
    "                            \"if\": {\"$eq\": [{\"$indexOfArray\": [\"$countries\", \"$$this\"]}, 0]},\n",
    "                            \"then\": {\"$concat\": [\"$$value\", \"$$this\"]},\n",
    "                            \"else\": {\"$concat\": [\"$$value\", \"_\", \"$$this\"]}\n",
    "                        }\n",
    "                    }\n",
    "                }\n",
    "            }\n",
    "        }},\n",
    "        {\n",
    "            \"$project\": {\n",
    "                \"_id\": 0, \"title\": 1, \"countries\": 1\n",
    "            }\n",
    "        },\n",
    "        {\n",
    "            \"$limit\": 10\n",
    "        }, {\n",
    "            \"$skip\": 5,\n",
    "        },\n",
    "        {\n",
    "            \"$sort\": {\"title\": 1}\n",
    "        }\n",
    "\n",
    "    ])\n",
    "    count = 0\n",
    "    for val in resultconcat:\n",
    "        count = count + 1\n",
    "        jsonMovie = json.dumps(val)\n",
    "        docMovie = json.loads(jsonMovie)\n",
    "        print(\"Movie N\", count, \"TITLE = \", docMovie['title'], docMovie[\"countries\"])\n",
    "\n",
    "except Exception as a:\n",
    "    print(\"exception Occurred while operation \", a)\n",
    "finally:\n",
    "    print(\"THIS The end of this operation \")"
   ],
   "metadata": {
    "collapsed": false,
    "pycharm": {
     "name": "#%% the following criteria\n"
    }
   }
  },
  {
   "cell_type": "code",
   "execution_count": null,
   "outputs": [],
   "source": [
    "# the title is string\n",
    "# take 50 arbitrary  movies\n",
    "# Limit the result by 10 and skip the first 2\n",
    "# sort the results  by  ascending movie title\n",
    "# THE output mus be : Movie N 1 The length of  Berlin '36  is equal to 10\n",
    "try:\n",
    "    themovies = mydb.movie.aggregate([\n",
    "        {\n",
    "            \"$match\": {\n",
    "                \"title\": {\n",
    "                    \"$type\": \"string\"\n",
    "                },\n",
    "\n",
    "            }\n",
    "        },\n",
    "        {\n",
    "            \"$project\": {\n",
    "                \"_id\": 0,\n",
    "                \"title\": 1,\n",
    "                \"Titlelength\": {\"$strLenCP\": \"$title\"}\n",
    "            }\n",
    "        },\n",
    "        {\n",
    "            \"$sample\": {\n",
    "                \"size\": 20\n",
    "            }\n",
    "        }\n",
    "\n",
    "        ,\n",
    "        {\n",
    "            \"$limit\": 10\n",
    "        }, {\n",
    "            \"$skip\": 2,\n",
    "        },\n",
    "        {\n",
    "            \"$sort\": {\"title\": 1}\n",
    "        },\n",
    "\n",
    "    ])\n",
    "    count = 0\n",
    "    for val in themovies:\n",
    "        count = count + 1\n",
    "        jsonMovie = json.dumps(val)\n",
    "        docMovie = json.loads(jsonMovie)\n",
    "        print(\"Movie N\", count, \"The length of the title of \", docMovie['title'], \" is equal to\",\n",
    "              docMovie[\"Titlelength\"])\n",
    "\n",
    "except Exception as a:\n",
    "    print(\"exception Occurred while operation \", a)\n",
    "finally:\n",
    "    print(\"THIS The end of this operation \")\n"
   ],
   "metadata": {
    "collapsed": false,
    "pycharm": {
     "name": "#%% TAKE in  RANDOM 50 document from the database and do the following :\n"
    }
   }
  },
  {
   "cell_type": "code",
   "execution_count": 13,
   "outputs": [
    {
     "name": "stdout",
     "output_type": "stream",
     "text": [
      "The movie number 25 is    Up in the Air \n",
      "\n",
      "THIS The end of this operation \n"
     ]
    }
   ],
   "source": [
    "#We has another movie night scheduled. This time, we polled employees for their favorite actress or actor, and got these results\n",
    "#favorites = [\"Sandra Bullock\",\"Tom Hanks\",\"Julia Roberts\",\"Kevin Spacey\",\"George Clooney\"]\n",
    "#For movies released in the USA with a tomatoes.viewer.rating greater than or equal to 3, calculate a new field called num_favs that represets how many favorites appear in the cast field of the movie.\n",
    "#Sort your results by num_favs, tomatoes.viewer.rating, and title, all in descending order.\n",
    "#What is the title of the 25th film in the aggregation result?\n",
    "favorites = [\n",
    "    \"Sandra Bullock\",\n",
    "    \"Tom Hanks\",\n",
    "    \"Julia Roberts\",\n",
    "    \"Kevin Spacey\",\n",
    "    \"George Clooney\"]\n",
    "\n",
    "try:\n",
    "    likeStage = mydb.movie.aggregate([\n",
    "        {\n",
    "            \"$match\": {\n",
    "                \"tomatoes.viewer.rating\": {\"$gte\": 3},\n",
    "                \"countries\": \"USA\",\n",
    "                \"cast\": {\n",
    "                    \"$in\": favorites\n",
    "                }\n",
    "            }\n",
    "        },\n",
    "        {\n",
    "            \"$project\": {\n",
    "                \"_id\": 0,\n",
    "                \"title\": 1,\n",
    "                \"tomatoes.viewer.rating\": 1,\n",
    "                \"num_favs\": {\n",
    "                    \"$size\": {\n",
    "                        \"$setIntersection\": [\n",
    "                            \"$cast\",\n",
    "                            favorites\n",
    "                        ]\n",
    "                    }\n",
    "                }\n",
    "            }\n",
    "        },\n",
    "        {\n",
    "            \"$sort\": {\"num_favs\": -1,\n",
    "                      \"tomatoes.viewer.rating\": -1,\n",
    "                      \"title\": -1\n",
    "                      }\n",
    "        },\n",
    "        {\n",
    "            \"$skip\": 24\n",
    "        },\n",
    "        {\n",
    "            \"$limit\": 1\n",
    "        }\n",
    "    ])\n",
    "\n",
    "    for m in likeStage:\n",
    "        jsonMovie = json.dumps(m)\n",
    "        docMovie = json.loads(jsonMovie)\n",
    "        print(\"The movie number 25 is   \", docMovie['title'], \"\\n\")\n",
    "\n",
    "except Exception as a:\n",
    "    print(\"exception Occurred while operation \", a)\n",
    "finally:\n",
    "    print(\"THIS The end of this operation \")"
   ],
   "metadata": {
    "collapsed": false,
    "pycharm": {
     "name": "#%% Problem\n"
    }
   }
  },
  {
   "cell_type": "code",
   "execution_count": 15,
   "outputs": [
    {
     "name": "stdout",
     "output_type": "stream",
     "text": [
      "exception Occurred while operation  name 'mydb' is not defined\n",
      "THIS The end of this operation \n"
     ]
    }
   ],
   "source": [
    "#Calculate an average rating for each movie in our collection where English is an available language,\n",
    "#the minimum imdb.rating is at least 1, the minimum imdb.votes is at least 1,\n",
    "# and it was released in 1990 or after.\n",
    "# You’ll be required to rescale (or normalize) imdb.votes.\n",
    "# The formula to rescale imdb.votes and calculate normalized_rating is included as a handout.\n",
    "#What film has the lowest normalized_rating?\n",
    "try:\n",
    "    fetched = mydb.movie.aggregate([\n",
    "        {\n",
    "            \"$match\": {\n",
    "                \"year\": {\"$gte\": 1990},\n",
    "                \"languages\": {\"$in\": [\"English\"]},\n",
    "                \"imdb.votes\": {\"$gte\": 1},\n",
    "                \"imdb.rating\": {\"$gte\": 1}\n",
    "            }\n",
    "        },\n",
    "        {\n",
    "            \"$project\": {\n",
    "                \"_id\": 0,\n",
    "                \"title\": 1,\n",
    "                \"imdb.rating\": 1,\n",
    "                \"imdb.votes\": 1,\n",
    "                \"normalized_rating\": {\n",
    "                    \"$avg\": [\n",
    "                        \"$imdb.rating\",\n",
    "                        {\n",
    "                            \"$add\": [\n",
    "                                1,\n",
    "                                {\n",
    "                                    \"$multiply\": [\n",
    "                                        9,\n",
    "                                        {\n",
    "                                            \"$divide\": [\n",
    "                                                {\"$subtract\": [\"$imdb.votes\", 5]},\n",
    "                                                {\"$subtract\": [1521105, 5]}\n",
    "                                            ]\n",
    "                                        }\n",
    "                                    ]\n",
    "                                }\n",
    "                            ]\n",
    "                        }\n",
    "                    ]\n",
    "                }\n",
    "            }\n",
    "        },\n",
    "        {\"$sort\": {\"normalized_rating\": 1}},\n",
    "        {\"$limit\": 1},\n",
    "    ])\n",
    "\n",
    "    for m in fetched:\n",
    "        jsonMovie = json.dumps(m)\n",
    "        docMovie = json.loads(jsonMovie)\n",
    "        print(\"The movie that has the lowest normalized_rating  is \", docMovie['title'], \"with ans imdb rating = \",\n",
    "              docMovie[\"imdb\"][\"rating\"], \"and a normalized rating  \", docMovie['normalized_rating'])\n",
    "\n",
    "except Exception as e:\n",
    "    print(\"exception Occurred while operation \", e)\n",
    "finally:\n",
    "    print(\"THIS The end of this operation \")"
   ],
   "metadata": {
    "collapsed": false,
    "pycharm": {
     "name": "#%%Problem:\n"
    }
   }
  },
  {
   "cell_type": "code",
   "execution_count": 16,
   "outputs": [
    {
     "name": "stdout",
     "output_type": "stream",
     "text": [
      "exception Occurred while operation  name 'mydb' is not defined\n",
      "Operation has been done !\n"
     ]
    }
   ],
   "source": [
    "#group all fields by year\n",
    "try:\n",
    "    numbeOfMovies = mydb.movie.aggregate([\n",
    "        {\n",
    "            \"$match\": {\"awards.wins\": {\"$gte\": 1}}\n",
    "        }, {\n",
    "            \"$group\": {\n",
    "                \"_id\": \"year\",\n",
    "                \"count\": {\"$sum\": 1},\n",
    "                \"avg_awards\": {\"$avg\": \"$awards.wins\"}\n",
    "            }\n",
    "        }\n",
    "    ])\n",
    "    for m in numbeOfMovies:\n",
    "        jsonMovie = json.dumps(m)\n",
    "        docMovie = json.loads(jsonMovie)\n",
    "        print(\"The movie that has the lowest normalized_rating  is \", docMovie[\"avg_awards\"])\n",
    "except Exception as e:\n",
    "    print(\"exception Occurred while operation \", e)\n",
    "finally:\n",
    "    print(\"Operation has been done !\")\n"
   ],
   "metadata": {
    "collapsed": false,
    "pycharm": {
     "name": "#%%  Count the average awards  of movies each year\n"
    }
   }
  },
  {
   "cell_type": "code",
   "execution_count": 18,
   "outputs": [
    {
     "name": "stdout",
     "output_type": "stream",
     "text": [
      "The Film Number 50 is   The Trouble with Angels\n",
      "maximum rating 7.4\n",
      "minimum rating 7.4\n",
      "average rating 7.4\n",
      "Standard rating 0.0\n",
      "Sum of the ratings 7.4\n",
      "Operation has been done !\n"
     ]
    }
   ],
   "source": [
    "#of the films that have the following criteria\n",
    "# the year <=2022\n",
    "# the language msu be english\n",
    "# the imdb votes and ratings  must be greater or equals to 1\n",
    "# the title must be a string type\n",
    "# the county Is USA\n",
    "# The genres must be CRIMe or horror or both\n",
    "# the must be either  \"PG\", \"G\" or both\n",
    "# limit the result by 50 movie\n",
    "#skip the  first 49 and show the 50th one as the desired result\n",
    "# sort the result by ascending title and descending year\n",
    "# project on the  \"title\" , max_rating  as the maximum rating\n",
    "#  min_rating as the minimum rating\n",
    "#  rating_avg as the average rating\n",
    "#  ratings_std as the standard deviation average  rating\n",
    "# sum_ratings as the sum of the ratings\n",
    "\n",
    "try:\n",
    "    val = mydb.movie.aggregate([\n",
    "        {\n",
    "            \"$match\": {\n",
    "                \"year\": {\"$lte\": 2022},\n",
    "                \"languages\": {\"$in\": [\"English\"]},\n",
    "                \"imdb.votes\": {\"$gte\": 1},\n",
    "                \"imdb.rating\": {\"$gte\": 1},\n",
    "                \"title\": {\n",
    "                    \"$type\": \"string\"\n",
    "                },\n",
    "                \"countries\": {\"$all\": [\"USA\"]},\n",
    "                \"genres\": {\"$nin\": [\"Crime\", \"Horror\"]},\n",
    "                \"rated\": {\"$in\": [\"PG\", \"G\"]},\n",
    "\n",
    "            }\n",
    "        },\n",
    "        {\"$project\": {\n",
    "            \"_id\": 0,\n",
    "            \"title\": 1,\n",
    "            \"max_rating\": {\"$max\": \"$imdb.rating\"},\n",
    "            \"min_rating\": {\"$min\": \"$imdb.rating\"},\n",
    "            \"rating_avg\": {\"$avg\": \"$imdb.rating\"},\n",
    "            \"ratings_std\": {\"$stdDevPop\": \"$imdb.rating\"},\n",
    "            \"sum_ratings\": {\"$sum\": \"$imdb.rating\"}\n",
    "        }\n",
    "        },\n",
    "        {\n",
    "            \"$limit\": 50\n",
    "        },\n",
    "        {\n",
    "            \"$skip\": 49\n",
    "        }, {\n",
    "            \"$sort\": {\n",
    "                \"title\": 1,\n",
    "                \"year\": -1\n",
    "            }\n",
    "        }\n",
    "\n",
    "    ])\n",
    "    for m in val:\n",
    "        jsonMovie = json.dumps(m)\n",
    "        docMovie = json.loads(jsonMovie)\n",
    "        print(\"The Film Number 50 is  \", docMovie[\"title\"])\n",
    "        print(\"maximum rating\", docMovie[\"max_rating\"])\n",
    "        print(\"minimum rating\", docMovie[\"min_rating\"])\n",
    "        print(\"average rating\", docMovie[\"rating_avg\"])\n",
    "        print(\"Standard rating\", docMovie[\"ratings_std\"])\n",
    "        print(\"Sum of the ratings\", docMovie[\"sum_ratings\"])\n",
    "except Exception as e:\n",
    "    print(\"exception Occurred while operation \", e)\n",
    "finally:\n",
    "    print(\"Operation has been done !\")"
   ],
   "metadata": {
    "collapsed": false,
    "pycharm": {
     "name": "#%% calculate the min ,max ,sum,standard deviation of the imdb  rating\n"
    }
   }
  },
  {
   "cell_type": "code",
   "execution_count": 19,
   "outputs": [
    {
     "name": "stdout",
     "output_type": "stream",
     "text": [
      "Operation has been done !\n"
     ]
    }
   ],
   "source": [
    "#calculate the standard deviation, highest, lowest, and average imdb.rating.\n",
    "#Use the sample standard deviation expression.\n",
    "#HINT - All movies in the collection that won an Oscar begin with a string resembling one of the following in their awards field\n",
    "try:\n",
    "    resTask = mydb.movie.aggregate([\n",
    "        {\"$match\":\n",
    "             {\"awards\":\n",
    "                  {\"$regex\": \"/^Won.*.Oscar/\", \"$options\": \"si\"},\n",
    "              }\n",
    "         },\n",
    "        {\"$project\":\n",
    "             {\"_id\": 0,\n",
    "              \"title\": 1,\n",
    "              \"awards\": 1\n",
    "              }\n",
    "         }\n",
    "    ])\n",
    "    for m in resTask:\n",
    "        jsonMovie = json.dumps(m)\n",
    "        docMovie = json.loads(jsonMovie)\n",
    "        print(\"The Film Number   \", docMovie[\"title\"])\n",
    "\n",
    "except Exception as e:\n",
    "    print(\"exception Occurred while operation \", e)\n",
    "finally:\n",
    "    print(\"Operation has been done !\")"
   ],
   "metadata": {
    "collapsed": false,
    "pycharm": {
     "name": "#%%Task For all films that won at least 1 Oscar,\n"
    }
   }
  },
  {
   "cell_type": "code",
   "execution_count": 26,
   "outputs": [
    {
     "name": "stdout",
     "output_type": "stream",
     "text": [
      "The Film in     2015 genre News with  an average rating = 7.8\n",
      "The Film in     2014 genre News with  an average rating = 7.6000000000000005\n",
      "The Film in     2013 genre Documentary with  an average rating = 7.1\n",
      "The Film in     2012 genre Musical with  an average rating = 7.3\n",
      "The Film in     2011 genre Sport with  an average rating = 7.307142857142857\n",
      "The Film in     2010 genre Documentary with  an average rating = 7.388709677419355\n",
      "Operation has been done !\n"
     ]
    }
   ],
   "source": [
    "# rating greater than 1\n",
    "# 2010<=year <=2015\n",
    "#runtime >=90\n",
    "try:\n",
    "    resAggregation = mydb.movie.aggregate([\n",
    "        {\"$match\": {\n",
    "            \"imdb.rating\": {\"$gt\": 0},\n",
    "            \"year\": {\"$gte\": 2010, \"$lte\": 2015},\n",
    "            \"runtime\": {\"$gte\": 90}\n",
    "        }\n",
    "        },\n",
    "        {\"$unwind\": \"$genres\"},\n",
    "        {\"$group\": {\n",
    "            \"_id\": {\n",
    "                \"year\": \"$year\",\n",
    "                \"genre\": \"$genres\"\n",
    "            },\n",
    "            \"average_rating\": {\"$avg\": \"$imdb.rating\"}\n",
    "        }\n",
    "        },\n",
    "        {\"$sort\": {\"_id.year\": -1, \"average_rating\": -1}\n",
    "         },\n",
    "        {\"$group\": {\n",
    "            \"_id\": \"$_id.year\",\n",
    "            \"genre\": {\"$first\": \"$_id.genre\"},\n",
    "            \"average_rating\": {\"$first\": \"$average_rating\"}\n",
    "        }\n",
    "        },\n",
    "        {\"$sort\": {\"_id\": -1}}\n",
    "    ])\n",
    "    for m in resAggregation:\n",
    "        jsonMovie = json.dumps(m)\n",
    "        docMovie = json.loads(jsonMovie)\n",
    "        print(\"The Film in    \", docMovie[\"_id\"], \"genre\", docMovie[\"genre\"], \"with  an average rating =\",\n",
    "              docMovie[\"average_rating\"])\n",
    "except Exception as e:\n",
    "    print(\"exception Occurred while operation \", e)\n",
    "finally:\n",
    "    print(\"Operation has been done !\")"
   ],
   "metadata": {
    "collapsed": false,
    "pycharm": {
     "name": "#%% get all the movies with  the following criteria :\n"
    }
   }
  },
  {
   "cell_type": "code",
   "execution_count": 25,
   "outputs": [
    {
     "name": "stdout",
     "output_type": "stream",
     "text": [
      "The Film in     {'year': 2015, 'genre': 'News'} with  an average rating = 7.8\n",
      "The Film in     {'year': 2015, 'genre': 'Western'} with  an average rating = 7.5\n",
      "The Film in     {'year': 2015, 'genre': 'Documentary'} with  an average rating = 7.415384615384615\n",
      "The Film in     {'year': 2015, 'genre': 'Animation'} with  an average rating = 7.32\n",
      "The Film in     {'year': 2015, 'genre': 'Family'} with  an average rating = 7.285714285714286\n",
      "The Film in     {'year': 2015, 'genre': 'Music'} with  an average rating = 7.271428571428571\n",
      "The Film in     {'year': 2015, 'genre': 'Biography'} with  an average rating = 7.261538461538462\n",
      "The Film in     {'year': 2015, 'genre': 'Adventure'} with  an average rating = 7.004\n",
      "The Film in     {'year': 2015, 'genre': 'Sport'} with  an average rating = 6.95\n",
      "The Film in     {'year': 2015, 'genre': 'Crime'} with  an average rating = 6.904347826086957\n",
      "The Film in     {'year': 2015, 'genre': 'Drama'} with  an average rating = 6.9\n",
      "The Film in     {'year': 2015, 'genre': 'Mystery'} with  an average rating = 6.836363636363637\n",
      "The Film in     {'year': 2015, 'genre': 'Fantasy'} with  an average rating = 6.828571428571428\n",
      "The Film in     {'year': 2015, 'genre': 'Comedy'} with  an average rating = 6.712857142857143\n",
      "The Film in     {'year': 2015, 'genre': 'History'} with  an average rating = 6.636363636363637\n",
      "The Film in     {'year': 2015, 'genre': 'Action'} with  an average rating = 6.634375\n",
      "The Film in     {'year': 2015, 'genre': 'Romance'} with  an average rating = 6.588888888888889\n",
      "The Film in     {'year': 2015, 'genre': 'Sci-Fi'} with  an average rating = 6.5590909090909095\n",
      "The Film in     {'year': 2015, 'genre': 'Thriller'} with  an average rating = 6.544736842105263\n",
      "The Film in     {'year': 2015, 'genre': 'War'} with  an average rating = 6.45\n",
      "The Film in     {'year': 2015, 'genre': 'Horror'} with  an average rating = 6.263636363636365\n",
      "The Film in     {'year': 2014, 'genre': 'News'} with  an average rating = 7.6000000000000005\n",
      "The Film in     {'year': 2014, 'genre': 'Animation'} with  an average rating = 7.385714285714286\n",
      "The Film in     {'year': 2014, 'genre': 'Documentary'} with  an average rating = 7.320212765957447\n",
      "The Film in     {'year': 2014, 'genre': 'Music'} with  an average rating = 7.116666666666666\n",
      "The Film in     {'year': 2014, 'genre': 'Biography'} with  an average rating = 7.095061728395062\n",
      "The Film in     {'year': 2014, 'genre': 'History'} with  an average rating = 6.997058823529412\n",
      "The Film in     {'year': 2014, 'genre': 'Sport'} with  an average rating = 6.98\n",
      "The Film in     {'year': 2014, 'genre': 'War'} with  an average rating = 6.826315789473684\n",
      "The Film in     {'year': 2014, 'genre': 'Adventure'} with  an average rating = 6.8\n",
      "The Film in     {'year': 2014, 'genre': 'Crime'} with  an average rating = 6.710389610389611\n",
      "The Film in     {'year': 2014, 'genre': 'Drama'} with  an average rating = 6.698734177215189\n",
      "The Film in     {'year': 2014, 'genre': 'Family'} with  an average rating = 6.68235294117647\n",
      "The Film in     {'year': 2014, 'genre': 'Musical'} with  an average rating = 6.616666666666667\n",
      "The Film in     {'year': 2014, 'genre': 'Romance'} with  an average rating = 6.513483146067416\n",
      "The Film in     {'year': 2014, 'genre': 'Mystery'} with  an average rating = 6.425\n",
      "The Film in     {'year': 2014, 'genre': 'Comedy'} with  an average rating = 6.409132420091324\n",
      "The Film in     {'year': 2014, 'genre': 'Western'} with  an average rating = 6.3\n",
      "The Film in     {'year': 2014, 'genre': 'Thriller'} with  an average rating = 6.270175438596491\n",
      "The Film in     {'year': 2014, 'genre': 'Action'} with  an average rating = 6.267619047619048\n",
      "The Film in     {'year': 2014, 'genre': 'Fantasy'} with  an average rating = 6.108\n",
      "The Film in     {'year': 2014, 'genre': 'Sci-Fi'} with  an average rating = 6.082000000000001\n",
      "The Film in     {'year': 2014, 'genre': 'Horror'} with  an average rating = 5.685483870967742\n",
      "The Film in     {'year': 2013, 'genre': 'Documentary'} with  an average rating = 7.1\n",
      "The Film in     {'year': 2013, 'genre': 'Sport'} with  an average rating = 6.992857142857143\n",
      "The Film in     {'year': 2013, 'genre': 'Biography'} with  an average rating = 6.937837837837837\n",
      "The Film in     {'year': 2013, 'genre': 'History'} with  an average rating = 6.916666666666667\n",
      "The Film in     {'year': 2013, 'genre': 'Animation'} with  an average rating = 6.760000000000001\n",
      "The Film in     {'year': 2013, 'genre': 'War'} with  an average rating = 6.672727272727273\n",
      "The Film in     {'year': 2013, 'genre': 'Drama'} with  an average rating = 6.662355212355212\n",
      "The Film in     {'year': 2013, 'genre': 'Family'} with  an average rating = 6.618518518518518\n",
      "The Film in     {'year': 2013, 'genre': 'Music'} with  an average rating = 6.613043478260869\n",
      "The Film in     {'year': 2013, 'genre': 'Mystery'} with  an average rating = 6.607142857142857\n",
      "The Film in     {'year': 2013, 'genre': 'Adventure'} with  an average rating = 6.580821917808219\n",
      "The Film in     {'year': 2013, 'genre': 'Romance'} with  an average rating = 6.5769911504424785\n",
      "The Film in     {'year': 2013, 'genre': 'Fantasy'} with  an average rating = 6.555555555555555\n",
      "The Film in     {'year': 2013, 'genre': 'Crime'} with  an average rating = 6.52952380952381\n",
      "The Film in     {'year': 2013, 'genre': 'Western'} with  an average rating = 6.4\n",
      "The Film in     {'year': 2013, 'genre': 'Comedy'} with  an average rating = 6.336057692307692\n",
      "The Film in     {'year': 2013, 'genre': 'Action'} with  an average rating = 6.322608695652174\n",
      "The Film in     {'year': 2013, 'genre': 'Sci-Fi'} with  an average rating = 6.223404255319149\n",
      "The Film in     {'year': 2013, 'genre': 'Thriller'} with  an average rating = 6.215972222222223\n",
      "The Film in     {'year': 2013, 'genre': 'Musical'} with  an average rating = 6.0875\n",
      "The Film in     {'year': 2013, 'genre': 'Horror'} with  an average rating = 5.871739130434783\n",
      "The Film in     {'year': 2013, 'genre': 'News'} with  an average rating = 5.699999999999999\n",
      "The Film in     {'year': 2012, 'genre': 'Musical'} with  an average rating = 7.3\n",
      "The Film in     {'year': 2012, 'genre': 'Documentary'} with  an average rating = 7.253571428571428\n",
      "The Film in     {'year': 2012, 'genre': 'History'} with  an average rating = 7.120588235294117\n",
      "The Film in     {'year': 2012, 'genre': 'Biography'} with  an average rating = 7.117948717948718\n",
      "The Film in     {'year': 2012, 'genre': 'News'} with  an average rating = 7.05\n",
      "The Film in     {'year': 2012, 'genre': 'Music'} with  an average rating = 6.974074074074075\n",
      "The Film in     {'year': 2012, 'genre': 'Animation'} with  an average rating = 6.889473684210526\n",
      "The Film in     {'year': 2012, 'genre': 'Family'} with  an average rating = 6.8\n",
      "The Film in     {'year': 2012, 'genre': 'Fantasy'} with  an average rating = 6.746428571428572\n",
      "The Film in     {'year': 2012, 'genre': 'Sport'} with  an average rating = 6.7299999999999995\n",
      "The Film in     {'year': 2012, 'genre': 'Adventure'} with  an average rating = 6.718181818181818\n",
      "The Film in     {'year': 2012, 'genre': 'Western'} with  an average rating = 6.640000000000001\n",
      "The Film in     {'year': 2012, 'genre': 'Romance'} with  an average rating = 6.603960396039604\n",
      "The Film in     {'year': 2012, 'genre': 'Drama'} with  an average rating = 6.563777777777777\n",
      "The Film in     {'year': 2012, 'genre': 'Crime'} with  an average rating = 6.54875\n",
      "The Film in     {'year': 2012, 'genre': 'Mystery'} with  an average rating = 6.497560975609756\n",
      "The Film in     {'year': 2012, 'genre': 'Sci-Fi'} with  an average rating = 6.348\n",
      "The Film in     {'year': 2012, 'genre': 'Comedy'} with  an average rating = 6.327225130890052\n",
      "The Film in     {'year': 2012, 'genre': 'Action'} with  an average rating = 6.288181818181819\n",
      "The Film in     {'year': 2012, 'genre': 'Thriller'} with  an average rating = 6.284210526315789\n",
      "The Film in     {'year': 2012, 'genre': 'War'} with  an average rating = 6.153846153846154\n",
      "The Film in     {'year': 2012, 'genre': 'Horror'} with  an average rating = 5.606\n",
      "The Film in     {'year': 2011, 'genre': 'Sport'} with  an average rating = 7.307142857142857\n",
      "The Film in     {'year': 2011, 'genre': 'News'} with  an average rating = 7.3\n",
      "The Film in     {'year': 2011, 'genre': 'Documentary'} with  an average rating = 7.293333333333333\n",
      "The Film in     {'year': 2011, 'genre': 'Biography'} with  an average rating = 7.013636363636365\n",
      "The Film in     {'year': 2011, 'genre': 'Music'} with  an average rating = 6.870588235294117\n",
      "The Film in     {'year': 2011, 'genre': 'Family'} with  an average rating = 6.809375\n",
      "The Film in     {'year': 2011, 'genre': 'Animation'} with  an average rating = 6.777272727272727\n",
      "The Film in     {'year': 2011, 'genre': 'History'} with  an average rating = 6.672413793103448\n",
      "The Film in     {'year': 2011, 'genre': 'Drama'} with  an average rating = 6.6046979865771815\n",
      "The Film in     {'year': 2011, 'genre': 'Western'} with  an average rating = 6.566666666666666\n",
      "The Film in     {'year': 2011, 'genre': 'War'} with  an average rating = 6.555\n",
      "The Film in     {'year': 2011, 'genre': 'Crime'} with  an average rating = 6.470512820512821\n",
      "The Film in     {'year': 2011, 'genre': 'Adventure'} with  an average rating = 6.4624999999999995\n",
      "The Film in     {'year': 2011, 'genre': 'Sci-Fi'} with  an average rating = 6.454285714285715\n",
      "The Film in     {'year': 2011, 'genre': 'Romance'} with  an average rating = 6.407058823529412\n",
      "The Film in     {'year': 2011, 'genre': 'Action'} with  an average rating = 6.398936170212766\n",
      "The Film in     {'year': 2011, 'genre': 'Mystery'} with  an average rating = 6.346875\n",
      "The Film in     {'year': 2011, 'genre': 'Musical'} with  an average rating = 6.311111111111111\n",
      "The Film in     {'year': 2011, 'genre': 'Comedy'} with  an average rating = 6.299009900990099\n",
      "The Film in     {'year': 2011, 'genre': 'Thriller'} with  an average rating = 6.278217821782178\n",
      "The Film in     {'year': 2011, 'genre': 'Fantasy'} with  an average rating = 5.964285714285714\n",
      "The Film in     {'year': 2011, 'genre': 'Horror'} with  an average rating = 5.6454545454545455\n",
      "The Film in     {'year': 2010, 'genre': 'Documentary'} with  an average rating = 7.388709677419355\n",
      "The Film in     {'year': 2010, 'genre': 'News'} with  an average rating = 7.2\n",
      "The Film in     {'year': 2010, 'genre': 'Biography'} with  an average rating = 7.142592592592592\n",
      "The Film in     {'year': 2010, 'genre': 'Sport'} with  an average rating = 7.1000000000000005\n",
      "The Film in     {'year': 2010, 'genre': 'History'} with  an average rating = 6.954285714285715\n",
      "The Film in     {'year': 2010, 'genre': 'Animation'} with  an average rating = 6.93157894736842\n",
      "The Film in     {'year': 2010, 'genre': 'Music'} with  an average rating = 6.885185185185185\n",
      "The Film in     {'year': 2010, 'genre': 'Western'} with  an average rating = 6.76\n",
      "The Film in     {'year': 2010, 'genre': 'War'} with  an average rating = 6.739999999999999\n",
      "The Film in     {'year': 2010, 'genre': 'Crime'} with  an average rating = 6.610975609756098\n",
      "The Film in     {'year': 2010, 'genre': 'Drama'} with  an average rating = 6.607009345794393\n",
      "The Film in     {'year': 2010, 'genre': 'Adventure'} with  an average rating = 6.53888888888889\n",
      "The Film in     {'year': 2010, 'genre': 'Romance'} with  an average rating = 6.451401869158878\n",
      "The Film in     {'year': 2010, 'genre': 'Action'} with  an average rating = 6.404901960784313\n",
      "The Film in     {'year': 2010, 'genre': 'Comedy'} with  an average rating = 6.359024390243902\n",
      "The Film in     {'year': 2010, 'genre': 'Mystery'} with  an average rating = 6.352631578947369\n",
      "The Film in     {'year': 2010, 'genre': 'Fantasy'} with  an average rating = 6.3\n",
      "The Film in     {'year': 2010, 'genre': 'Family'} with  an average rating = 6.194871794871795\n",
      "The Film in     {'year': 2010, 'genre': 'Thriller'} with  an average rating = 6.165882352941177\n",
      "The Film in     {'year': 2010, 'genre': 'Sci-Fi'} with  an average rating = 6.128571428571428\n",
      "The Film in     {'year': 2010, 'genre': 'Horror'} with  an average rating = 5.768\n",
      "The Film in     {'year': 2010, 'genre': 'Musical'} with  an average rating = 5.583333333333333\n",
      "Operation has been done !\n"
     ]
    }
   ],
   "source": [
    "# imdb rating is greater than 0\n",
    "#  year is greater or equal to 2010 ad less than or equals to 2015\n",
    "# the runtime must be at least 90\n",
    "#group the data by the year and the genres which will be expanded later  and group by the average rating\n",
    "#Sort the final result by descending year and descending average rating\n",
    "#show the results for each document and expands the array of genres example  is bellow\n",
    "# Let say we have this document {   \"title\": \"The Martian\",\"genres\": [\"Action\", \"Adventure\", \"Sci-Fi\"] }\n",
    "#  Becomes...\n",
    "#{ \"title\": \"The Martian\",\"genres\": \"Action\"}\n",
    "#{\"title\": \"The Martian\",\"genres\": \"Adventure\"}\n",
    "#{\"title\": \"The Martian\",\"genres\": \"Sci-Fi\"}\n",
    "try:\n",
    "    allmovies = mydb.movie.aggregate([\n",
    "        {\"$match\": {\n",
    "            \"imdb.rating\": {\"$gt\": 0},\n",
    "            \"year\": {\"$gte\": 2010, \"$lte\": 2015},\n",
    "            \"runtime\": {\"$gte\": 90}\n",
    "        }\n",
    "        },\n",
    "        {\"$unwind\": \"$genres\"},\n",
    "        {\"$group\": {\n",
    "            \"_id\": {\n",
    "                \"year\": \"$year\",\n",
    "                \"genre\": \"$genres\"\n",
    "            },\n",
    "            \"average_rating\": {\"$avg\": \"$imdb.rating\"}\n",
    "        }\n",
    "        },\n",
    "        {\"$sort\": {\"_id.year\": -1, \"average_rating\": -1}}\n",
    "    ])\n",
    "    for m in allmovies:\n",
    "        jsonMovie = json.dumps(m)\n",
    "        docMovie = json.loads(jsonMovie)\n",
    "        print(\"The Film in    \", docMovie[\"_id\"], \"with  an average rating =\", docMovie[\"average_rating\"])\n",
    "except Exception as e:\n",
    "    print(\"exception Occurred while operation \", e)\n",
    "finally:\n",
    "    print(\"Operation has been done !\")"
   ],
   "metadata": {
    "collapsed": false,
    "pycharm": {
     "name": "#%%  find the movies where\n"
    }
   }
  },
  {
   "cell_type": "code",
   "execution_count": 7,
   "outputs": [
    {
     "name": "stdout",
     "output_type": "stream",
     "text": [
      "Robert De Niro 58 6.951724137931034\n",
      "Michael Caine 52 6.7153846153846155\n",
      "Bruce Willis 49 6.408163265306122\n",
      "Samuel L. Jackson 48 6.404166666666666\n",
      "Morgan Freeman 48 7.158333333333334\n",
      "Operation has been done !\n"
     ]
    }
   ],
   "source": [
    "#What is the name, number of movies, and average rating (truncated to one decimal) for the cast member that has been in the most number of movies with English as an available language?\n",
    "#Provide the input in the following order and format and limit the it by 5\n",
    "#{ \"_id\": \"First Last\", \"numFilms\": 1, \"average\": 1.1 }\n",
    "try:\n",
    "\n",
    "    cast_members = mydb.movie.aggregate([\n",
    "        {\"$match\": {\"languages\": \"English\"}},\n",
    "        {\"$project\":\n",
    "             {\"_id\": 0,\n",
    "              \"title\": 1,\n",
    "              \"cast\": 1,\n",
    "              \"imdb.rating\": 1,\n",
    "              \"tomatoes.viewer.rating\": 1\n",
    "              }\n",
    "         },\n",
    "        {\n",
    "            \"$unwind\": \"$cast\"\n",
    "        },\n",
    "        {\n",
    "            \"$group\": {\n",
    "                \"_id\": \"$cast\",\n",
    "                \"numFilms\": {\"$sum\": 1},\n",
    "                \"average\": {\"$avg\": \"$imdb.rating\"}\n",
    "            }\n",
    "        },\n",
    "        {\n",
    "            \"$sort\": {\"numFilms\": -1}\n",
    "        },\n",
    "        {\n",
    "            \"$limit\": 5\n",
    "        }\n",
    "\n",
    "    ])\n",
    "    for m in cast_members:\n",
    "        jsonMovie = json.dumps(m)\n",
    "        docMovie = json.loads(jsonMovie)\n",
    "        print(docMovie[\"_id\"], docMovie[\"numFilms\"], docMovie[\"average\"])\n",
    "\n",
    "except Exception as e:\n",
    "    print(\"exception Occurred while operation \", e)\n",
    "finally:\n",
    "    print(\"Operation has been done !\")"
   ],
   "metadata": {
    "collapsed": false,
    "pycharm": {
     "name": "#%%We'd like to calculate how many movies every cast member has been in and get an average imdb.rating for each cast member.\n"
    }
   }
  },
  {
   "cell_type": "code",
   "execution_count": 54,
   "outputs": [
    {
     "name": "stdout",
     "output_type": "stream",
     "text": [
      "State and Main []\n",
      "Songs from the Second Floor []\n",
      "Toy Story 2 []\n",
      "Beowulf []\n",
      "The Autumn Heart []\n",
      "A Walk on the Moon []\n",
      "The Mummy []\n",
      "Breakfast of Champions []\n",
      "Being John Malkovich []\n",
      "April Captains []\n",
      "Giving It Up []\n",
      "The Deep End of the Ocean []\n",
      "Dogma []\n",
      "Chicken Run []\n",
      "Eye of the Beholder []\n",
      "The 13th Warrior []\n",
      "Eyes Wide Shut []\n",
      "Fantastic Four []\n",
      "Frida []\n",
      "Gloria []\n",
      "The Green Mile []\n",
      "From Hell []\n",
      "From Dusk Till Dawn 3: The Hangman's Daughter []\n",
      "Kate & Leopold []\n",
      "Jakob the Liar []\n",
      "In Dreams []\n",
      "The Mod Squad []\n",
      "One Man's Hero []\n",
      "Mission: Impossible II []\n",
      "Payback []\n",
      "The Million Dollar Hotel []\n",
      "RKO 281 []\n",
      "The Lord of the Rings: The Fellowship of the Ring []\n",
      "Pushing Tin []\n",
      "The Shipping News []\n",
      "Resident Evil []\n",
      "From Dusk Till Dawn 2: Texas Blood Money []\n",
      "Tarzan []\n",
      "Tea with Mussolini []\n",
      "Snow Falling on Cedars []\n",
      "Titus []\n",
      "Wild Wild West []\n",
      "X-Men []\n",
      "Fantasia/2000 []\n",
      "The Emperor's New Groove []\n",
      "eXistenZ []\n",
      "Star Wars: Episode I - The Phantom Menace []\n",
      "Titan A.E. []\n",
      "Men in Black II []\n",
      "Corpse Bride []\n",
      "Operation has been done !\n"
     ]
    }
   ],
   "source": [
    "#The $graphLookup stage must stay within the 100 megabyte memory limit\n",
    "# dont project the id because it causes an  error\n",
    "#project the directors as a result of the graph loookup and th etitle also\n",
    "# imdb rating is greater than 1\n",
    "#  year is greater or equal to 1999 ad less than or equals to 2020\n",
    "# the runtime must be at least 20\n",
    "#limit the result by 30 document and skip the first 10\n",
    "# sort it by the directors new filed\n",
    "try:\n",
    "    graphlookups = mydb.movie.aggregate([\n",
    "          {\"$match\": {\n",
    "            \"imdb.rating\": {\"$gte\": 1},\n",
    "            \"year\": {\"$gte\": 1999, \"$lte\": 2020},\n",
    "            \"runtime\": {\"$gte\": 20}\n",
    "         }},\n",
    "        {\n",
    "            \"$graphLookup\": {\n",
    "                \"from\": \"movie\",\n",
    "                \"startWith\": \"$directors\",\n",
    "                \"connectFromField\": \"directors\",\n",
    "                \"connectToField\": \"_id\",\n",
    "                \"as\": \"TheDirectors\"\n",
    "            }\n",
    "        },\n",
    "        {\n",
    "            \"$project\": {\n",
    "                \"_id\": 0,\n",
    "                \"title\": 1,\n",
    "                \"TheDirectors\": 1\n",
    "            }\n",
    "        },\n",
    "        {\n",
    "            \"$skip\":10,\n",
    "        },\n",
    "        {\n",
    "            \"$limit\":50\n",
    "        },\n",
    "\n",
    "        {\n",
    "            \"$sort\":{\n",
    "                \"directors\":1\n",
    "            }\n",
    "        }\n",
    "\n",
    "    ])\n",
    "    for m in graphlookups:\n",
    "        jsonMovie = json.dumps(m)\n",
    "        docMovie = json.loads(jsonMovie)\n",
    "        print(docMovie[\"title\"], docMovie[\"TheDirectors\"])\n",
    "\n",
    "except Exception as e:\n",
    "    print(\"exception Occurred while operation \", e)\n",
    "finally:\n",
    "    print(\"Operation has been done !\")"
   ],
   "metadata": {
    "collapsed": false,
    "pycharm": {
     "name": "#%% get the films with details of the directors  use $graphLookup on directors array in the following databse\n"
    }
   }
  },
  {
   "cell_type": "code",
   "execution_count": null,
   "outputs": [],
   "source": [
    "#And Now Core Aggregation - Multidimensional Grouping\n",
    "#using facets  match SortByCount\n",
    "#Facets: Introduction\n",
    "#Faceting applies multiple filtering along different dimensions to the analytics pipeline.\n",
    "#These can be accessed in order in multiple different ways.\n",
    "#Its useful for filtering down results sets, e.g. for a clothing website by brand, colour, gender, size."
   ],
   "metadata": {
    "collapsed": false,
    "pycharm": {
     "name": "#%%\n"
    }
   }
  },
  {
   "cell_type": "code",
   "execution_count": 10,
   "outputs": [
    {
     "name": "stdout",
     "output_type": "stream",
     "text": [
      "[]\n",
      "Operation has been done !\n"
     ]
    }
   ],
   "source": [
    "#highest rated movies according to the imdb.rating\n",
    "#and the metacritic fields?\n",
    "#We should get these results with exactly one access to the database.\n",
    "# Top ten movies by imdb.rating\n",
    "# This is goig to give us Top ten movies by imdb.rating\n",
    "#############################################################\n",
    "#Deviding the problems into the simple ways to the complex one\n",
    "####################################################\"########\n",
    "mydb.movie.aggregate([\n",
    "    {\"$match\": {\"$and\": [\n",
    "         { \"imdb.rating\": { \"$ne\": \"\" }},\n",
    "         { \"metacritic\": { \"$ne\": \"\" }},\n",
    "         { \"metacritic\": { \"$ne\": \"null\" }}\n",
    "    ]}},\n",
    "    {\"$sort\": { \"imdb.rating\": -1 }},\n",
    "    {\"$limit\": 10},\n",
    "    {\"$project\": { \"_id\":0, \"title\": 1, \"imdb.rating\": 1, \"metacritic\": 1 }}\n",
    "])\n",
    "############################################################################################\n",
    "####Now Lets get the\n",
    "# Top ten movies by metacritic\n",
    "######################################################################\n",
    "mydb.movies.aggregate([\n",
    "\n",
    "    {\"$match\": {\"$and\": [\n",
    "         { \"imdb.rating\": { \"$ne\": \"\" }},\n",
    "         { \"metacritic\": { \"$ne\": \"\" }},\n",
    "         { \"metacritic\": { \"$ne\":\" null\" }}\n",
    "    ]}},\n",
    "    {\"$sort\": { \"metacritic\": -1 }},\n",
    "    {\"$limit\": 10},\n",
    "    {\"$project\": { \"_id\":0, \"title\": 1, \"imdb.rating\": 1, \"metacritic\": 1 }}\n",
    "])\n",
    "\n",
    "##############################################################################\"\n",
    "#NOW LETS MAKE IT BY THE RIGHT WAY\n",
    "###############################################################\"\"\n",
    "try:\n",
    "    top10Movies=mydb.movie.aggregate([\n",
    "    {\n",
    "        \"$match\": {\n",
    "            \"$and\": [\n",
    "                 { \"imdb.rating\": { \"$ne\": \"\" }},\n",
    "               { \"metacritic\": { \"$ne\": \"\" }},\n",
    "                { \"metacritic\": { \"$ne\": \"null\" }}\n",
    "                ]\n",
    "                 }\n",
    "    },\n",
    "    {\n",
    "        \"$project\": {\n",
    "            \"_id\":0,\n",
    "            \"title\": 1,\n",
    "            \"imdb.rating\": 1,\n",
    "            \"metacritic\": 1 }\n",
    "    },\n",
    "    {\n",
    "        \"$facet\": {\n",
    "        \"imdbTop10\": [{\"$sort\": { \"imdb.rating\": -1 }},\n",
    "                      {\"$limit\": 10},\n",
    "                      {\"$project\": {\"_id\": 0, \"title\": 1 }}],\n",
    "        \"metacriticTop10\": [{\"$sort\": { \"metacritic\": -1 }},\n",
    "                            {\"$limit\": 10},\n",
    "                            {\"$project\": { \"_id\":0, \"title\": 1 }}]\n",
    "    }},\n",
    "    {\n",
    "        \"$project\": {\n",
    "            \"movies_in_both\" : {\"$setIntersection\": [ \"$metacriticTop10\", \"$imdbTop10\"] }\n",
    "        }\n",
    "    }\n",
    "])\n",
    "\n",
    "    for m in top10Movies:\n",
    "        jsonMovie = json.dumps(m)\n",
    "        docMovie = json.loads(jsonMovie)\n",
    "        print(docMovie[\"movies_in_both\"])\n",
    "\n",
    "except Exception as e:\n",
    "    print(\"exception Occurred while operation \", e)\n",
    "finally:\n",
    "    print(\"Operation has been done !\")\n"
   ],
   "metadata": {
    "collapsed": false,
    "pycharm": {
     "name": "#%%How many movies are in both the top ten\n"
    }
   }
  },
  {
   "cell_type": "code",
   "execution_count": 19,
   "outputs": [
    {
     "ename": "OperationFailure",
     "evalue": "unknown operator: $getField, full error: {'ok': 0.0, 'errmsg': 'unknown operator: $getField', 'code': 2, 'codeName': 'BadValue'}",
     "output_type": "error",
     "traceback": [
      "\u001B[1;31m---------------------------------------------------------------------------\u001B[0m",
      "\u001B[1;31mOperationFailure\u001B[0m                          Traceback (most recent call last)",
      "\u001B[1;32mC:\\Users\\HAITHE~1\\AppData\\Local\\Temp/ipykernel_11168/2464567833.py\u001B[0m in \u001B[0;36m<module>\u001B[1;34m\u001B[0m\n\u001B[0;32m      5\u001B[0m \u001B[1;31m#Adding the {$explain: true} provides additional information, it reveals where indexes have been used.\u001B[0m\u001B[1;33m\u001B[0m\u001B[1;33m\u001B[0m\u001B[1;33m\u001B[0m\u001B[0m\n\u001B[0;32m      6\u001B[0m \u001B[1;33m\u001B[0m\u001B[0m\n\u001B[1;32m----> 7\u001B[1;33m all=mydb.movie.aggregate([\n\u001B[0m\u001B[0;32m      8\u001B[0m     {\"$match\": {\n\u001B[0;32m      9\u001B[0m         \"title\":{\"$getField\":{\"$regex\":'[aeiou]{3}'}}}\n",
      "\u001B[1;32mc:\\users\\haithem mihoubi\\pycharmprojects\\pythonproject\\venv\\lib\\site-packages\\pymongo\\collection.py\u001B[0m in \u001B[0;36maggregate\u001B[1;34m(self, pipeline, session, **kwargs)\u001B[0m\n\u001B[0;32m   2500\u001B[0m         \"\"\"\n\u001B[0;32m   2501\u001B[0m         \u001B[1;32mwith\u001B[0m \u001B[0mself\u001B[0m\u001B[1;33m.\u001B[0m\u001B[0m__database\u001B[0m\u001B[1;33m.\u001B[0m\u001B[0mclient\u001B[0m\u001B[1;33m.\u001B[0m\u001B[0m_tmp_session\u001B[0m\u001B[1;33m(\u001B[0m\u001B[0msession\u001B[0m\u001B[1;33m,\u001B[0m \u001B[0mclose\u001B[0m\u001B[1;33m=\u001B[0m\u001B[1;32mFalse\u001B[0m\u001B[1;33m)\u001B[0m \u001B[1;32mas\u001B[0m \u001B[0ms\u001B[0m\u001B[1;33m:\u001B[0m\u001B[1;33m\u001B[0m\u001B[1;33m\u001B[0m\u001B[0m\n\u001B[1;32m-> 2502\u001B[1;33m             return self._aggregate(_CollectionAggregationCommand,\n\u001B[0m\u001B[0;32m   2503\u001B[0m                                    \u001B[0mpipeline\u001B[0m\u001B[1;33m,\u001B[0m\u001B[1;33m\u001B[0m\u001B[1;33m\u001B[0m\u001B[0m\n\u001B[0;32m   2504\u001B[0m                                    \u001B[0mCommandCursor\u001B[0m\u001B[1;33m,\u001B[0m\u001B[1;33m\u001B[0m\u001B[1;33m\u001B[0m\u001B[0m\n",
      "\u001B[1;32mc:\\users\\haithem mihoubi\\pycharmprojects\\pythonproject\\venv\\lib\\site-packages\\pymongo\\collection.py\u001B[0m in \u001B[0;36m_aggregate\u001B[1;34m(self, aggregation_command, pipeline, cursor_class, session, explicit_session, **kwargs)\u001B[0m\n\u001B[0;32m   2417\u001B[0m             \u001B[0mself\u001B[0m\u001B[1;33m,\u001B[0m \u001B[0mcursor_class\u001B[0m\u001B[1;33m,\u001B[0m \u001B[0mpipeline\u001B[0m\u001B[1;33m,\u001B[0m \u001B[0mkwargs\u001B[0m\u001B[1;33m,\u001B[0m \u001B[0mexplicit_session\u001B[0m\u001B[1;33m,\u001B[0m\u001B[1;33m\u001B[0m\u001B[1;33m\u001B[0m\u001B[0m\n\u001B[0;32m   2418\u001B[0m             user_fields={'cursor': {'firstBatch': 1}}, use_cursor=use_cursor)\n\u001B[1;32m-> 2419\u001B[1;33m         return self.__database.client._retryable_read(\n\u001B[0m\u001B[0;32m   2420\u001B[0m             \u001B[0mcmd\u001B[0m\u001B[1;33m.\u001B[0m\u001B[0mget_cursor\u001B[0m\u001B[1;33m,\u001B[0m \u001B[0mcmd\u001B[0m\u001B[1;33m.\u001B[0m\u001B[0mget_read_preference\u001B[0m\u001B[1;33m(\u001B[0m\u001B[0msession\u001B[0m\u001B[1;33m)\u001B[0m\u001B[1;33m,\u001B[0m \u001B[0msession\u001B[0m\u001B[1;33m,\u001B[0m\u001B[1;33m\u001B[0m\u001B[1;33m\u001B[0m\u001B[0m\n\u001B[0;32m   2421\u001B[0m             retryable=not cmd._performs_write)\n",
      "\u001B[1;32mc:\\users\\haithem mihoubi\\pycharmprojects\\pythonproject\\venv\\lib\\site-packages\\pymongo\\mongo_client.py\u001B[0m in \u001B[0;36m_retryable_read\u001B[1;34m(self, func, read_pref, session, address, retryable)\u001B[0m\n\u001B[0;32m   1523\u001B[0m                         \u001B[1;31m# not support retryable reads, raise the last error.\u001B[0m\u001B[1;33m\u001B[0m\u001B[1;33m\u001B[0m\u001B[1;33m\u001B[0m\u001B[0m\n\u001B[0;32m   1524\u001B[0m                         \u001B[1;32mraise\u001B[0m \u001B[0mlast_error\u001B[0m\u001B[1;33m\u001B[0m\u001B[1;33m\u001B[0m\u001B[0m\n\u001B[1;32m-> 1525\u001B[1;33m                     \u001B[1;32mreturn\u001B[0m \u001B[0mfunc\u001B[0m\u001B[1;33m(\u001B[0m\u001B[0msession\u001B[0m\u001B[1;33m,\u001B[0m \u001B[0mserver\u001B[0m\u001B[1;33m,\u001B[0m \u001B[0msock_info\u001B[0m\u001B[1;33m,\u001B[0m \u001B[0msecondary_ok\u001B[0m\u001B[1;33m)\u001B[0m\u001B[1;33m\u001B[0m\u001B[1;33m\u001B[0m\u001B[0m\n\u001B[0m\u001B[0;32m   1526\u001B[0m             \u001B[1;32mexcept\u001B[0m \u001B[0mServerSelectionTimeoutError\u001B[0m\u001B[1;33m:\u001B[0m\u001B[1;33m\u001B[0m\u001B[1;33m\u001B[0m\u001B[0m\n\u001B[0;32m   1527\u001B[0m                 \u001B[1;32mif\u001B[0m \u001B[0mretrying\u001B[0m\u001B[1;33m:\u001B[0m\u001B[1;33m\u001B[0m\u001B[1;33m\u001B[0m\u001B[0m\n",
      "\u001B[1;32mc:\\users\\haithem mihoubi\\pycharmprojects\\pythonproject\\venv\\lib\\site-packages\\pymongo\\aggregation.py\u001B[0m in \u001B[0;36mget_cursor\u001B[1;34m(self, session, server, sock_info, secondary_ok)\u001B[0m\n\u001B[0;32m    135\u001B[0m \u001B[1;33m\u001B[0m\u001B[0m\n\u001B[0;32m    136\u001B[0m         \u001B[1;31m# Run command.\u001B[0m\u001B[1;33m\u001B[0m\u001B[1;33m\u001B[0m\u001B[1;33m\u001B[0m\u001B[0m\n\u001B[1;32m--> 137\u001B[1;33m         result = sock_info.command(\n\u001B[0m\u001B[0;32m    138\u001B[0m             \u001B[0mself\u001B[0m\u001B[1;33m.\u001B[0m\u001B[0m_database\u001B[0m\u001B[1;33m.\u001B[0m\u001B[0mname\u001B[0m\u001B[1;33m,\u001B[0m\u001B[1;33m\u001B[0m\u001B[1;33m\u001B[0m\u001B[0m\n\u001B[0;32m    139\u001B[0m             \u001B[0mcmd\u001B[0m\u001B[1;33m,\u001B[0m\u001B[1;33m\u001B[0m\u001B[1;33m\u001B[0m\u001B[0m\n",
      "\u001B[1;32mc:\\users\\haithem mihoubi\\pycharmprojects\\pythonproject\\venv\\lib\\site-packages\\pymongo\\pool.py\u001B[0m in \u001B[0;36mcommand\u001B[1;34m(self, dbname, spec, secondary_ok, read_preference, codec_options, check, allowable_errors, check_keys, read_concern, write_concern, parse_write_concern_error, collation, session, client, retryable_write, publish_events, user_fields, exhaust_allowed)\u001B[0m\n\u001B[0;32m    708\u001B[0m             \u001B[0mself\u001B[0m\u001B[1;33m.\u001B[0m\u001B[0m_raise_if_not_writable\u001B[0m\u001B[1;33m(\u001B[0m\u001B[0munacknowledged\u001B[0m\u001B[1;33m)\u001B[0m\u001B[1;33m\u001B[0m\u001B[1;33m\u001B[0m\u001B[0m\n\u001B[0;32m    709\u001B[0m         \u001B[1;32mtry\u001B[0m\u001B[1;33m:\u001B[0m\u001B[1;33m\u001B[0m\u001B[1;33m\u001B[0m\u001B[0m\n\u001B[1;32m--> 710\u001B[1;33m             return command(self, dbname, spec, secondary_ok,\n\u001B[0m\u001B[0;32m    711\u001B[0m                            \u001B[0mself\u001B[0m\u001B[1;33m.\u001B[0m\u001B[0mis_mongos\u001B[0m\u001B[1;33m,\u001B[0m \u001B[0mread_preference\u001B[0m\u001B[1;33m,\u001B[0m \u001B[0mcodec_options\u001B[0m\u001B[1;33m,\u001B[0m\u001B[1;33m\u001B[0m\u001B[1;33m\u001B[0m\u001B[0m\n\u001B[0;32m    712\u001B[0m                            \u001B[0msession\u001B[0m\u001B[1;33m,\u001B[0m \u001B[0mclient\u001B[0m\u001B[1;33m,\u001B[0m \u001B[0mcheck\u001B[0m\u001B[1;33m,\u001B[0m \u001B[0mallowable_errors\u001B[0m\u001B[1;33m,\u001B[0m\u001B[1;33m\u001B[0m\u001B[1;33m\u001B[0m\u001B[0m\n",
      "\u001B[1;32mc:\\users\\haithem mihoubi\\pycharmprojects\\pythonproject\\venv\\lib\\site-packages\\pymongo\\network.py\u001B[0m in \u001B[0;36mcommand\u001B[1;34m(sock_info, dbname, spec, secondary_ok, is_mongos, read_preference, codec_options, session, client, check, allowable_errors, address, check_keys, listeners, max_bson_size, read_concern, parse_write_concern_error, collation, compression_ctx, use_op_msg, unacknowledged, user_fields, exhaust_allowed)\u001B[0m\n\u001B[0;32m    159\u001B[0m                 \u001B[0mclient\u001B[0m\u001B[1;33m.\u001B[0m\u001B[0m_process_response\u001B[0m\u001B[1;33m(\u001B[0m\u001B[0mresponse_doc\u001B[0m\u001B[1;33m,\u001B[0m \u001B[0msession\u001B[0m\u001B[1;33m)\u001B[0m\u001B[1;33m\u001B[0m\u001B[1;33m\u001B[0m\u001B[0m\n\u001B[0;32m    160\u001B[0m             \u001B[1;32mif\u001B[0m \u001B[0mcheck\u001B[0m\u001B[1;33m:\u001B[0m\u001B[1;33m\u001B[0m\u001B[1;33m\u001B[0m\u001B[0m\n\u001B[1;32m--> 161\u001B[1;33m                 helpers._check_command_response(\n\u001B[0m\u001B[0;32m    162\u001B[0m                     \u001B[0mresponse_doc\u001B[0m\u001B[1;33m,\u001B[0m \u001B[0msock_info\u001B[0m\u001B[1;33m.\u001B[0m\u001B[0mmax_wire_version\u001B[0m\u001B[1;33m,\u001B[0m \u001B[0mallowable_errors\u001B[0m\u001B[1;33m,\u001B[0m\u001B[1;33m\u001B[0m\u001B[1;33m\u001B[0m\u001B[0m\n\u001B[0;32m    163\u001B[0m                     parse_write_concern_error=parse_write_concern_error)\n",
      "\u001B[1;32mc:\\users\\haithem mihoubi\\pycharmprojects\\pythonproject\\venv\\lib\\site-packages\\pymongo\\helpers.py\u001B[0m in \u001B[0;36m_check_command_response\u001B[1;34m(response, max_wire_version, allowable_errors, parse_write_concern_error)\u001B[0m\n\u001B[0;32m    165\u001B[0m         \u001B[1;32mraise\u001B[0m \u001B[0mCursorNotFound\u001B[0m\u001B[1;33m(\u001B[0m\u001B[0merrmsg\u001B[0m\u001B[1;33m,\u001B[0m \u001B[0mcode\u001B[0m\u001B[1;33m,\u001B[0m \u001B[0mresponse\u001B[0m\u001B[1;33m,\u001B[0m \u001B[0mmax_wire_version\u001B[0m\u001B[1;33m)\u001B[0m\u001B[1;33m\u001B[0m\u001B[1;33m\u001B[0m\u001B[0m\n\u001B[0;32m    166\u001B[0m \u001B[1;33m\u001B[0m\u001B[0m\n\u001B[1;32m--> 167\u001B[1;33m     \u001B[1;32mraise\u001B[0m \u001B[0mOperationFailure\u001B[0m\u001B[1;33m(\u001B[0m\u001B[0merrmsg\u001B[0m\u001B[1;33m,\u001B[0m \u001B[0mcode\u001B[0m\u001B[1;33m,\u001B[0m \u001B[0mresponse\u001B[0m\u001B[1;33m,\u001B[0m \u001B[0mmax_wire_version\u001B[0m\u001B[1;33m)\u001B[0m\u001B[1;33m\u001B[0m\u001B[1;33m\u001B[0m\u001B[0m\n\u001B[0m\u001B[0;32m    168\u001B[0m \u001B[1;33m\u001B[0m\u001B[0m\n\u001B[0;32m    169\u001B[0m \u001B[1;33m\u001B[0m\u001B[0m\n",
      "\u001B[1;31mOperationFailure\u001B[0m: unknown operator: $getField, full error: {'ok': 0.0, 'errmsg': 'unknown operator: $getField', 'code': 2, 'codeName': 'BadValue'}"
     ]
    }
   ],
   "source": [
    "#Use $match and $sort stages early on in the pipeline as this will take advantage of indexes.\n",
    "#Following looks for movies starting with a vowel (case-insensitive),\n",
    "#splits the title and counts how many words there are, groups\n",
    "# by the $title_size counting how many there are of each then sorts by descending order.\n",
    "#Adding the {$explain: true} provides additional information, it reveals where indexes have been used.\n",
    "\n",
    "all=mydb.movie.aggregate([\n",
    "    {\"$match\": {\n",
    "        \"title\":{\"$getField\":{\"$regex\":'[aeiou]{3}'}}}\n",
    "    },\n",
    "    {\"$project\": {\n",
    "        \"title_size\": { \"$size\": {\"$split\": [\"$title\", \" \"]}},}\n",
    "    },\n",
    "    {\"$group\": {\n",
    "        \"_id\": \"$title_size\",\n",
    "        \"count\": {\"$sum\": 1}\n",
    "    },},\n",
    "    {\"$sort\": {\"$count\": -1},\n",
    "    }\n",
    "])\n",
    "print(all)"
   ],
   "metadata": {
    "collapsed": false,
    "pycharm": {
     "name": "#%%\n"
    }
   }
  },
  {
   "cell_type": "code",
   "execution_count": 21,
   "outputs": [
    {
     "name": "stdout",
     "output_type": "stream",
     "text": [
      "aall the indexes {'_id_': {'v': 2, 'key': [('_id', 1)]}}\n"
     ]
    }
   ],
   "source": [
    "# it doesn'nt support pymongo so whe have to use index_information()\n",
    "indexes=mydb.movie.index_information()\n",
    "print('all the indexes oth th movie collection',indexes)"
   ],
   "metadata": {
    "collapsed": false,
    "pycharm": {
     "name": "#%% get all the indexes in mongodb by the methog getIndexes()\n"
    }
   }
  },
  {
   "cell_type": "code",
   "execution_count": 35,
   "outputs": [
    {
     "name": "stdout",
     "output_type": "stream",
     "text": [
      "{'executionSuccess': True, 'nReturned': 23530, 'executionTimeMillis': 70, 'totalKeysExamined': 23530, 'totalDocsExamined': 23530, 'executionStages': {'stage': 'FETCH', 'nReturned': 23530, 'executionTimeMillisEstimate': 10, 'works': 23531, 'advanced': 23530, 'needTime': 0, 'needYield': 0, 'saveState': 23, 'restoreState': 23, 'isEOF': 1, 'docsExamined': 23530, 'alreadyHasObj': 0, 'inputStage': {'stage': 'IXSCAN', 'filter': {'title': {'$type': [2]}}, 'nReturned': 23530, 'executionTimeMillisEstimate': 1, 'works': 23531, 'advanced': 23530, 'needTime': 0, 'needYield': 0, 'saveState': 23, 'restoreState': 23, 'isEOF': 1, 'keyPattern': {'title': 1}, 'indexName': 'title_1', 'isMultiKey': False, 'multiKeyPaths': {'title': []}, 'isUnique': False, 'isSparse': False, 'isPartial': False, 'indexVersion': 2, 'direction': 'forward', 'indexBounds': {'title': ['[\"\", {})']}, 'keysExamined': 23530, 'seeks': 1, 'dupsTested': 0, 'dupsDropped': 0}}, 'allPlansExecution': []}\n",
      "Operation has been done !\n"
     ]
    }
   ],
   "source": [
    "# Creating the  index n the title\n",
    "try:\n",
    "    mydb.movie.create_index('title')\n",
    "# Get indexes\n",
    "    mydb.movie.index_information()\n",
    "#check the execution status to  verify that  the index is giving a result in a high speed\n",
    "    print(mydb.movie.find({'title':{\"$type\":\"string\"}}).explain()['executionStats'])\n",
    "except Exception as e:\n",
    "    print(\"exception Occurred while operation \", e)\n",
    "finally:\n",
    "    print(\"Operation finished !\")"
   ],
   "metadata": {
    "collapsed": false,
    "pycharm": {
     "name": "#%% create in index for the hole collection called films\n"
    }
   }
  },
  {
   "cell_type": "code",
   "execution_count": 40,
   "outputs": [
    {
     "data": {
      "text/plain": "{'_id_': {'v': 2, 'key': [('_id', 1)]},\n 'film_1': {'v': 2, 'key': [('film', 1)]},\n 'films_1': {'v': 2, 'key': [('films', 1)]},\n 'title_1': {'v': 2, 'key': [('title', 1)]}}"
     },
     "execution_count": 40,
     "metadata": {},
     "output_type": "execute_result"
    }
   ],
   "source": [
    " #create a new index called year_founded_index on the movie table\n",
    "# Create new index\n",
    "mydb.movoe.create_index('year', name=\"year_founded_index\")\n",
    "# Get indexes\n",
    "mydb.movie.index_information()\n"
   ],
   "metadata": {
    "collapsed": false,
    "pycharm": {
     "name": "#%% MongBD indexes get all the indexes in the movie database\n"
    }
   }
  },
  {
   "cell_type": "code",
   "execution_count": 41,
   "outputs": [
    {
     "data": {
      "text/plain": "{'_id_': {'v': 2, 'key': [('_id', 1)]},\n 'title_1': {'v': 2, 'key': [('title', 1)]}}"
     },
     "execution_count": 41,
     "metadata": {},
     "output_type": "execute_result"
    }
   ],
   "source": [
    "mydb.movie.drop_index('film_1')\n",
    "mydb.movie.drop_index('films_1')\n",
    "# Get indexes\n",
    "mydb.movie.index_information()\n"
   ],
   "metadata": {
    "collapsed": false,
    "pycharm": {
     "name": "#%% drop the index called films_1 and film_1\n"
    }
   }
  },
  {
   "cell_type": "code",
   "execution_count": 43,
   "outputs": [
    {
     "data": {
      "text/plain": "{'_id_': {'v': 2, 'key': [('_id', 1)]}}"
     },
     "execution_count": 43,
     "metadata": {},
     "output_type": "execute_result"
    }
   ],
   "source": [
    "mydb.movie.drop_indexes()\n",
    "# Get indexes are removed\n",
    "mydb.movie.index_information()"
   ],
   "metadata": {
    "collapsed": false,
    "pycharm": {
     "name": "#%% Now let's drop all the indexes in the movie collection\n"
    }
   }
  },
  {
   "cell_type": "code",
   "execution_count": 46,
   "outputs": [
    {
     "name": "stdout",
     "output_type": "stream",
     "text": [
      "{'_id_': {'v': 2, 'key': [('_id', 1)]},\n",
      " 'type_plot': {'v': 2, 'key': [('type', 1), ('plot', 1)]}}\n"
     ]
    }
   ],
   "source": [
    "from IPython.lib.pretty import pprint\n",
    "\n",
    "# Create Compound index\n",
    "mydb.movie.create_index([('type',pymongo.ASCENDING),\n",
    "                            ('plot',pymongo.ASCENDING)],\n",
    "                            name='type_plot')\n",
    "# Get indexes\n",
    "pprint(mydb.movie.index_information())\n"
   ],
   "metadata": {
    "collapsed": false,
    "pycharm": {
     "name": "#%% Now we can create a compound index using the type and plot fields:\n"
    }
   }
  },
  {
   "cell_type": "code",
   "execution_count": null,
   "outputs": [],
   "source": [
    "# Drop previous indexes\n",
    "mydb.movie.drop_indexes()\n",
    "\n",
    "# Create text index\n",
    "mydb.movie.create_index([('plot', 'text')],\n",
    "                            name='plot_name')\n",
    "# List indexes\n",
    "pprint(mydb.movie.index_information())\n",
    "# Find one movie  with film word in their plot description\n",
    "try:\n",
    "    hep=mydb.movie.find(\n",
    "    {\n",
    "        \"$text\": {\"$search\": \"film\"}\n",
    "     },\n",
    "\n",
    ")\n",
    "    pprint(hep)\n",
    "\n",
    "except Exception as e:\n",
    "    print(\"exception Occurred while operation \", e)\n",
    "finally:\n",
    "    print(\"Operation has been done !\")"
   ],
   "metadata": {
    "collapsed": false,
    "pycharm": {
     "name": "#%%\n",
     "is_executing": true
    }
   }
  },
  {
   "cell_type": "code",
   "execution_count": null,
   "outputs": [],
   "source": [
    "import pandas as pd\n",
    "films= pd.read_csv(\"datasets/movies.csv\",index_col=0)\n",
    "films.to_html('movies.html')\n",
    "\n",
    "#Once you run this code,\n",
    "#a HTML file will be created named “movies.html” is located  the project directories\n",
    "# . You can directly copy the path of the file and paste it in your browser\n",
    "# which displays the data in a HTML format"
   ],
   "metadata": {
    "collapsed": false,
    "pycharm": {
     "name": "#%% Let's now play with the data using python data science libraries\n",
     "is_executing": true
    }
   }
  },
  {
   "cell_type": "code",
   "execution_count": null,
   "outputs": [],
   "source": [
    "# show a bar graph illustrates awards.nomination ,award.wins by year\n",
    "import pandas as pd\n",
    "import  pysd\n",
    "import matplotlib.pyplot as plt\n",
    "from matplotlib import style\n",
    "style.use('fivethirtyeight')\n",
    "films= pd.read_csv(\"datasets/movies.csv\",index_col=0)\n",
    "df= films.head()\n",
    "df= df.set_index([\"year\"])\n",
    "df.plot(kind=\"bar\")\n",
    "plt.legend()\n",
    "plt.xlabel('year')\n",
    "plt.ylabel('awards.wins')\n",
    "plt.title('Information')\n",
    "plt.legend()\n",
    "plt.grid(True,color='k')\n",
    "plt.show()"
   ],
   "metadata": {
    "collapsed": false,
    "pycharm": {
     "name": "#%%\n",
     "is_executing": true
    }
   }
  },
  {
   "cell_type": "code",
   "execution_count": null,
   "outputs": [],
   "source": [],
   "metadata": {
    "collapsed": false,
    "pycharm": {
     "name": "#%% using plotly show the rating pg ang G by the years\n",
     "is_executing": true
    }
   }
  }
 ],
 "metadata": {
  "kernelspec": {
   "display_name": "Python 3 (ipykernel)",
   "language": "python",
   "name": "python3"
  },
  "language_info": {
   "codemirror_mode": {
    "name": "ipython",
    "version": 3
   },
   "file_extension": ".py",
   "mimetype": "text/x-python",
   "name": "python",
   "nbconvert_exporter": "python",
   "pygments_lexer": "ipython3",
   "version": "3.9.6"
  }
 },
 "nbformat": 4,
 "nbformat_minor": 1
}